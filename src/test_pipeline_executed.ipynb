{
 "cells": [
  {
   "cell_type": "markdown",
   "id": "prototype-replication",
   "metadata": {},
   "source": [
    "# XGBoost Prototype Replication via Pipeline\n",
    "\n",
    "Replicates xgb_prototype.ipynb functionality using the current M5 benchmarking framework."
   ]
  },
  {
   "cell_type": "code",
   "execution_count": 1,
   "id": "imports-setup",
   "metadata": {
    "execution": {
     "iopub.execute_input": "2025-08-28T14:34:03.891846Z",
     "iopub.status.busy": "2025-08-28T14:34:03.891545Z",
     "iopub.status.idle": "2025-08-28T14:34:04.566342Z",
     "shell.execute_reply": "2025-08-28T14:34:04.566039Z"
    }
   },
   "outputs": [],
   "source": [
    "import sys\n",
    "from pathlib import Path\n",
    "import numpy as np\n",
    "\n",
    "# Add current directory to Python path for imports\n",
    "current_dir = Path.cwd()\n",
    "if str(current_dir.parent) not in sys.path:\n",
    "    sys.path.insert(0, str(current_dir.parent))\n",
    "\n",
    "from src import (\n",
    "    DataConfig, TrainingConfig, ModelingStrategy,\n",
    "    BenchmarkPipeline\n",
    ")\n",
    "\n",
    "np.random.seed(42)"
   ]
  },
  {
   "cell_type": "code",
   "execution_count": 2,
   "id": "config-pipeline",
   "metadata": {
    "execution": {
     "iopub.execute_input": "2025-08-28T14:34:04.567845Z",
     "iopub.status.busy": "2025-08-28T14:34:04.567713Z",
     "iopub.status.idle": "2025-08-28T14:34:04.878424Z",
     "shell.execute_reply": "2025-08-28T14:34:04.878025Z"
    }
   },
   "outputs": [
    {
     "data": {
      "text/html": [
       "\n",
       "            <div id=\"8fOCxN\"></div>\n",
       "            <script type=\"text/javascript\" data-lets-plot-script=\"library\">\n",
       "                if(!window.letsPlotCallQueue) {\n",
       "                    window.letsPlotCallQueue = [];\n",
       "                }; \n",
       "                window.letsPlotCall = function(f) {\n",
       "                    window.letsPlotCallQueue.push(f);\n",
       "                };\n",
       "                (function() {\n",
       "                    var script = document.createElement(\"script\");\n",
       "                    script.type = \"text/javascript\";\n",
       "                    script.src = \"https://cdn.jsdelivr.net/gh/JetBrains/lets-plot@v4.6.2/js-package/distr/lets-plot.min.js\";\n",
       "                    script.onload = function() {\n",
       "                        window.letsPlotCall = function(f) {f();};\n",
       "                        window.letsPlotCallQueue.forEach(function(f) {f();});\n",
       "                        window.letsPlotCallQueue = [];\n",
       "                        \n",
       "                    };\n",
       "                    script.onerror = function(event) {\n",
       "                        window.letsPlotCall = function(f) {};    // noop\n",
       "                        window.letsPlotCallQueue = [];\n",
       "                        var div = document.createElement(\"div\");\n",
       "                        div.style.color = 'darkred';\n",
       "                        div.textContent = 'Error loading Lets-Plot JS';\n",
       "                        document.getElementById(\"8fOCxN\").appendChild(div);\n",
       "                    };\n",
       "                    var e = document.getElementById(\"8fOCxN\");\n",
       "                    e.appendChild(script);\n",
       "                })()\n",
       "            </script>\n",
       "            "
      ]
     },
     "metadata": {},
     "output_type": "display_data"
    }
   ],
   "source": [
    "# Data configuration matching xgb_prototype paths\n",
    "data_config = DataConfig(\n",
    "    features_path=\"../data/processed/train_data_features.feather\",\n",
    "    target_path=\"../data/train_data_target.feather\",\n",
    "    mapping_path=\"../data/feature_mapping_train.pkl\",\n",
    "    validation_split=0.2  # Moved from TrainingConfig to DataConfig\n",
    ")\n",
    "\n",
    "# Training configuration with xgb_prototype optimized hyperparameters\n",
    "training_config = TrainingConfig(\n",
    "    random_state=42\n",
    ")\n",
    "\n",
    "# Add optimized hyperparameters from xgb_prototype\n",
    "training_config.add_model_config(\n",
    "    model_type=\"xgboost_standard\",\n",
    "    hyperparameters={\n",
    "        'n_estimators': 78,\n",
    "        'max_depth': 3,\n",
    "        'learning_rate': 0.06356393066232492,\n",
    "        'subsample': 0.8136751464901273,\n",
    "        'colsample_bytree': 0.820105725620293,\n",
    "        'reg_alpha': 4.979378780027597,\n",
    "        'reg_lambda': 6.663822635873432,\n",
    "        'random_state': 42\n",
    "    }\n",
    ")\n",
    "\n",
    "# Initialize pipeline\n",
    "pipeline = BenchmarkPipeline(\n",
    "    data_config=data_config,\n",
    "    training_config=training_config,\n",
    "    output_dir=Path(\"xgb_prototype_results\")\n",
    ")\n",
    "\n",
    "pipeline.load_and_prepare_data()"
   ]
  },
  {
   "cell_type": "code",
   "execution_count": 3,
   "id": "run-experiment",
   "metadata": {
    "execution": {
     "iopub.execute_input": "2025-08-28T14:34:04.880140Z",
     "iopub.status.busy": "2025-08-28T14:34:04.879977Z",
     "iopub.status.idle": "2025-08-28T14:34:06.593415Z",
     "shell.execute_reply": "2025-08-28T14:34:06.593138Z"
    }
   },
   "outputs": [],
   "source": [
    "# SKU tuple matching xgb_prototype: productID=80558, storeID=1331\n",
    "sku_tuples = [(80558, 1331),(81054,1334),(81054,1335)]\n",
    "\n",
    "# Train model using COMBINED strategy (single model)\n",
    "models = pipeline.run_experiment(\n",
    "    sku_tuples=sku_tuples,\n",
    "    modeling_strategy=ModelingStrategy.INDIVIDUAL,\n",
    "    experiment_name=\"xgb_prototype_replication\"\n",
    ")\n",
    "\n",
    "model = models[0]"
   ]
  },
  {
   "cell_type": "code",
   "execution_count": 4,
   "id": "results",
   "metadata": {
    "execution": {
     "iopub.execute_input": "2025-08-28T14:34:06.594705Z",
     "iopub.status.busy": "2025-08-28T14:34:06.594603Z",
     "iopub.status.idle": "2025-08-28T14:34:06.596480Z",
     "shell.execute_reply": "2025-08-28T14:34:06.596275Z"
    }
   },
   "outputs": [
    {
     "name": "stdout",
     "output_type": "stream",
     "text": [
      "Test Metrics - MSE: 1332.9290, RMSE: 36.5093, R²: 0.6167\n"
     ]
    }
   ],
   "source": [
    "# Display results matching xgb_prototype format\n",
    "metrics = model.metadata.performance_metrics\n",
    "print(f\"Test Metrics - MSE: {metrics['mse']:.4f}, RMSE: {metrics['rmse']:.4f}, R²: {metrics['r2']:.4f}\")"
   ]
  },
  {
   "cell_type": "code",
   "execution_count": 5,
   "id": "97d0c741",
   "metadata": {
    "execution": {
     "iopub.execute_input": "2025-08-28T14:34:06.597560Z",
     "iopub.status.busy": "2025-08-28T14:34:06.597489Z",
     "iopub.status.idle": "2025-08-28T14:34:06.599096Z",
     "shell.execute_reply": "2025-08-28T14:34:06.598884Z"
    }
   },
   "outputs": [
    {
     "name": "stdout",
     "output_type": "stream",
     "text": [
      "Test Metrics - MSE: 280.1838, RMSE: 16.7387, R²: 0.6036\n"
     ]
    }
   ],
   "source": [
    "model = models[1]\n",
    "metrics = model.metadata.performance_metrics\n",
    "print(f\"Test Metrics - MSE: {metrics['mse']:.4f}, RMSE: {metrics['rmse']:.4f}, R²: {metrics['r2']:.4f}\")"
   ]
  },
  {
   "cell_type": "code",
   "execution_count": 6,
   "id": "a5d01c2c",
   "metadata": {
    "execution": {
     "iopub.execute_input": "2025-08-28T14:34:06.600081Z",
     "iopub.status.busy": "2025-08-28T14:34:06.600009Z",
     "iopub.status.idle": "2025-08-28T14:34:06.601581Z",
     "shell.execute_reply": "2025-08-28T14:34:06.601401Z"
    }
   },
   "outputs": [
    {
     "name": "stdout",
     "output_type": "stream",
     "text": [
      "Test Metrics - MSE: 224.3976, RMSE: 14.9799, R²: 0.4630\n"
     ]
    }
   ],
   "source": [
    "model = models[2]\n",
    "metrics = model.metadata.performance_metrics\n",
    "print(f\"Test Metrics - MSE: {metrics['mse']:.4f}, RMSE: {metrics['rmse']:.4f}, R²: {metrics['r2']:.4f}\")"
   ]
  }
 ],
 "metadata": {
  "kernelspec": {
   "display_name": "ml_env",
   "language": "python",
   "name": "python3"
  },
  "language_info": {
   "codemirror_mode": {
    "name": "ipython",
    "version": 3
   },
   "file_extension": ".py",
   "mimetype": "text/x-python",
   "name": "python",
   "nbconvert_exporter": "python",
   "pygments_lexer": "ipython3",
   "version": "3.10.18"
  }
 },
 "nbformat": 4,
 "nbformat_minor": 5
}
