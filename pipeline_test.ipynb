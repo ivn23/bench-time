{
 "cells": [
  {
   "cell_type": "code",
   "execution_count": 7,
   "metadata": {},
   "outputs": [
    {
     "name": "stdout",
     "output_type": "stream",
     "text": [
      "/Users/ivn/Documents/PhD/Transformer Research/Code/Benchmarking\n"
     ]
    }
   ],
   "source": [
    "import sys\n",
    "from pathlib import Path\n",
    "import numpy as np\n",
    "import polars as pl\n",
    "import pickle\n",
    "\n",
    "current_dir = Path.cwd()\n",
    "if str(current_dir) not in sys.path:\n",
    "    sys.path.insert(0, str(current_dir))\n",
    "\n",
    "from src import (\n",
    "    DataConfig, DataLoader, ModelingStrategy, ReleaseManager, BenchmarkPipeline, create_config\n",
    ")\n",
    "\n",
    "np.random.seed(42)\n",
    "print(current_dir)"
   ]
  },
  {
   "cell_type": "code",
   "execution_count": 25,
   "metadata": {},
   "outputs": [
    {
     "name": "stdout",
     "output_type": "stream",
     "text": [
      "total unseen skus:  7634\n"
     ]
    }
   ],
   "source": [
    "data_path = \"/Users/ivn/Documents/PhD/Transformer Research/Code/Benchmarking/data/db_snapshot_offsite/train_data/processed/train_data_features.feather\"\n",
    "df_clean = pl.read_ipc(data_path)\n",
    "\n",
    "sku_tuples_complete = [(d['productID'], d['storeID']) for d in df_clean.select(pl.col(\"productID\"), pl.col(\"storeID\")).unique().to_dicts()]\n",
    "print(\"total unseen skus: \", len(sku_tuples_complete))"
   ]
  },
  {
   "cell_type": "code",
   "execution_count": null,
   "metadata": {},
   "outputs": [
    {
     "name": "stdout",
     "output_type": "stream",
     "text": [
      "total unseen skus:  7634\n"
     ]
    }
   ],
   "source": [
    "data_config = DataConfig(\n",
    "    mapping_path = 'data/feature_mapping_train.pkl',\n",
    "    features_path = \"/Users/ivn/Documents/PhD/Transformer Research/Code/Benchmarking/data/db_snapshot_offsite/train_data/processed/train_data_features.feather\",\n",
    "    target_path = \"/Users/ivn/Documents/PhD/Transformer Research/Code/Benchmarking/data/db_snapshot_offsite/train_data/train_data/train_data_target.feather\",\n",
    "    split_date=\"2016-01-01\",\n",
    ")\n",
    "\n",
    "sku_tuples=[(1912, 7), (377, 1), (715, 7)]\n",
    "\n",
    "quantiles = [0.5, 0.7, 0.9, 0.95, 0.99]\n",
    "pipeline = BenchmarkPipeline(data_config)"
   ]
  },
  {
   "cell_type": "code",
   "execution_count": 9,
   "metadata": {},
   "outputs": [
    {
     "name": "stderr",
     "output_type": "stream",
     "text": [
      "100%|██████████| 3/3 [00:00<00:00, 13.30it/s]\n",
      "Training models: 100%|██████████| 3/3 [00:01<00:00,  2.13it/s]\n"
     ]
    }
   ],
   "source": [
    "results_lightning_std = pipeline.run_experiment(\n",
    "    sku_tuples=sku_tuples,\n",
    "    modeling_strategy=ModelingStrategy.INDIVIDUAL,\n",
    "    model_type=\"xgboost_quantile\",\n",
    "    quantile_alphas=quantiles,\n",
    "    hyperparameters = {\n",
    "        \"eta\": 0.05,\n",
    "        \"max_depth\": 8,\n",
    "        \"min_child_weight\": 20,\n",
    "        \"subsample\": 0.8,\n",
    "        \"colsample_bytree\": 0.7,\n",
    "        \"gamma\": 1.0,   \n",
    "        \"lambda\": 10.0,\n",
    "        \"alpha\": 1.0,\n",
    "        \"tree_method\": \"hist\",\n",
    "        \"num_boost_round\": 100,\n",
    "        \"seed\": 42\n",
    "},\n",
    "    experiment_name=\"xgb_quantile_test\",\n",
    "    evaluate_on_test=True\n",
    ")"
   ]
  },
  {
   "cell_type": "code",
   "execution_count": 20,
   "metadata": {},
   "outputs": [
    {
     "name": "stdout",
     "output_type": "stream",
     "text": [
      "Model type: xgboost_quantile\n",
      "Strategy: individual\n",
      "SKU tuples: [(1912, 7)]\n",
      "Quantile level: 0.5\n",
      "quantile_score: N/A\n",
      "predictions: [-0. -0. -0. -0. -0. -0. -0. -0. -0. -0. -0. -0. -0. -0. -0. -0. -0. -0.\n",
      " -0. -0. -0. -0. -0. -0. -0. -0. -0. -0. -0. -0. -0. -0. -0. -0. -0. -0.\n",
      " -0. -0. -0. -0. -0. -0. -0. -0. -0. -0. -0. -0. -0. -0. -0. -0. -0. -0.\n",
      " -0. -0. -0. -0. -0. -0. -0. -0. -0. -0. -0. -0. -0. -0. -0. -0. -0. -0.\n",
      " -0. -0. -0. -0. -0. -0. -0. -0. -0. -0. -0. -0. -0. -0. -0. -0. -0. -0.\n",
      " -0. -0. -0. -0. -0. -0. -0. -0. -0. -0. -0. -0. -0. -0. -0. -0. -0. -0.\n",
      " -0. -0. -0. -0. -0. -0. -0. -0. -0. -0. -0. -0. -0. -0. -0. -0. -0. -0.\n",
      " -0. -0. -0. -0. -0. -0. -0. -0. -0. -0. -0. -0. -0. -0. -0. -0. -0.]\n",
      "overall stats: ----------------------------------------------------\n",
      "number of models trained: 15\n"
     ]
    }
   ],
   "source": [
    "sample_result_1 = results_lightning_std.training_results[0]\n",
    "print(f\"Model type: {sample_result_1.model_type}\")\n",
    "print(f\"Strategy: {sample_result_1.modeling_strategy.value}\")\n",
    "print(f\"SKU tuples: {sample_result_1.sku_tuples}\")\n",
    "print(f\"Quantile level: {sample_result_1.quantile_level}\")\n",
    "print(f\"quantile_score: {sample_result_1.performance_metrics.get('quantile_score', 'N/A')}\")\n",
    "print(f\"predictions: {sample_result_1.performance_metrics.get('predictions', 'N/A')}\")\n",
    "print(\"overall stats: ----------------------------------------------------\")\n",
    "print(f\"number of models trained: {len(results_lightning_std.training_results)}\")"
   ]
  },
  {
   "cell_type": "code",
   "execution_count": 21,
   "metadata": {},
   "outputs": [
    {
     "data": {
      "text/plain": [
       "{'quantile_losses': array([0. , 0. , 0. , 0. , 0. , 0. , 0. , 0. , 0. , 1. , 0. , 1. , 0. ,\n",
       "        0. , 0. , 0.5, 0. , 0. , 0. , 0. , 0. , 0. , 0.5, 0. , 0. , 0. ,\n",
       "        0. , 0.5, 0. , 0.5, 0. , 0. , 0. , 0. , 0. , 1. , 0. , 1. , 0. ,\n",
       "        0. , 0. , 0. , 0. , 0. , 0. , 0. , 0. , 0. , 0.5, 0. , 0. , 0. ,\n",
       "        0. , 0. , 0. , 0. , 0. , 0. , 0. , 0. , 0. , 0. , 0. , 0. , 0. ,\n",
       "        0. , 0.5, 0. , 0. , 0. , 0. , 0. , 0.5, 0. , 0.5, 0. , 0. , 0. ,\n",
       "        0. , 0. , 1. , 0. , 0. , 0. , 0. , 0. , 0. , 0. , 0. , 0. , 0. ,\n",
       "        0. , 0. , 0. , 0. , 0. , 0. , 0. , 0. , 0. , 0. , 0. , 0. , 0. ,\n",
       "        0. , 0. , 0. , 0. , 0. , 0.5, 0. , 0. , 0. , 0. , 0. , 0. , 0. ,\n",
       "        0.5, 0. , 0. , 0. , 0. , 0. , 0. , 0. , 0. , 0. , 0. , 0.5, 0. ,\n",
       "        0. , 0. , 0.5, 0. , 0. , 0. , 0. , 0. , 0. , 0. , 0. , 0. , 0. ]),\n",
       " 'predictions': array([-0., -0., -0., -0., -0., -0., -0., -0., -0., -0., -0., -0., -0.,\n",
       "        -0., -0., -0., -0., -0., -0., -0., -0., -0., -0., -0., -0., -0.,\n",
       "        -0., -0., -0., -0., -0., -0., -0., -0., -0., -0., -0., -0., -0.,\n",
       "        -0., -0., -0., -0., -0., -0., -0., -0., -0., -0., -0., -0., -0.,\n",
       "        -0., -0., -0., -0., -0., -0., -0., -0., -0., -0., -0., -0., -0.,\n",
       "        -0., -0., -0., -0., -0., -0., -0., -0., -0., -0., -0., -0., -0.,\n",
       "        -0., -0., -0., -0., -0., -0., -0., -0., -0., -0., -0., -0., -0.,\n",
       "        -0., -0., -0., -0., -0., -0., -0., -0., -0., -0., -0., -0., -0.,\n",
       "        -0., -0., -0., -0., -0., -0., -0., -0., -0., -0., -0., -0., -0.,\n",
       "        -0., -0., -0., -0., -0., -0., -0., -0., -0., -0., -0., -0., -0.,\n",
       "        -0., -0., -0., -0., -0., -0., -0., -0., -0., -0., -0., -0., -0.],\n",
       "       dtype=float32),\n",
       " 'mean_quantile_loss': np.float64(0.07692307692307693)}"
      ]
     },
     "execution_count": 21,
     "metadata": {},
     "output_type": "execute_result"
    }
   ],
   "source": [
    "sample_result_1.performance_metrics"
   ]
  },
  {
   "cell_type": "code",
   "execution_count": 9,
   "metadata": {},
   "outputs": [],
   "source": [
    "release_manager = ReleaseManager()\n",
    "output_dir = Path(\"./xgb_releases_2\")\n",
    "release_path = release_manager.create_complete_release(\n",
    "    experiment_results=results_lightning_std,  # Your ExperimentResults from pipeline\n",
    "    base_output_dir=output_dir\n",
    "  )"
   ]
  },
  {
   "cell_type": "markdown",
   "metadata": {},
   "source": [
    "# Check Data in pipeline and prototype for consistency"
   ]
  },
  {
   "cell_type": "code",
   "execution_count": 14,
   "metadata": {},
   "outputs": [],
   "source": [
    "sku = (715, 7)\n",
    "loader = DataLoader(data_config)\n",
    "loader.load_data(lazy=False)\n",
    "dataset = loader.prepare_modeling_dataset([sku], ModelingStrategy.INDIVIDUAL)"
   ]
  },
  {
   "cell_type": "code",
   "execution_count": 15,
   "metadata": {},
   "outputs": [],
   "source": [
    "loader = DataLoader(data_config)\n",
    "# Don't call load_data() at all - let prepare_modeling_dataset do it\n",
    "dataset = loader.prepare_modeling_dataset([sku], ModelingStrategy.INDIVIDUAL)"
   ]
  },
  {
   "cell_type": "code",
   "execution_count": 72,
   "metadata": {},
   "outputs": [],
   "source": [
    "# Access data\n",
    "X_train_pipeline = dataset.X_train\n",
    "y_train_pipeline = dataset.y_train\n",
    "X_test_pipeline = dataset.X_test\n",
    "y_test_pipeline = dataset.y_test"
   ]
  },
  {
   "cell_type": "code",
   "execution_count": null,
   "metadata": {},
   "outputs": [],
   "source": []
  },
  {
   "cell_type": "code",
   "execution_count": 22,
   "metadata": {},
   "outputs": [
    {
     "data": {
      "text/plain": [
       "(741, 132)"
      ]
     },
     "execution_count": 22,
     "metadata": {},
     "output_type": "execute_result"
    }
   ],
   "source": [
    "X_train_pipeline.shape"
   ]
  },
  {
   "cell_type": "code",
   "execution_count": 34,
   "metadata": {},
   "outputs": [],
   "source": [
    "\n",
    "# Data loading\n",
    "mapping_path = \"/Users/ivn/Documents/PhD/Transformer Research/Code/Benchmarking/data/feature_mapping_train.pkl\"\n",
    "features_path = \"/Users/ivn/Documents/PhD/Transformer Research/Code/Benchmarking/data/db_snapshot_offsite/train_data/processed/train_data_features.feather\"\n",
    "target_path = \"/Users/ivn/Documents/PhD/Transformer Research/Code/Benchmarking/data/db_snapshot_offsite/train_data/train_data/train_data_target.feather\"\n",
    "\n",
    "with open(mapping_path, 'rb') as f:\n",
    "    mapping = pickle.load(f)\n",
    "\n",
    "train_features = pl.read_ipc(features_path)\n",
    "train_target = pl.read_ipc(target_path)"
   ]
  },
  {
   "cell_type": "code",
   "execution_count": 35,
   "metadata": {},
   "outputs": [],
   "source": [
    "X = (train_features\n",
    "     .lazy()\n",
    "     .filter(pl.col('productID') == 715)\n",
    "     .filter(pl.col('storeID') == 7)\n",
    "     .drop_nulls()\n",
    "     .sort(\"date\",\"skuID\")\n",
    "     .collect())\n",
    "\n",
    "X_bdIDs = (X\n",
    "           .lazy()\n",
    "           .select('bdID')\n",
    "           .unique()\n",
    "           .collect()\n",
    "           .to_numpy()\n",
    "           .flatten())\n",
    "\n",
    "y = (train_target\n",
    "     .lazy()\n",
    "     .filter(pl.col(\"bdID\").is_in(X_bdIDs))\n",
    "     .join(\n",
    "         X.lazy().select(\"bdID\",\"skuID\"), \n",
    "         on=\"bdID\", \n",
    "         how=\"left\")\n",
    "     .sort(\"date\",\"skuID\")\n",
    "     .collect())"
   ]
  },
  {
   "cell_type": "code",
   "execution_count": 36,
   "metadata": {},
   "outputs": [],
   "source": [
    "split_date = pl.date(2016, 1, 1)\n",
    "X_train = X.filter(pl.col(\"date\") < split_date)\n",
    "X_test = X.filter(pl.col(\"date\") >= split_date)\n",
    "y_train = y.filter(pl.col(\"date\") < split_date)\n",
    "y_test = y.filter(pl.col(\"date\") >= split_date)"
   ]
  },
  {
   "cell_type": "code",
   "execution_count": 37,
   "metadata": {},
   "outputs": [],
   "source": [
    "meta_cols = ['frequency',\n",
    " 'idx',\n",
    " 'bdID',\n",
    " 'base_date',\n",
    " 'date',\n",
    " 'dateID',\n",
    " 'skuID',\n",
    " 'productID',\n",
    " 'storeID',\n",
    " 'companyID',\n",
    " 'is_daily',\n",
    " 'missing_value',\n",
    " 'not_for_sale',\n",
    " 'name',\n",
    " 'name-2']"
   ]
  },
  {
   "cell_type": "code",
   "execution_count": 38,
   "metadata": {},
   "outputs": [],
   "source": [
    "# Explicitly set dtype to float64 for all arrays\n",
    "X_train = (X_train\n",
    "            .sort(\"date\",\"skuID\")\n",
    "            .select(pl.selectors.exclude(meta_cols)))\n",
    "\n",
    "y_train = (y_train\n",
    "            .sort(\"date\",\"skuID\")\n",
    "            .select(\"target\")\n",
    "            .to_numpy())  # Also flatten to ensure 1D\n",
    "\n",
    "X_test = (X_test\n",
    "        .sort(\"date\",\"skuID\")\n",
    "        .select(pl.selectors.exclude(meta_cols)))\n",
    "\n",
    "y_test = (y_test\n",
    "        .sort(\"date\",\"skuID\")\n",
    "        .select(\"target\"))"
   ]
  },
  {
   "cell_type": "code",
   "execution_count": null,
   "metadata": {},
   "outputs": [
    {
     "name": "stdout",
     "output_type": "stream",
     "text": [
      "Train set shape test:    True\n",
      "Train label shape test:  True\n",
      "------------------------------\n",
      "Test set shape test:   True\n",
      "Test label shape test: True\n"
     ]
    }
   ],
   "source": [
    "#wrap them into print statements to see the output\n",
    "print(\"Train set shape test:   \", X_train.shape == X_train_pipeline.shape )\n",
    "print(\"Train label shape test: \", y_train.shape == y_train_pipeline.shape )\n",
    "print(30*\"-\")\n",
    "print(\"Test set shape test:  \", X_test.shape == X_test_pipeline.shape )\n",
    "print(\"Test label shape test:\", y_test.shape == y_test_pipeline.shape ) "
   ]
  },
  {
   "cell_type": "code",
   "execution_count": null,
   "metadata": {},
   "outputs": [
    {
     "name": "stdout",
     "output_type": "stream",
     "text": [
      "Training set check:     True\n",
      "Training label check:   True\n",
      "------------------------------\n",
      "Test set check:    True\n",
      "Test label check:  True\n"
     ]
    }
   ],
   "source": [
    "#test if prototype and pipeline data are the same\n",
    "print(\"Training set check:    \", (X_train == X_train_pipeline).to_numpy().all())\n",
    "print(\"Training label check:  \",(y_train == y_train_pipeline).all())\n",
    "print(30*\"-\")\n",
    "print(\"Test set check:   \", (X_test == X_test_pipeline).to_numpy().all())\n",
    "print(\"Test label check: \",(y_test == y_test).to_numpy().all())  "
   ]
  },
  {
   "cell_type": "markdown",
   "metadata": {},
   "source": [
    "# Test Hyperparameter mode"
   ]
  },
  {
   "cell_type": "markdown",
   "metadata": {},
   "source": [
    "## Test Tune Run"
   ]
  },
  {
   "cell_type": "code",
   "execution_count": 10,
   "metadata": {},
   "outputs": [
    {
     "data": {
      "text/plain": [
       "7634"
      ]
     },
     "execution_count": 10,
     "metadata": {},
     "output_type": "execute_result"
    }
   ],
   "source": [
    "data_path = \"/Users/ivn/Documents/PhD/Transformer Research/Code/Benchmarking/data/db_snapshot_offsite/train_data/processed/train_data_features.feather\"\n",
    "df_clean = pl.read_ipc(data_path)\n",
    "\n",
    "sku_tuples = [(d['productID'], d['storeID']) for d in df_clean.select(pl.col(\"productID\"), pl.col(\"storeID\")).unique().to_dicts()]\n",
    "len(sku_tuples)"
   ]
  },
  {
   "cell_type": "code",
   "execution_count": 11,
   "metadata": {},
   "outputs": [],
   "source": [
    "data_config = DataConfig(\n",
    "    mapping_path = 'data/feature_mapping_train.pkl',\n",
    "    features_path = \"/Users/ivn/Documents/PhD/Transformer Research/Code/Benchmarking/data/db_snapshot_offsite/train_data/processed/train_data_features.feather\",\n",
    "    target_path = \"/Users/ivn/Documents/PhD/Transformer Research/Code/Benchmarking/data/db_snapshot_offsite/train_data/train_data/train_data_target.feather\",\n",
    "    split_date=\"2016-01-01\",\n",
    ")\n",
    "\n",
    "pipeline = BenchmarkPipeline(data_config)"
   ]
  },
  {
   "cell_type": "code",
   "execution_count": null,
   "metadata": {},
   "outputs": [
    {
     "name": "stderr",
     "output_type": "stream",
     "text": [
      "[I 2025-10-12 11:35:00,938] A new study created in memory with name: no-name-7003e709-a98f-40b2-86fb-b8ba2eb03329\n",
      "Best trial: 0. Best value: 0.452842:   1%|          | 1/100 [01:24<2:19:57, 84.83s/it]"
     ]
    },
    {
     "name": "stdout",
     "output_type": "stream",
     "text": [
      "[I 2025-10-12 11:36:25,771] Trial 0 finished with value: 0.4528419431700338 and parameters: {'eta': 0.11861663446573512, 'max_depth': 10, 'min_child_weight': 22, 'subsample': 0.8394633936788146, 'colsample_bytree': 0.6624074561769746, 'gamma': 0.7799726016810132, 'reg_alpha': 0.5808361216819946, 'reg_lambda': 8.675143843171858, 'n_estimators': 200}. Best is trial 0 with value: 0.4528419431700338.\n"
     ]
    },
    {
     "name": "stderr",
     "output_type": "stream",
     "text": [
      "Best trial: 0. Best value: 0.452842:   2%|▏         | 2/100 [02:10<1:41:06, 61.91s/it]"
     ]
    },
    {
     "name": "stdout",
     "output_type": "stream",
     "text": [
      "[I 2025-10-12 11:37:11,632] Trial 1 finished with value: 0.4616433346930238 and parameters: {'eta': 0.21534104756085318, 'max_depth': 3, 'min_child_weight': 30, 'subsample': 0.9329770563201687, 'colsample_bytree': 0.6849356442713105, 'gamma': 0.9091248360355031, 'reg_alpha': 1.8340450985343382, 'reg_lambda': 3.1119982052994235, 'n_estimators': 181}. Best is trial 0 with value: 0.4528419431700338.\n"
     ]
    },
    {
     "name": "stderr",
     "output_type": "stream",
     "text": [
      "Best trial: 0. Best value: 0.452842:   3%|▎         | 3/100 [02:46<1:20:27, 49.76s/it]"
     ]
    },
    {
     "name": "stdout",
     "output_type": "stream",
     "text": [
      "[I 2025-10-12 11:37:46,948] Trial 2 finished with value: 0.48794385157721887 and parameters: {'eta': 0.13526405540621356, 'max_depth': 5, 'min_child_weight': 19, 'subsample': 0.6557975442608167, 'colsample_bytree': 0.7168578594140872, 'gamma': 1.8318092164684585, 'reg_alpha': 4.56069984217036, 'reg_lambda': 7.873242017790835, 'n_estimators': 100}. Best is trial 0 with value: 0.4528419431700338.\n"
     ]
    },
    {
     "name": "stderr",
     "output_type": "stream",
     "text": [
      "Best trial: 3. Best value: 0.442757:   4%|▍         | 4/100 [04:13<1:43:44, 64.84s/it]"
     ]
    },
    {
     "name": "stdout",
     "output_type": "stream",
     "text": [
      "[I 2025-10-12 11:39:14,888] Trial 3 finished with value: 0.44275745890320295 and parameters: {'eta': 0.15912798713994736, 'max_depth': 7, 'min_child_weight': 2, 'subsample': 0.8430179407605753, 'colsample_bytree': 0.6682096494749166, 'gamma': 0.3252579649263976, 'reg_alpha': 9.488855372533333, 'reg_lambda': 9.659757127438137, 'n_estimators': 252}. Best is trial 3 with value: 0.44275745890320295.\n"
     ]
    },
    {
     "name": "stderr",
     "output_type": "stream",
     "text": [
      "Best trial: 3. Best value: 0.442757:   5%|▌         | 5/100 [04:49<1:25:54, 54.26s/it]"
     ]
    },
    {
     "name": "stdout",
     "output_type": "stream",
     "text": [
      "[I 2025-10-12 11:39:50,404] Trial 4 finished with value: 0.5084042905049302 and parameters: {'eta': 0.09833799306027749, 'max_depth': 3, 'min_child_weight': 21, 'subsample': 0.7760609974958405, 'colsample_bytree': 0.6488152939379115, 'gamma': 2.475884550556351, 'reg_alpha': 0.34388521115218396, 'reg_lambda': 9.102271980579943, 'n_estimators': 114}. Best is trial 3 with value: 0.44275745890320295.\n"
     ]
    },
    {
     "name": "stderr",
     "output_type": "stream",
     "text": [
      "Best trial: 3. Best value: 0.442757:   6%|▌         | 6/100 [06:09<1:38:57, 63.17s/it]"
     ]
    },
    {
     "name": "stdout",
     "output_type": "stream",
     "text": [
      "[I 2025-10-12 11:41:10,855] Trial 5 finished with value: 0.44422146290007536 and parameters: {'eta': 0.20213146246265476, 'max_depth': 5, 'min_child_weight': 16, 'subsample': 0.8186841117373118, 'colsample_bytree': 0.6739417822102108, 'gamma': 4.847923138822793, 'reg_alpha': 7.7513282336111455, 'reg_lambda': 9.401039521485473, 'n_estimators': 274}. Best is trial 3 with value: 0.44275745890320295.\n"
     ]
    },
    {
     "name": "stderr",
     "output_type": "stream",
     "text": [
      "Best trial: 6. Best value: 0.438408:   7%|▋         | 7/100 [07:58<2:01:04, 78.11s/it]"
     ]
    },
    {
     "name": "stdout",
     "output_type": "stream",
     "text": [
      "[I 2025-10-12 11:42:59,737] Trial 6 finished with value: 0.4384084968464511 and parameters: {'eta': 0.18339099385521468, 'max_depth': 10, 'min_child_weight': 3, 'subsample': 0.678393144967658, 'colsample_bytree': 0.6180909155642152, 'gamma': 1.6266516538163218, 'reg_alpha': 3.8867728968948203, 'reg_lambda': 2.7863554145615694, 'n_estimators': 258}. Best is trial 6 with value: 0.4384084968464511.\n"
     ]
    },
    {
     "name": "stderr",
     "output_type": "stream",
     "text": [
      "Best trial: 6. Best value: 0.438408:   8%|▊         | 8/100 [08:35<1:39:43, 65.04s/it]"
     ]
    },
    {
     "name": "stdout",
     "output_type": "stream",
     "text": [
      "[I 2025-10-12 11:43:36,778] Trial 7 finished with value: 0.4963594071653696 and parameters: {'eta': 0.11345846474114088, 'max_depth': 5, 'min_child_weight': 17, 'subsample': 0.6563696899899051, 'colsample_bytree': 0.9208787923016158, 'gamma': 0.3727532183988541, 'reg_alpha': 9.868869366005173, 'reg_lambda': 7.7452232160369086, 'n_estimators': 99}. Best is trial 6 with value: 0.4384084968464511.\n"
     ]
    },
    {
     "name": "stderr",
     "output_type": "stream",
     "text": [
      "Best trial: 6. Best value: 0.438408:   9%|▉         | 9/100 [10:35<2:04:42, 82.22s/it]"
     ]
    },
    {
     "name": "stdout",
     "output_type": "stream",
     "text": [
      "[I 2025-10-12 11:45:36,793] Trial 8 finished with value: 0.5602523371906409 and parameters: {'eta': 0.011601413965844696, 'max_depth': 9, 'min_child_weight': 22, 'subsample': 0.8916028672163949, 'colsample_bytree': 0.9085081386743783, 'gamma': 0.3702232586704518, 'reg_alpha': 3.5846572854427263, 'reg_lambda': 1.2471036892987841, 'n_estimators': 266}. Best is trial 6 with value: 0.4384084968464511.\n"
     ]
    },
    {
     "name": "stderr",
     "output_type": "stream",
     "text": [
      "Best trial: 6. Best value: 0.438408:  10%|█         | 10/100 [11:29<1:50:12, 73.47s/it]"
     ]
    },
    {
     "name": "stdout",
     "output_type": "stream",
     "text": [
      "[I 2025-10-12 11:46:30,662] Trial 9 finished with value: 0.45468062353809113 and parameters: {'eta': 0.19075645677999178, 'max_depth': 5, 'min_child_weight': 2, 'subsample': 0.7243929286862648, 'colsample_bytree': 0.7300733288106988, 'gamma': 3.64803089169032, 'reg_alpha': 6.3755747135521315, 'reg_lambda': 8.883406151505634, 'n_estimators': 168}. Best is trial 6 with value: 0.4384084968464511.\n"
     ]
    },
    {
     "name": "stderr",
     "output_type": "stream",
     "text": [
      "Best trial: 6. Best value: 0.438408:  11%|█         | 11/100 [12:58<1:55:54, 78.14s/it]"
     ]
    },
    {
     "name": "stdout",
     "output_type": "stream",
     "text": [
      "[I 2025-10-12 11:47:59,404] Trial 10 finished with value: 0.44221940931995835 and parameters: {'eta': 0.2865051807104727, 'max_depth': 8, 'min_child_weight': 8, 'subsample': 0.6071847502459278, 'colsample_bytree': 0.8262452362725613, 'gamma': 1.8088378301924768, 'reg_alpha': 2.676826887123714, 'reg_lambda': 3.9852836318160607, 'n_estimators': 218}. Best is trial 6 with value: 0.4384084968464511.\n"
     ]
    },
    {
     "name": "stderr",
     "output_type": "stream",
     "text": [
      "Best trial: 6. Best value: 0.438408:  12%|█▏        | 12/100 [14:27<1:59:26, 81.44s/it]"
     ]
    },
    {
     "name": "stdout",
     "output_type": "stream",
     "text": [
      "[I 2025-10-12 11:49:28,380] Trial 11 finished with value: 0.44247473962703304 and parameters: {'eta': 0.2989948525503298, 'max_depth': 8, 'min_child_weight': 8, 'subsample': 0.6105733875603306, 'colsample_bytree': 0.8222008072142497, 'gamma': 1.8658427617517428, 'reg_alpha': 3.0729661211684864, 'reg_lambda': 4.774163193237885, 'n_estimators': 227}. Best is trial 6 with value: 0.4384084968464511.\n"
     ]
    },
    {
     "name": "stderr",
     "output_type": "stream",
     "text": [
      "Best trial: 6. Best value: 0.438408:  13%|█▎        | 13/100 [16:23<2:13:10, 91.84s/it]"
     ]
    },
    {
     "name": "stdout",
     "output_type": "stream",
     "text": [
      "[I 2025-10-12 11:51:24,150] Trial 12 finished with value: 0.4396694060539817 and parameters: {'eta': 0.285267792722722, 'max_depth': 10, 'min_child_weight': 9, 'subsample': 0.602822975090678, 'colsample_bytree': 0.8027936026422099, 'gamma': 1.7669806916348032, 'reg_alpha': 5.396201068027976, 'reg_lambda': 3.3743545534311448, 'n_estimators': 299}. Best is trial 6 with value: 0.4384084968464511.\n"
     ]
    },
    {
     "name": "stderr",
     "output_type": "stream",
     "text": [
      "Best trial: 6. Best value: 0.438408:  14%|█▍        | 14/100 [18:20<2:22:40, 99.54s/it]"
     ]
    },
    {
     "name": "stdout",
     "output_type": "stream",
     "text": [
      "[I 2025-10-12 11:53:21,482] Trial 13 finished with value: 0.43960662937550204 and parameters: {'eta': 0.2568474073359651, 'max_depth': 10, 'min_child_weight': 9, 'subsample': 0.7195446508493587, 'colsample_bytree': 0.7700175642960592, 'gamma': 3.1715300613956487, 'reg_alpha': 5.695601045698178, 'reg_lambda': 1.9412463399305941, 'n_estimators': 300}. Best is trial 6 with value: 0.4384084968464511.\n"
     ]
    },
    {
     "name": "stderr",
     "output_type": "stream",
     "text": [
      "Best trial: 6. Best value: 0.438408:  15%|█▌        | 15/100 [20:28<2:33:16, 108.19s/it]"
     ]
    },
    {
     "name": "stdout",
     "output_type": "stream",
     "text": [
      "[I 2025-10-12 11:55:29,725] Trial 14 finished with value: 0.43921477128825426 and parameters: {'eta': 0.24477401361112852, 'max_depth': 9, 'min_child_weight': 11, 'subsample': 0.7253815927393559, 'colsample_bytree': 0.9984224559304664, 'gamma': 3.387576625731247, 'reg_alpha': 6.972223640380469, 'reg_lambda': 1.1924960239933782, 'n_estimators': 287}. Best is trial 6 with value: 0.4384084968464511.\n"
     ]
    },
    {
     "name": "stderr",
     "output_type": "stream",
     "text": [
      "Best trial: 6. Best value: 0.438408:  16%|█▌        | 16/100 [22:16<2:31:12, 108.01s/it]"
     ]
    },
    {
     "name": "stdout",
     "output_type": "stream",
     "text": [
      "[I 2025-10-12 11:57:17,308] Trial 15 finished with value: 0.4419792914063387 and parameters: {'eta': 0.2461634873429259, 'max_depth': 9, 'min_child_weight': 12, 'subsample': 0.7495910822966338, 'colsample_bytree': 0.9800362103913514, 'gamma': 3.770691017762034, 'reg_alpha': 7.21276946586524, 'reg_lambda': 0.1836259997303964, 'n_estimators': 247}. Best is trial 6 with value: 0.4384084968464511.\n"
     ]
    },
    {
     "name": "stderr",
     "output_type": "stream",
     "text": [
      "Best trial: 6. Best value: 0.438408:  17%|█▋        | 17/100 [22:44<1:56:14, 84.03s/it] "
     ]
    },
    {
     "name": "stdout",
     "output_type": "stream",
     "text": [
      "[I 2025-10-12 11:57:45,575] Trial 16 finished with value: 0.5096555456938578 and parameters: {'eta': 0.167861377062547, 'max_depth': 8, 'min_child_weight': 1, 'subsample': 0.9918585998724916, 'colsample_bytree': 0.6028913625119565, 'gamma': 4.734024632067817, 'reg_alpha': 8.466833162869257, 'reg_lambda': 5.640197341658157, 'n_estimators': 53}. Best is trial 6 with value: 0.4384084968464511.\n"
     ]
    },
    {
     "name": "stderr",
     "output_type": "stream",
     "text": [
      "Best trial: 6. Best value: 0.438408:  18%|█▊        | 18/100 [24:40<2:07:48, 93.52s/it]"
     ]
    },
    {
     "name": "stdout",
     "output_type": "stream",
     "text": [
      "[I 2025-10-12 11:59:41,193] Trial 17 finished with value: 0.4597249156509453 and parameters: {'eta': 0.07185216733302546, 'max_depth': 9, 'min_child_weight': 5, 'subsample': 0.6844060902444213, 'colsample_bytree': 0.875869770084707, 'gamma': 2.7004751005679695, 'reg_alpha': 4.519447588397946, 'reg_lambda': 2.2642687150436425, 'n_estimators': 281}. Best is trial 6 with value: 0.4384084968464511.\n"
     ]
    },
    {
     "name": "stderr",
     "output_type": "stream",
     "text": [
      "Best trial: 6. Best value: 0.438408:  19%|█▉        | 19/100 [25:40<1:52:56, 83.66s/it]"
     ]
    },
    {
     "name": "stdout",
     "output_type": "stream",
     "text": [
      "[I 2025-10-12 12:00:41,877] Trial 18 finished with value: 0.44847454250613933 and parameters: {'eta': 0.22167182376547018, 'max_depth': 7, 'min_child_weight': 12, 'subsample': 0.6908548321030062, 'colsample_bytree': 0.9450182477255727, 'gamma': 4.134336554829186, 'reg_alpha': 6.52884669305887, 'reg_lambda': 0.6228950591348557, 'n_estimators': 150}. Best is trial 6 with value: 0.4384084968464511.\n"
     ]
    },
    {
     "name": "stderr",
     "output_type": "stream",
     "text": [
      "Best trial: 6. Best value: 0.438408:  20%|██        | 20/100 [27:21<1:58:17, 88.72s/it]"
     ]
    },
    {
     "name": "stdout",
     "output_type": "stream",
     "text": [
      "[I 2025-10-12 12:02:22,398] Trial 19 finished with value: 0.44160695923459414 and parameters: {'eta': 0.24187260283278683, 'max_depth': 9, 'min_child_weight': 5, 'subsample': 0.779566736804495, 'colsample_bytree': 0.991700506275759, 'gamma': 2.5694057876825567, 'reg_alpha': 8.42164853353546, 'reg_lambda': 6.463377999410523, 'n_estimators': 229}. Best is trial 6 with value: 0.4384084968464511.\n"
     ]
    },
    {
     "name": "stderr",
     "output_type": "stream",
     "text": [
      "Best trial: 6. Best value: 0.438408:  21%|██        | 21/100 [28:43<1:54:18, 86.82s/it]"
     ]
    },
    {
     "name": "stdout",
     "output_type": "stream",
     "text": [
      "[I 2025-10-12 12:03:44,773] Trial 20 finished with value: 0.44427601427041424 and parameters: {'eta': 0.18247671702202922, 'max_depth': 6, 'min_child_weight': 13, 'subsample': 0.658454630492384, 'colsample_bytree': 0.8651250666290947, 'gamma': 1.2003924643686867, 'reg_alpha': 1.766039300048564, 'reg_lambda': 1.9802127957778888, 'n_estimators': 245}. Best is trial 6 with value: 0.4384084968464511.\n"
     ]
    },
    {
     "name": "stderr",
     "output_type": "stream",
     "text": [
      "Best trial: 6. Best value: 0.438408:  22%|██▏       | 22/100 [30:36<2:02:50, 94.49s/it]"
     ]
    },
    {
     "name": "stdout",
     "output_type": "stream",
     "text": [
      "[I 2025-10-12 12:05:37,174] Trial 21 finished with value: 0.4390185725550408 and parameters: {'eta': 0.2553644321745277, 'max_depth': 10, 'min_child_weight': 5, 'subsample': 0.7208090165284129, 'colsample_bytree': 0.7524421030628726, 'gamma': 3.1969640091564955, 'reg_alpha': 5.587970627217192, 'reg_lambda': 2.029801934602764, 'n_estimators': 298}. Best is trial 6 with value: 0.4384084968464511.\n"
     ]
    },
    {
     "name": "stderr",
     "output_type": "stream",
     "text": [
      "Best trial: 22. Best value: 0.438153:  23%|██▎       | 23/100 [32:17<2:03:56, 96.57s/it]"
     ]
    },
    {
     "name": "stdout",
     "output_type": "stream",
     "text": [
      "[I 2025-10-12 12:07:18,599] Trial 22 finished with value: 0.4381525716649186 and parameters: {'eta': 0.2630361615689313, 'max_depth': 10, 'min_child_weight': 5, 'subsample': 0.7375558523594145, 'colsample_bytree': 0.6092004079443046, 'gamma': 2.9355301549512403, 'reg_alpha': 4.279654680717649, 'reg_lambda': 1.167571001929038, 'n_estimators': 279}. Best is trial 22 with value: 0.4381525716649186.\n"
     ]
    },
    {
     "name": "stderr",
     "output_type": "stream",
     "text": [
      "Best trial: 22. Best value: 0.438153:  24%|██▍       | 24/100 [33:56<2:03:07, 97.21s/it]"
     ]
    },
    {
     "name": "stdout",
     "output_type": "stream",
     "text": [
      "[I 2025-10-12 12:08:57,291] Trial 23 finished with value: 0.4388448943822684 and parameters: {'eta': 0.26319398043885167, 'max_depth': 10, 'min_child_weight': 5, 'subsample': 0.7599591899797653, 'colsample_bytree': 0.608649757790914, 'gamma': 3.0186486455935717, 'reg_alpha': 3.9836394867988054, 'reg_lambda': 2.7303137836052196, 'n_estimators': 265}. Best is trial 22 with value: 0.4381525716649186.\n"
     ]
    },
    {
     "name": "stderr",
     "output_type": "stream",
     "text": [
      "Best trial: 22. Best value: 0.438153:  25%|██▌       | 25/100 [35:34<2:01:53, 97.51s/it]"
     ]
    },
    {
     "name": "stdout",
     "output_type": "stream",
     "text": [
      "[I 2025-10-12 12:10:35,511] Trial 24 finished with value: 0.43861658597892417 and parameters: {'eta': 0.2683820486531633, 'max_depth': 10, 'min_child_weight': 4, 'subsample': 0.7670426474619723, 'colsample_bytree': 0.607163285544616, 'gamma': 2.308761031025184, 'reg_alpha': 3.7818840597472216, 'reg_lambda': 2.8594804408807626, 'n_estimators': 259}. Best is trial 22 with value: 0.4381525716649186.\n"
     ]
    },
    {
     "name": "stderr",
     "output_type": "stream",
     "text": [
      "Best trial: 22. Best value: 0.438153:  26%|██▌       | 26/100 [36:52<1:52:59, 91.61s/it]"
     ]
    },
    {
     "name": "stdout",
     "output_type": "stream",
     "text": [
      "[I 2025-10-12 12:11:53,357] Trial 25 finished with value: 0.44203703477017164 and parameters: {'eta': 0.22044773298944154, 'max_depth': 8, 'min_child_weight': 3, 'subsample': 0.7932673315689218, 'colsample_bytree': 0.6316673543507325, 'gamma': 2.3615435543035694, 'reg_alpha': 2.2731375258208173, 'reg_lambda': 4.183471336753737, 'n_estimators': 200}. Best is trial 22 with value: 0.4381525716649186.\n"
     ]
    },
    {
     "name": "stderr",
     "output_type": "stream",
     "text": [
      "Best trial: 26. Best value: 0.438052:  27%|██▋       | 27/100 [38:37<1:56:26, 95.70s/it]"
     ]
    },
    {
     "name": "stdout",
     "output_type": "stream",
     "text": [
      "[I 2025-10-12 12:13:38,591] Trial 26 finished with value: 0.4380521957387855 and parameters: {'eta': 0.274307789095826, 'max_depth': 10, 'min_child_weight': 7, 'subsample': 0.8570552384294298, 'colsample_bytree': 0.6287136241576458, 'gamma': 2.121243544563324, 'reg_alpha': 3.5740195981954117, 'reg_lambda': 1.204514378251388, 'n_estimators': 256}. Best is trial 26 with value: 0.4380521957387855.\n"
     ]
    },
    {
     "name": "stderr",
     "output_type": "stream",
     "text": [
      "Best trial: 26. Best value: 0.438052:  28%|██▊       | 28/100 [40:09<1:53:33, 94.63s/it]"
     ]
    },
    {
     "name": "stdout",
     "output_type": "stream",
     "text": [
      "[I 2025-10-12 12:15:10,715] Trial 27 finished with value: 0.47943109855040006 and parameters: {'eta': 0.06295222216330185, 'max_depth': 9, 'min_child_weight': 7, 'subsample': 0.8808707371030681, 'colsample_bytree': 0.69513159322816, 'gamma': 1.3630152927155068, 'reg_alpha': 4.662030340304952, 'reg_lambda': 0.9789047573588439, 'n_estimators': 209}. Best is trial 26 with value: 0.4380521957387855.\n"
     ]
    },
    {
     "name": "stderr",
     "output_type": "stream",
     "text": [
      "Best trial: 28. Best value: 0.437212:  29%|██▉       | 29/100 [41:45<1:52:23, 94.98s/it]"
     ]
    },
    {
     "name": "stdout",
     "output_type": "stream",
     "text": [
      "[I 2025-10-12 12:16:46,526] Trial 28 finished with value: 0.437211984951432 and parameters: {'eta': 0.2278457394178667, 'max_depth': 10, 'min_child_weight': 1, 'subsample': 0.8867629226451487, 'colsample_bytree': 0.6306254407670495, 'gamma': 1.3235859990233962, 'reg_alpha': 1.1925860693555852, 'reg_lambda': 0.19047441602445403, 'n_estimators': 238}. Best is trial 28 with value: 0.437211984951432.\n"
     ]
    },
    {
     "name": "stderr",
     "output_type": "stream",
     "text": [
      "Best trial: 28. Best value: 0.437212:  30%|███       | 30/100 [43:10<1:47:16, 91.94s/it]"
     ]
    },
    {
     "name": "stdout",
     "output_type": "stream",
     "text": [
      "[I 2025-10-12 12:18:11,385] Trial 29 finished with value: 0.4378182984929925 and parameters: {'eta': 0.27937896580000054, 'max_depth': 10, 'min_child_weight': 25, 'subsample': 0.8562935594687603, 'colsample_bytree': 0.6466459928332278, 'gamma': 0.876974591430407, 'reg_alpha': 1.3854713004582953, 'reg_lambda': 0.20244954579405494, 'n_estimators': 239}. Best is trial 28 with value: 0.437211984951432.\n"
     ]
    },
    {
     "name": "stderr",
     "output_type": "stream",
     "text": [
      "Best trial: 28. Best value: 0.437212:  31%|███       | 31/100 [44:09<1:34:26, 82.12s/it]"
     ]
    },
    {
     "name": "stdout",
     "output_type": "stream",
     "text": [
      "[I 2025-10-12 12:19:10,577] Trial 30 finished with value: 0.44466369207995526 and parameters: {'eta': 0.28047782233857277, 'max_depth': 6, 'min_child_weight': 29, 'subsample': 0.8595849191581006, 'colsample_bytree': 0.6495290754449841, 'gamma': 0.8593680860556163, 'reg_alpha': 1.2310934175206762, 'reg_lambda': 0.20001478195977315, 'n_estimators': 193}. Best is trial 28 with value: 0.437211984951432.\n"
     ]
    },
    {
     "name": "stderr",
     "output_type": "stream",
     "text": [
      "Best trial: 28. Best value: 0.437212:  32%|███▏      | 32/100 [45:30<1:32:35, 81.71s/it]"
     ]
    },
    {
     "name": "stdout",
     "output_type": "stream",
     "text": [
      "[I 2025-10-12 12:20:31,317] Trial 31 finished with value: 0.4387107147822597 and parameters: {'eta': 0.29877007534275385, 'max_depth': 10, 'min_child_weight': 27, 'subsample': 0.9289071527323206, 'colsample_bytree': 0.6491360802449744, 'gamma': 1.2817518751525143, 'reg_alpha': 1.031154703747162, 'reg_lambda': 1.0819595823576018, 'n_estimators': 232}. Best is trial 28 with value: 0.437211984951432.\n"
     ]
    },
    {
     "name": "stderr",
     "output_type": "stream",
     "text": [
      "Best trial: 28. Best value: 0.437212:  33%|███▎      | 33/100 [46:55<1:32:31, 82.86s/it]"
     ]
    },
    {
     "name": "stdout",
     "output_type": "stream",
     "text": [
      "[I 2025-10-12 12:21:56,877] Trial 32 finished with value: 0.4382689410738553 and parameters: {'eta': 0.23934486637121918, 'max_depth': 9, 'min_child_weight': 25, 'subsample': 0.8183960512786103, 'colsample_bytree': 0.7005967816993462, 'gamma': 2.12230923547909, 'reg_alpha': 0.16195344119939925, 'reg_lambda': 0.15403989623539882, 'n_estimators': 237}. Best is trial 28 with value: 0.437211984951432.\n"
     ]
    },
    {
     "name": "stderr",
     "output_type": "stream",
     "text": [
      "Best trial: 28. Best value: 0.437212:  34%|███▍      | 34/100 [48:06<1:27:11, 79.26s/it]"
     ]
    },
    {
     "name": "stdout",
     "output_type": "stream",
     "text": [
      "[I 2025-10-12 12:23:07,726] Trial 33 finished with value: 0.4425130102837224 and parameters: {'eta': 0.2267500638733575, 'max_depth': 10, 'min_child_weight': 24, 'subsample': 0.9163867137519948, 'colsample_bytree': 0.6392935146624218, 'gamma': 0.6760073198380773, 'reg_alpha': 1.7001116744745137, 'reg_lambda': 1.2708334747661953, 'n_estimators': 172}. Best is trial 28 with value: 0.437211984951432.\n"
     ]
    },
    {
     "name": "stderr",
     "output_type": "stream",
     "text": [
      "Best trial: 28. Best value: 0.437212:  35%|███▌      | 35/100 [49:43<1:31:36, 84.56s/it]"
     ]
    },
    {
     "name": "stdout",
     "output_type": "stream",
     "text": [
      "[I 2025-10-12 12:24:44,647] Trial 34 finished with value: 0.43849985208121633 and parameters: {'eta': 0.2708509534906501, 'max_depth': 10, 'min_child_weight': 1, 'subsample': 0.9602705032319783, 'colsample_bytree': 0.67489958322671, 'gamma': 2.845194789596303, 'reg_alpha': 2.8946230858375928, 'reg_lambda': 1.6329211552756344, 'n_estimators': 279}. Best is trial 28 with value: 0.437211984951432.\n"
     ]
    },
    {
     "name": "stderr",
     "output_type": "stream",
     "text": [
      "Best trial: 28. Best value: 0.437212:  36%|███▌      | 36/100 [50:43<1:22:19, 77.18s/it]"
     ]
    },
    {
     "name": "stdout",
     "output_type": "stream",
     "text": [
      "[I 2025-10-12 12:25:44,629] Trial 35 finished with value: 0.4491565209126353 and parameters: {'eta': 0.20812049922185216, 'max_depth': 4, 'min_child_weight': 19, 'subsample': 0.8649243849802012, 'colsample_bytree': 0.7312144108935337, 'gamma': 1.0897629667851836, 'reg_alpha': 1.0123997878540798, 'reg_lambda': 0.5558002091629606, 'n_estimators': 243}. Best is trial 28 with value: 0.437211984951432.\n"
     ]
    },
    {
     "name": "stderr",
     "output_type": "stream",
     "text": [
      "Best trial: 28. Best value: 0.437212:  37%|███▋      | 37/100 [52:08<1:23:25, 79.45s/it]"
     ]
    },
    {
     "name": "stdout",
     "output_type": "stream",
     "text": [
      "[I 2025-10-12 12:27:09,368] Trial 36 finished with value: 0.44566681740365155 and parameters: {'eta': 0.14138656388885584, 'max_depth': 9, 'min_child_weight': 14, 'subsample': 0.8341520718656081, 'colsample_bytree': 0.6279354111035489, 'gamma': 0.6443211203619725, 'reg_alpha': 3.243612983773234, 'reg_lambda': 0.7486619357124888, 'n_estimators': 221}. Best is trial 28 with value: 0.437211984951432.\n"
     ]
    },
    {
     "name": "stderr",
     "output_type": "stream",
     "text": [
      "Best trial: 28. Best value: 0.437212:  38%|███▊      | 38/100 [53:02<1:14:23, 71.99s/it]"
     ]
    },
    {
     "name": "stdout",
     "output_type": "stream",
     "text": [
      "[I 2025-10-12 12:28:03,940] Trial 37 finished with value: 0.447874185057027 and parameters: {'eta': 0.23200819844963994, 'max_depth': 7, 'min_child_weight': 6, 'subsample': 0.8931707346273005, 'colsample_bytree': 0.670093357619705, 'gamma': 1.513072048735708, 'reg_alpha': 2.5032797905096587, 'reg_lambda': 3.510872081965541, 'n_estimators': 155}. Best is trial 28 with value: 0.437211984951432.\n"
     ]
    },
    {
     "name": "stderr",
     "output_type": "stream",
     "text": [
      "Best trial: 28. Best value: 0.437212:  39%|███▉      | 39/100 [54:20<1:15:00, 73.78s/it]"
     ]
    },
    {
     "name": "stdout",
     "output_type": "stream",
     "text": [
      "[I 2025-10-12 12:29:21,915] Trial 38 finished with value: 0.4412153415219902 and parameters: {'eta': 0.2786624890247502, 'max_depth': 8, 'min_child_weight': 19, 'subsample': 0.8259729265477624, 'colsample_bytree': 0.7100060995155554, 'gamma': 2.074619216638874, 'reg_alpha': 0.6506423819038353, 'reg_lambda': 2.418802022865362, 'n_estimators': 210}. Best is trial 28 with value: 0.437211984951432.\n"
     ]
    },
    {
     "name": "stderr",
     "output_type": "stream",
     "text": [
      "Best trial: 28. Best value: 0.437212:  40%|████      | 40/100 [55:37<1:14:43, 74.73s/it]"
     ]
    },
    {
     "name": "stdout",
     "output_type": "stream",
     "text": [
      "[I 2025-10-12 12:30:38,860] Trial 39 finished with value: 0.4424780929081109 and parameters: {'eta': 0.20144013728600055, 'max_depth': 10, 'min_child_weight': 3, 'subsample': 0.8036124073635322, 'colsample_bytree': 0.6577110784026389, 'gamma': 0.11264295621018672, 'reg_alpha': 2.1322659217888527, 'reg_lambda': 1.4529902689148637, 'n_estimators': 186}. Best is trial 28 with value: 0.437211984951432.\n"
     ]
    },
    {
     "name": "stderr",
     "output_type": "stream",
     "text": [
      "Best trial: 40. Best value: 0.437174:  41%|████      | 41/100 [57:08<1:18:06, 79.44s/it]"
     ]
    },
    {
     "name": "stdout",
     "output_type": "stream",
     "text": [
      "[I 2025-10-12 12:32:09,279] Trial 40 finished with value: 0.43717388027983484 and parameters: {'eta': 0.26007923528797955, 'max_depth': 9, 'min_child_weight': 30, 'subsample': 0.9546852611331161, 'colsample_bytree': 0.6277025490480899, 'gamma': 0.8876635916581364, 'reg_alpha': 0.01450011792753525, 'reg_lambda': 6.783863072797882, 'n_estimators': 268}. Best is trial 40 with value: 0.43717388027983484.\n"
     ]
    },
    {
     "name": "stderr",
     "output_type": "stream",
     "text": [
      "Best trial: 41. Best value: 0.436649:  42%|████▏     | 42/100 [58:49<1:22:57, 85.82s/it]"
     ]
    },
    {
     "name": "stdout",
     "output_type": "stream",
     "text": [
      "[I 2025-10-12 12:33:49,993] Trial 41 finished with value: 0.4366490001998312 and parameters: {'eta': 0.2559337433484696, 'max_depth': 10, 'min_child_weight': 30, 'subsample': 0.949614608954481, 'colsample_bytree': 0.6266464492804371, 'gamma': 0.9294421748524887, 'reg_alpha': 0.22101809401016373, 'reg_lambda': 7.9198696625338805, 'n_estimators': 258}. Best is trial 41 with value: 0.4366490001998312.\n"
     ]
    },
    {
     "name": "stderr",
     "output_type": "stream",
     "text": [
      "Best trial: 41. Best value: 0.436649:  43%|████▎     | 43/100 [1:00:25<1:24:26, 88.89s/it]"
     ]
    },
    {
     "name": "stdout",
     "output_type": "stream",
     "text": [
      "[I 2025-10-12 12:35:26,033] Trial 42 finished with value: 0.437603573740658 and parameters: {'eta': 0.25404665584634706, 'max_depth': 9, 'min_child_weight': 30, 'subsample': 0.9603301307000706, 'colsample_bytree': 0.6870826818832486, 'gamma': 0.961289192315073, 'reg_alpha': 0.061326190213632614, 'reg_lambda': 7.657754875397578, 'n_estimators': 254}. Best is trial 41 with value: 0.4366490001998312.\n"
     ]
    },
    {
     "name": "stderr",
     "output_type": "stream",
     "text": [
      "Best trial: 41. Best value: 0.436649:  44%|████▍     | 44/100 [1:02:04<1:25:56, 92.07s/it]"
     ]
    },
    {
     "name": "stdout",
     "output_type": "stream",
     "text": [
      "[I 2025-10-12 12:37:05,539] Trial 43 finished with value: 0.4370776241815533 and parameters: {'eta': 0.24678227238338718, 'max_depth': 9, 'min_child_weight': 30, 'subsample': 0.9602868038425197, 'colsample_bytree': 0.6870748705312015, 'gamma': 0.9965333825061881, 'reg_alpha': 0.08606964213061447, 'reg_lambda': 8.104328404939391, 'n_estimators': 267}. Best is trial 41 with value: 0.4366490001998312.\n"
     ]
    },
    {
     "name": "stderr",
     "output_type": "stream",
     "text": [
      "Best trial: 41. Best value: 0.436649:  45%|████▌     | 45/100 [1:03:39<1:25:18, 93.06s/it]"
     ]
    },
    {
     "name": "stdout",
     "output_type": "stream",
     "text": [
      "[I 2025-10-12 12:38:40,902] Trial 44 finished with value: 0.43700196548878834 and parameters: {'eta': 0.20965711836666567, 'max_depth': 9, 'min_child_weight': 30, 'subsample': 0.9626761244018143, 'colsample_bytree': 0.6887975769480594, 'gamma': 0.5235803757728057, 'reg_alpha': 0.126821960696447, 'reg_lambda': 7.989556278512401, 'n_estimators': 266}. Best is trial 41 with value: 0.4366490001998312.\n"
     ]
    },
    {
     "name": "stderr",
     "output_type": "stream",
     "text": [
      "Best trial: 41. Best value: 0.436649:  46%|████▌     | 46/100 [1:05:14<1:24:08, 93.50s/it]"
     ]
    },
    {
     "name": "stdout",
     "output_type": "stream",
     "text": [
      "[I 2025-10-12 12:40:15,413] Trial 45 finished with value: 0.43803186587263027 and parameters: {'eta': 0.2084531024136247, 'max_depth': 8, 'min_child_weight': 28, 'subsample': 0.9996745500857778, 'colsample_bytree': 0.7301906662915154, 'gamma': 0.47519176228386134, 'reg_alpha': 0.6060196858597916, 'reg_lambda': 8.226136152866657, 'n_estimators': 270}. Best is trial 41 with value: 0.4366490001998312.\n"
     ]
    },
    {
     "name": "stderr",
     "output_type": "stream",
     "text": [
      "Best trial: 46. Best value: 0.436098:  47%|████▋     | 47/100 [1:06:59<1:25:34, 96.89s/it]"
     ]
    },
    {
     "name": "stdout",
     "output_type": "stream",
     "text": [
      "[I 2025-10-12 12:42:00,208] Trial 46 finished with value: 0.4360980125760475 and parameters: {'eta': 0.19362497935615464, 'max_depth': 9, 'min_child_weight': 27, 'subsample': 0.96203399466417, 'colsample_bytree': 0.6693003497284837, 'gamma': 0.21469413191271014, 'reg_alpha': 0.6352289818026033, 'reg_lambda': 6.383427507513784, 'n_estimators': 289}. Best is trial 46 with value: 0.4360980125760475.\n"
     ]
    },
    {
     "name": "stderr",
     "output_type": "stream",
     "text": [
      "Best trial: 46. Best value: 0.436098:  48%|████▊     | 48/100 [1:08:44<1:26:13, 99.50s/it]"
     ]
    },
    {
     "name": "stdout",
     "output_type": "stream",
     "text": [
      "[I 2025-10-12 12:43:45,796] Trial 47 finished with value: 0.43805453402006583 and parameters: {'eta': 0.1755026007343783, 'max_depth': 8, 'min_child_weight': 27, 'subsample': 0.9603981473484714, 'colsample_bytree': 0.7727907454040395, 'gamma': 0.02333534934076059, 'reg_alpha': 0.4898555334046589, 'reg_lambda': 7.091845957432586, 'n_estimators': 289}. Best is trial 46 with value: 0.4360980125760475.\n"
     ]
    },
    {
     "name": "stderr",
     "output_type": "stream",
     "text": [
      "Best trial: 46. Best value: 0.436098:  49%|████▉     | 49/100 [1:10:24<1:24:39, 99.60s/it]"
     ]
    },
    {
     "name": "stdout",
     "output_type": "stream",
     "text": [
      "[I 2025-10-12 12:45:25,629] Trial 48 finished with value: 0.4374036119641027 and parameters: {'eta': 0.192892971153407, 'max_depth': 9, 'min_child_weight': 30, 'subsample': 0.9769251056284735, 'colsample_bytree': 0.6798628520437958, 'gamma': 0.2547459455118788, 'reg_alpha': 0.661215504721741, 'reg_lambda': 6.4117476162175135, 'n_estimators': 271}. Best is trial 46 with value: 0.4360980125760475.\n"
     ]
    },
    {
     "name": "stderr",
     "output_type": "stream",
     "text": [
      "Best trial: 46. Best value: 0.436098:  50%|█████     | 50/100 [1:11:59<1:21:44, 98.09s/it]"
     ]
    },
    {
     "name": "stdout",
     "output_type": "stream",
     "text": [
      "[I 2025-10-12 12:47:00,212] Trial 49 finished with value: 0.44016204566779277 and parameters: {'eta': 0.15324074845843705, 'max_depth': 7, 'min_child_weight': 28, 'subsample': 0.9400406720056806, 'colsample_bytree': 0.713977224496698, 'gamma': 0.5364515917274746, 'reg_alpha': 0.007813445229461147, 'reg_lambda': 9.772361976736477, 'n_estimators': 290}. Best is trial 46 with value: 0.4360980125760475.\n"
     ]
    },
    {
     "name": "stderr",
     "output_type": "stream",
     "text": [
      "Best trial: 46. Best value: 0.436098:  51%|█████     | 51/100 [1:13:37<1:20:14, 98.25s/it]"
     ]
    },
    {
     "name": "stdout",
     "output_type": "stream",
     "text": [
      "[I 2025-10-12 12:48:38,812] Trial 50 finished with value: 0.4378690051157695 and parameters: {'eta': 0.19868760852505635, 'max_depth': 9, 'min_child_weight': 26, 'subsample': 0.9083604037734532, 'colsample_bytree': 0.7534884274791674, 'gamma': 0.2908050211149382, 'reg_alpha': 1.6421177134349156, 'reg_lambda': 8.291543901519159, 'n_estimators': 266}. Best is trial 46 with value: 0.4360980125760475.\n"
     ]
    },
    {
     "name": "stderr",
     "output_type": "stream",
     "text": [
      "Best trial: 46. Best value: 0.436098:  52%|█████▏    | 52/100 [1:15:14<1:18:14, 97.80s/it]"
     ]
    },
    {
     "name": "stdout",
     "output_type": "stream",
     "text": [
      "[I 2025-10-12 12:50:15,568] Trial 51 finished with value: 0.43733423857353004 and parameters: {'eta': 0.23367338832145781, 'max_depth': 9, 'min_child_weight': 29, 'subsample': 0.9459176031500742, 'colsample_bytree': 0.6603787015794947, 'gamma': 1.0148339369553947, 'reg_alpha': 0.9471499704486278, 'reg_lambda': 6.8442023129777745, 'n_estimators': 252}. Best is trial 46 with value: 0.4360980125760475.\n"
     ]
    },
    {
     "name": "stderr",
     "output_type": "stream",
     "text": [
      "Best trial: 52. Best value: 0.436052:  53%|█████▎    | 53/100 [1:16:51<1:16:29, 97.66s/it]"
     ]
    },
    {
     "name": "stdout",
     "output_type": "stream",
     "text": [
      "[I 2025-10-12 12:51:52,900] Trial 52 finished with value: 0.43605196151905545 and parameters: {'eta': 0.21294394578775505, 'max_depth': 9, 'min_child_weight': 29, 'subsample': 0.9827724066982131, 'colsample_bytree': 0.619746879515378, 'gamma': 0.755995008813713, 'reg_alpha': 0.3892747003925391, 'reg_lambda': 5.508336301726323, 'n_estimators': 285}. Best is trial 52 with value: 0.43605196151905545.\n"
     ]
    },
    {
     "name": "stderr",
     "output_type": "stream",
     "text": [
      "Best trial: 52. Best value: 0.436052:  54%|█████▍    | 54/100 [1:18:29<1:14:51, 97.63s/it]"
     ]
    },
    {
     "name": "stdout",
     "output_type": "stream",
     "text": [
      "[I 2025-10-12 12:53:30,475] Trial 53 finished with value: 0.43702095831284515 and parameters: {'eta': 0.21360219846897202, 'max_depth': 8, 'min_child_weight': 23, 'subsample': 0.9815112037071141, 'colsample_bytree': 0.619994659581771, 'gamma': 0.7310605911667911, 'reg_alpha': 0.486301168165175, 'reg_lambda': 7.482714175269993, 'n_estimators': 286}. Best is trial 52 with value: 0.43605196151905545.\n"
     ]
    },
    {
     "name": "stderr",
     "output_type": "stream",
     "text": [
      "Best trial: 52. Best value: 0.436052:  55%|█████▌    | 55/100 [1:20:07<1:13:18, 97.75s/it]"
     ]
    },
    {
     "name": "stdout",
     "output_type": "stream",
     "text": [
      "[I 2025-10-12 12:55:08,502] Trial 54 finished with value: 0.43705602889163614 and parameters: {'eta': 0.18246727473113275, 'max_depth': 8, 'min_child_weight': 23, 'subsample': 0.9806276339951278, 'colsample_bytree': 0.6667545467813559, 'gamma': 0.6833900700379618, 'reg_alpha': 0.4698745882331975, 'reg_lambda': 5.531884659778326, 'n_estimators': 289}. Best is trial 52 with value: 0.43605196151905545.\n"
     ]
    },
    {
     "name": "stderr",
     "output_type": "stream",
     "text": [
      "Best trial: 52. Best value: 0.436052:  56%|█████▌    | 56/100 [1:21:39<1:10:28, 96.11s/it]"
     ]
    },
    {
     "name": "stdout",
     "output_type": "stream",
     "text": [
      "[I 2025-10-12 12:56:40,781] Trial 55 finished with value: 0.4383500800932323 and parameters: {'eta': 0.16127526643759724, 'max_depth': 8, 'min_child_weight': 23, 'subsample': 0.9787921156200416, 'colsample_bytree': 0.6621999224391715, 'gamma': 0.6767434398895703, 'reg_alpha': 0.7597994810713111, 'reg_lambda': 5.526717609874509, 'n_estimators': 285}. Best is trial 52 with value: 0.43605196151905545.\n"
     ]
    },
    {
     "name": "stderr",
     "output_type": "stream",
     "text": [
      "Best trial: 52. Best value: 0.436052:  57%|█████▋    | 57/100 [1:23:18<1:09:30, 96.98s/it]"
     ]
    },
    {
     "name": "stdout",
     "output_type": "stream",
     "text": [
      "[I 2025-10-12 12:58:19,805] Trial 56 finished with value: 0.43637521470269336 and parameters: {'eta': 0.18748988937731592, 'max_depth': 8, 'min_child_weight': 21, 'subsample': 0.9789239286511522, 'colsample_bytree': 0.6162989443763872, 'gamma': 0.18229190892703928, 'reg_alpha': 0.40733193253371486, 'reg_lambda': 5.715529398420845, 'n_estimators': 294}. Best is trial 52 with value: 0.43605196151905545.\n"
     ]
    },
    {
     "name": "stderr",
     "output_type": "stream",
     "text": [
      "Best trial: 52. Best value: 0.436052:  58%|█████▊    | 58/100 [1:24:52<1:07:17, 96.13s/it]"
     ]
    },
    {
     "name": "stdout",
     "output_type": "stream",
     "text": [
      "[I 2025-10-12 12:59:53,927] Trial 57 finished with value: 0.4375195374382036 and parameters: {'eta': 0.1735103576966659, 'max_depth': 7, 'min_child_weight': 21, 'subsample': 0.9257606031642275, 'colsample_bytree': 0.6015736606564629, 'gamma': 0.43627664151763573, 'reg_alpha': 2.0264678706489834, 'reg_lambda': 9.14607463802391, 'n_estimators': 300}. Best is trial 52 with value: 0.43605196151905545.\n"
     ]
    },
    {
     "name": "stderr",
     "output_type": "stream",
     "text": [
      "Best trial: 52. Best value: 0.436052:  59%|█████▉    | 59/100 [1:26:26<1:05:11, 95.39s/it]"
     ]
    },
    {
     "name": "stdout",
     "output_type": "stream",
     "text": [
      "[I 2025-10-12 13:01:27,604] Trial 58 finished with value: 0.44425907990663027 and parameters: {'eta': 0.1159889259511675, 'max_depth': 8, 'min_child_weight': 26, 'subsample': 0.9868207715119823, 'colsample_bytree': 0.6407660267065609, 'gamma': 0.17672476981639829, 'reg_alpha': 1.2846365304273841, 'reg_lambda': 5.960357015460293, 'n_estimators': 277}. Best is trial 52 with value: 0.43605196151905545.\n"
     ]
    },
    {
     "name": "stderr",
     "output_type": "stream",
     "text": [
      "Best trial: 52. Best value: 0.436052:  60%|██████    | 60/100 [1:27:28<56:57, 85.44s/it]  "
     ]
    },
    {
     "name": "stdout",
     "output_type": "stream",
     "text": [
      "[I 2025-10-12 13:02:29,820] Trial 59 finished with value: 0.4520637152324826 and parameters: {'eta': 0.21313920046811644, 'max_depth': 3, 'min_child_weight': 21, 'subsample': 0.9991613164008715, 'colsample_bytree': 0.6122839795695264, 'gamma': 0.3625773471559036, 'reg_alpha': 1.5203082606530776, 'reg_lambda': 7.342009085472382, 'n_estimators': 294}. Best is trial 52 with value: 0.43605196151905545.\n"
     ]
    },
    {
     "name": "stderr",
     "output_type": "stream",
     "text": [
      "Best trial: 52. Best value: 0.436052:  61%|██████    | 61/100 [1:28:51<54:57, 84.54s/it]"
     ]
    },
    {
     "name": "stdout",
     "output_type": "stream",
     "text": [
      "[I 2025-10-12 13:03:52,271] Trial 60 finished with value: 0.44074174416107914 and parameters: {'eta': 0.19230006438876737, 'max_depth': 6, 'min_child_weight': 28, 'subsample': 0.9759222173916989, 'colsample_bytree': 0.6228705175447203, 'gamma': 1.5746511329510513, 'reg_alpha': 0.3569700459033892, 'reg_lambda': 4.837628388205622, 'n_estimators': 278}. Best is trial 52 with value: 0.43605196151905545.\n"
     ]
    },
    {
     "name": "stderr",
     "output_type": "stream",
     "text": [
      "Best trial: 52. Best value: 0.436052:  62%|██████▏   | 62/100 [1:30:31<56:25, 89.08s/it]"
     ]
    },
    {
     "name": "stdout",
     "output_type": "stream",
     "text": [
      "[I 2025-10-12 13:05:31,951] Trial 61 finished with value: 0.4369998374247193 and parameters: {'eta': 0.18833432555010035, 'max_depth': 8, 'min_child_weight': 23, 'subsample': 0.972665249159315, 'colsample_bytree': 0.6605955999682195, 'gamma': 0.5691845604311094, 'reg_alpha': 0.47062100192151735, 'reg_lambda': 5.41218053029681, 'n_estimators': 287}. Best is trial 52 with value: 0.43605196151905545.\n"
     ]
    },
    {
     "name": "stderr",
     "output_type": "stream",
     "text": [
      "Best trial: 52. Best value: 0.436052:  63%|██████▎   | 63/100 [1:32:05<55:52, 90.60s/it]"
     ]
    },
    {
     "name": "stdout",
     "output_type": "stream",
     "text": [
      "[I 2025-10-12 13:07:06,082] Trial 62 finished with value: 0.4412399709157661 and parameters: {'eta': 0.1406131791538031, 'max_depth': 7, 'min_child_weight': 19, 'subsample': 0.9453076072812676, 'colsample_bytree': 0.6193846576656024, 'gamma': 0.0033391501748135655, 'reg_alpha': 0.8474074983863422, 'reg_lambda': 6.05824394295301, 'n_estimators': 284}. Best is trial 52 with value: 0.43605196151905545.\n"
     ]
    },
    {
     "name": "stderr",
     "output_type": "stream",
     "text": [
      "Best trial: 52. Best value: 0.436052:  64%|██████▍   | 64/100 [1:32:53<46:46, 77.97s/it]"
     ]
    },
    {
     "name": "stdout",
     "output_type": "stream",
     "text": [
      "[I 2025-10-12 13:07:54,576] Trial 63 finished with value: 0.45591129732893465 and parameters: {'eta': 0.21839298202634905, 'max_depth': 8, 'min_child_weight': 22, 'subsample': 0.9716663928025557, 'colsample_bytree': 0.641649490116952, 'gamma': 0.5190254431203183, 'reg_alpha': 0.35705490830257103, 'reg_lambda': 8.675629726911254, 'n_estimators': 117}. Best is trial 52 with value: 0.43605196151905545.\n"
     ]
    },
    {
     "name": "stderr",
     "output_type": "stream",
     "text": [
      "Best trial: 52. Best value: 0.436052:  65%|██████▌   | 65/100 [1:34:34<49:34, 84.98s/it]"
     ]
    },
    {
     "name": "stdout",
     "output_type": "stream",
     "text": [
      "[I 2025-10-12 13:09:35,907] Trial 64 finished with value: 0.436557043458754 and parameters: {'eta': 0.18245176813073133, 'max_depth': 8, 'min_child_weight': 17, 'subsample': 0.9325960417262247, 'colsample_bytree': 0.6183758937858467, 'gamma': 0.2347715992706606, 'reg_alpha': 0.8437017807934483, 'reg_lambda': 7.5641174205634485, 'n_estimators': 292}. Best is trial 52 with value: 0.43605196151905545.\n"
     ]
    },
    {
     "name": "stderr",
     "output_type": "stream",
     "text": [
      "Best trial: 52. Best value: 0.436052:  66%|██████▌   | 66/100 [1:36:22<51:58, 91.73s/it]"
     ]
    },
    {
     "name": "stdout",
     "output_type": "stream",
     "text": [
      "[I 2025-10-12 13:11:23,408] Trial 65 finished with value: 0.43722427993963076 and parameters: {'eta': 0.15433359644067893, 'max_depth': 9, 'min_child_weight': 16, 'subsample': 0.9094958808164265, 'colsample_bytree': 0.6533953403798043, 'gamma': 0.18693720444827044, 'reg_alpha': 0.9551001881591272, 'reg_lambda': 5.149129608940033, 'n_estimators': 295}. Best is trial 52 with value: 0.43605196151905545.\n"
     ]
    },
    {
     "name": "stderr",
     "output_type": "stream",
     "text": [
      "Best trial: 52. Best value: 0.436052:  67%|██████▋   | 67/100 [1:37:47<49:17, 89.63s/it]"
     ]
    },
    {
     "name": "stdout",
     "output_type": "stream",
     "text": [
      "[I 2025-10-12 13:12:48,124] Trial 66 finished with value: 0.43990358677684843 and parameters: {'eta': 0.18798675454848868, 'max_depth': 7, 'min_child_weight': 18, 'subsample': 0.9331117606123754, 'colsample_bytree': 0.6948070642455124, 'gamma': 0.35166121926157073, 'reg_alpha': 1.8315627489258217, 'reg_lambda': 4.552509196493136, 'n_estimators': 263}. Best is trial 52 with value: 0.43605196151905545.\n"
     ]
    },
    {
     "name": "stderr",
     "output_type": "stream",
     "text": [
      "Best trial: 52. Best value: 0.436052:  68%|██████▊   | 68/100 [1:39:31<50:12, 94.14s/it]"
     ]
    },
    {
     "name": "stdout",
     "output_type": "stream",
     "text": [
      "[I 2025-10-12 13:14:32,801] Trial 67 finished with value: 0.4412994384405997 and parameters: {'eta': 0.12738349642062585, 'max_depth': 9, 'min_child_weight': 27, 'subsample': 0.967676659427379, 'colsample_bytree': 0.6005068797084507, 'gamma': 0.5631185662383789, 'reg_alpha': 1.426709068032178, 'reg_lambda': 6.358358093798769, 'n_estimators': 277}. Best is trial 52 with value: 0.43605196151905545.\n"
     ]
    },
    {
     "name": "stderr",
     "output_type": "stream",
     "text": [
      "Best trial: 52. Best value: 0.436052:  69%|██████▉   | 69/100 [1:39:59<38:15, 74.06s/it]"
     ]
    },
    {
     "name": "stdout",
     "output_type": "stream",
     "text": [
      "[I 2025-10-12 13:14:59,986] Trial 68 finished with value: 0.5066564276757576 and parameters: {'eta': 0.17051904772902443, 'max_depth': 8, 'min_child_weight': 29, 'subsample': 0.9507132380503074, 'colsample_bytree': 0.6355115678989935, 'gamma': 1.1267598172426996, 'reg_alpha': 0.30145791167837854, 'reg_lambda': 5.252036773454383, 'n_estimators': 54}. Best is trial 52 with value: 0.43605196151905545.\n"
     ]
    },
    {
     "name": "stderr",
     "output_type": "stream",
     "text": [
      "Best trial: 69. Best value: 0.435603:  70%|███████   | 70/100 [1:41:47<42:08, 84.28s/it]"
     ]
    },
    {
     "name": "stdout",
     "output_type": "stream",
     "text": [
      "[I 2025-10-12 13:16:48,139] Trial 69 finished with value: 0.4356027084603017 and parameters: {'eta': 0.1807662766172285, 'max_depth': 9, 'min_child_weight': 26, 'subsample': 0.9903825586148675, 'colsample_bytree': 0.6154491726238536, 'gamma': 0.8141506756871417, 'reg_alpha': 1.1843550770288844, 'reg_lambda': 5.936129570329567, 'n_estimators': 300}. Best is trial 69 with value: 0.4356027084603017.\n"
     ]
    },
    {
     "name": "stderr",
     "output_type": "stream",
     "text": [
      "Best trial: 69. Best value: 0.435603:  71%|███████   | 71/100 [1:42:58<38:52, 80.44s/it]"
     ]
    },
    {
     "name": "stdout",
     "output_type": "stream",
     "text": [
      "[I 2025-10-12 13:17:59,609] Trial 70 finished with value: 0.44740529674578616 and parameters: {'eta': 0.18059528915549522, 'max_depth': 4, 'min_child_weight': 24, 'subsample': 0.9951497004513024, 'colsample_bytree': 0.6155601049587872, 'gamma': 0.7917273029044413, 'reg_alpha': 1.157951282753039, 'reg_lambda': 6.058878699264095, 'n_estimators': 298}. Best is trial 69 with value: 0.4356027084603017.\n"
     ]
    },
    {
     "name": "stderr",
     "output_type": "stream",
     "text": [
      "Best trial: 69. Best value: 0.435603:  72%|███████▏  | 72/100 [1:44:42<40:47, 87.40s/it]"
     ]
    },
    {
     "name": "stdout",
     "output_type": "stream",
     "text": [
      "[I 2025-10-12 13:19:43,253] Trial 71 finished with value: 0.4361907831932067 and parameters: {'eta': 0.19940557620551264, 'max_depth': 9, 'min_child_weight': 26, 'subsample': 0.9367853937915809, 'colsample_bytree': 0.6503753830143553, 'gamma': 0.16453865143007404, 'reg_alpha': 0.758428051129884, 'reg_lambda': 5.759499187264958, 'n_estimators': 274}. Best is trial 69 with value: 0.4356027084603017.\n"
     ]
    },
    {
     "name": "stderr",
     "output_type": "stream",
     "text": [
      "Best trial: 69. Best value: 0.435603:  73%|███████▎  | 73/100 [1:46:30<42:10, 93.71s/it]"
     ]
    },
    {
     "name": "stdout",
     "output_type": "stream",
     "text": [
      "[I 2025-10-12 13:21:31,686] Trial 72 finished with value: 0.4369000064290014 and parameters: {'eta': 0.15846903446596053, 'max_depth': 9, 'min_child_weight': 26, 'subsample': 0.9210835754903207, 'colsample_bytree': 0.6401827786839154, 'gamma': 0.15345479359958555, 'reg_alpha': 0.7854819427805855, 'reg_lambda': 5.808110745259644, 'n_estimators': 291}. Best is trial 69 with value: 0.4356027084603017.\n"
     ]
    },
    {
     "name": "stderr",
     "output_type": "stream",
     "text": [
      "Best trial: 69. Best value: 0.435603:  74%|███████▍  | 74/100 [1:48:17<42:16, 97.55s/it]"
     ]
    },
    {
     "name": "stdout",
     "output_type": "stream",
     "text": [
      "[I 2025-10-12 13:23:18,180] Trial 73 finished with value: 0.436690874027262 and parameters: {'eta': 0.16209269574600657, 'max_depth': 9, 'min_child_weight': 26, 'subsample': 0.9235858462051547, 'colsample_bytree': 0.6364824547236615, 'gamma': 0.12474604936884945, 'reg_alpha': 0.7807966939222185, 'reg_lambda': 5.840177888040112, 'n_estimators': 294}. Best is trial 69 with value: 0.4356027084603017.\n"
     ]
    },
    {
     "name": "stderr",
     "output_type": "stream",
     "text": [
      "Best trial: 69. Best value: 0.435603:  75%|███████▌  | 75/100 [1:50:08<42:20, 101.63s/it]"
     ]
    },
    {
     "name": "stdout",
     "output_type": "stream",
     "text": [
      "[I 2025-10-12 13:25:09,334] Trial 74 finished with value: 0.43655304467616396 and parameters: {'eta': 0.16374406346763254, 'max_depth': 9, 'min_child_weight': 25, 'subsample': 0.9353032336015908, 'colsample_bytree': 0.6112478508961379, 'gamma': 0.3126062478059539, 'reg_alpha': 2.278735946848681, 'reg_lambda': 6.680288768024884, 'n_estimators': 300}. Best is trial 69 with value: 0.4356027084603017.\n"
     ]
    },
    {
     "name": "stderr",
     "output_type": "stream",
     "text": [
      "Best trial: 69. Best value: 0.435603:  76%|███████▌  | 76/100 [1:52:00<41:51, 104.66s/it]"
     ]
    },
    {
     "name": "stdout",
     "output_type": "stream",
     "text": [
      "[I 2025-10-12 13:27:01,060] Trial 75 finished with value: 0.43889762881266997 and parameters: {'eta': 0.14582079532680164, 'max_depth': 10, 'min_child_weight': 25, 'subsample': 0.899256599165924, 'colsample_bytree': 0.6156071619367227, 'gamma': 0.019860181870776206, 'reg_alpha': 2.5211186722951577, 'reg_lambda': 6.671074892691609, 'n_estimators': 274}. Best is trial 69 with value: 0.4356027084603017.\n"
     ]
    },
    {
     "name": "stderr",
     "output_type": "stream",
     "text": [
      "Best trial: 69. Best value: 0.435603:  77%|███████▋  | 77/100 [1:53:32<38:45, 101.12s/it]"
     ]
    },
    {
     "name": "stdout",
     "output_type": "stream",
     "text": [
      "[I 2025-10-12 13:28:33,936] Trial 76 finished with value: 0.4373026665631893 and parameters: {'eta': 0.19928545429726813, 'max_depth': 9, 'min_child_weight': 20, 'subsample': 0.9338246918856538, 'colsample_bytree': 0.6009143848388675, 'gamma': 0.3342678096964305, 'reg_alpha': 1.9877553070106715, 'reg_lambda': 7.138755536247787, 'n_estimators': 260}. Best is trial 69 with value: 0.4356027084603017.\n"
     ]
    },
    {
     "name": "stderr",
     "output_type": "stream",
     "text": [
      "Best trial: 69. Best value: 0.435603:  78%|███████▊  | 78/100 [1:55:15<37:13, 101.51s/it]"
     ]
    },
    {
     "name": "stdout",
     "output_type": "stream",
     "text": [
      "[I 2025-10-12 13:30:16,362] Trial 77 finished with value: 0.4400087670868721 and parameters: {'eta': 0.16826400181946172, 'max_depth': 10, 'min_child_weight': 28, 'subsample': 0.9883921694404192, 'colsample_bytree': 0.8578066040307579, 'gamma': 0.2693814112638729, 'reg_alpha': 1.4068104844751033, 'reg_lambda': 6.351120690214544, 'n_estimators': 249}. Best is trial 69 with value: 0.4356027084603017.\n"
     ]
    },
    {
     "name": "stderr",
     "output_type": "stream",
     "text": [
      "Best trial: 69. Best value: 0.435603:  79%|███████▉  | 79/100 [1:57:03<36:14, 103.55s/it]"
     ]
    },
    {
     "name": "stdout",
     "output_type": "stream",
     "text": [
      "[I 2025-10-12 13:32:04,665] Trial 78 finished with value: 0.4483937467750737 and parameters: {'eta': 0.09486661880720763, 'max_depth': 9, 'min_child_weight': 17, 'subsample': 0.9381477044935105, 'colsample_bytree': 0.6487929642318138, 'gamma': 0.8350622266043963, 'reg_alpha': 2.3282056686530446, 'reg_lambda': 4.321310493447829, 'n_estimators': 282}. Best is trial 69 with value: 0.4356027084603017.\n"
     ]
    },
    {
     "name": "stderr",
     "output_type": "stream",
     "text": [
      "Best trial: 69. Best value: 0.435603:  80%|████████  | 80/100 [1:58:43<34:08, 102.45s/it]"
     ]
    },
    {
     "name": "stdout",
     "output_type": "stream",
     "text": [
      "[I 2025-10-12 13:33:44,542] Trial 79 finished with value: 0.43882777503469345 and parameters: {'eta': 0.17880374378779185, 'max_depth': 10, 'min_child_weight': 24, 'subsample': 0.9500936583764272, 'colsample_bytree': 0.6247468505250906, 'gamma': 4.14267870317743, 'reg_alpha': 1.72443920501154, 'reg_lambda': 5.0147002097155084, 'n_estimators': 273}. Best is trial 69 with value: 0.4356027084603017.\n"
     ]
    },
    {
     "name": "stderr",
     "output_type": "stream",
     "text": [
      "Best trial: 69. Best value: 0.435603:  81%|████████  | 81/100 [2:00:34<33:16, 105.10s/it]"
     ]
    },
    {
     "name": "stdout",
     "output_type": "stream",
     "text": [
      "[I 2025-10-12 13:35:35,813] Trial 80 finished with value: 0.4396962416853259 and parameters: {'eta': 0.12694470197903665, 'max_depth': 9, 'min_child_weight': 27, 'subsample': 0.8709116666562119, 'colsample_bytree': 0.6114630243888431, 'gamma': 0.44605147278514456, 'reg_alpha': 1.167720792582784, 'reg_lambda': 7.0315931420384254, 'n_estimators': 299}. Best is trial 69 with value: 0.4356027084603017.\n"
     ]
    },
    {
     "name": "stderr",
     "output_type": "stream",
     "text": [
      "Best trial: 69. Best value: 0.435603:  82%|████████▏ | 82/100 [2:02:26<32:04, 106.94s/it]"
     ]
    },
    {
     "name": "stdout",
     "output_type": "stream",
     "text": [
      "[I 2025-10-12 13:37:27,050] Trial 81 finished with value: 0.436421136082976 and parameters: {'eta': 0.16480189318832947, 'max_depth': 9, 'min_child_weight': 26, 'subsample': 0.9139477045628397, 'colsample_bytree': 0.6262989737465635, 'gamma': 0.2090557033413331, 'reg_alpha': 0.8061666754485861, 'reg_lambda': 6.066852916668184, 'n_estimators': 294}. Best is trial 69 with value: 0.4356027084603017.\n"
     ]
    },
    {
     "name": "stderr",
     "output_type": "stream",
     "text": [
      "Best trial: 69. Best value: 0.435603:  83%|████████▎ | 83/100 [2:04:12<30:13, 106.66s/it]"
     ]
    },
    {
     "name": "stdout",
     "output_type": "stream",
     "text": [
      "[I 2025-10-12 13:39:13,051] Trial 82 finished with value: 0.43705625332890563 and parameters: {'eta': 0.16630921075024924, 'max_depth': 9, 'min_child_weight': 29, 'subsample': 0.9060070531166365, 'colsample_bytree': 0.6314273500049489, 'gamma': 0.2014485962572542, 'reg_alpha': 1.0326758614240077, 'reg_lambda': 6.252613085079601, 'n_estimators': 283}. Best is trial 69 with value: 0.4356027084603017.\n"
     ]
    },
    {
     "name": "stderr",
     "output_type": "stream",
     "text": [
      "Best trial: 69. Best value: 0.435603:  84%|████████▍ | 84/100 [2:06:07<29:10, 109.38s/it]"
     ]
    },
    {
     "name": "stdout",
     "output_type": "stream",
     "text": [
      "[I 2025-10-12 13:41:08,789] Trial 83 finished with value: 0.4361991233611331 and parameters: {'eta': 0.1966687007463774, 'max_depth': 10, 'min_child_weight': 25, 'subsample': 0.9164759830936625, 'colsample_bytree': 0.6733745775125597, 'gamma': 1.43728457649424, 'reg_alpha': 6.0789839549733, 'reg_lambda': 6.631558701014715, 'n_estimators': 292}. Best is trial 69 with value: 0.4356027084603017.\n"
     ]
    },
    {
     "name": "stderr",
     "output_type": "stream",
     "text": [
      "Best trial: 69. Best value: 0.435603:  85%|████████▌ | 85/100 [2:07:56<27:15, 109.03s/it]"
     ]
    },
    {
     "name": "stdout",
     "output_type": "stream",
     "text": [
      "[I 2025-10-12 13:42:56,992] Trial 84 finished with value: 0.4364434259832473 and parameters: {'eta': 0.19478147867622977, 'max_depth': 9, 'min_child_weight': 25, 'subsample': 0.9388889025323912, 'colsample_bytree': 0.6694469635494713, 'gamma': 0.43270325607272647, 'reg_alpha': 5.009256916014717, 'reg_lambda': 6.697417511124909, 'n_estimators': 300}. Best is trial 69 with value: 0.4356027084603017.\n"
     ]
    },
    {
     "name": "stderr",
     "output_type": "stream",
     "text": [
      "Best trial: 69. Best value: 0.435603:  86%|████████▌ | 86/100 [2:09:49<25:44, 110.30s/it]"
     ]
    },
    {
     "name": "stdout",
     "output_type": "stream",
     "text": [
      "[I 2025-10-12 13:44:50,268] Trial 85 finished with value: 0.43624567519391955 and parameters: {'eta': 0.20110593866049273, 'max_depth': 9, 'min_child_weight': 25, 'subsample': 0.8814490196885203, 'colsample_bytree': 0.6713695137747802, 'gamma': 0.39684190067094943, 'reg_alpha': 6.339978490394891, 'reg_lambda': 6.578835525460733, 'n_estimators': 299}. Best is trial 69 with value: 0.4356027084603017.\n"
     ]
    },
    {
     "name": "stderr",
     "output_type": "stream",
     "text": [
      "Best trial: 69. Best value: 0.435603:  87%|████████▋ | 87/100 [2:11:41<24:02, 110.95s/it]"
     ]
    },
    {
     "name": "stdout",
     "output_type": "stream",
     "text": [
      "[I 2025-10-12 13:46:42,717] Trial 86 finished with value: 0.43693726846462067 and parameters: {'eta': 0.19670695074866407, 'max_depth': 10, 'min_child_weight': 24, 'subsample': 0.886627940833451, 'colsample_bytree': 0.6692874823905376, 'gamma': 1.2228256428952207, 'reg_alpha': 6.053190886402346, 'reg_lambda': 6.149068517517967, 'n_estimators': 281}. Best is trial 69 with value: 0.4356027084603017.\n"
     ]
    },
    {
     "name": "stderr",
     "output_type": "stream",
     "text": [
      "Best trial: 69. Best value: 0.435603:  88%|████████▊ | 88/100 [2:13:30<22:05, 110.42s/it]"
     ]
    },
    {
     "name": "stdout",
     "output_type": "stream",
     "text": [
      "[I 2025-10-12 13:48:31,910] Trial 87 finished with value: 0.4371407960072647 and parameters: {'eta': 0.2019516119717744, 'max_depth': 9, 'min_child_weight': 25, 'subsample': 0.9170069039681998, 'colsample_bytree': 0.7078118596414128, 'gamma': 0.7648958177198218, 'reg_alpha': 5.214166755785186, 'reg_lambda': 5.751230210905285, 'n_estimators': 293}. Best is trial 69 with value: 0.4356027084603017.\n"
     ]
    },
    {
     "name": "stderr",
     "output_type": "stream",
     "text": [
      "Best trial: 69. Best value: 0.435603:  89%|████████▉ | 89/100 [2:15:17<20:03, 109.40s/it]"
     ]
    },
    {
     "name": "stdout",
     "output_type": "stream",
     "text": [
      "[I 2025-10-12 13:50:18,926] Trial 88 finished with value: 0.4379590032311074 and parameters: {'eta': 0.2059269355266169, 'max_depth': 9, 'min_child_weight': 27, 'subsample': 0.8749444891973077, 'colsample_bytree': 0.7202856915964846, 'gamma': 1.4236739489576344, 'reg_alpha': 7.387320621989276, 'reg_lambda': 6.571206858533099, 'n_estimators': 273}. Best is trial 69 with value: 0.4356027084603017.\n"
     ]
    },
    {
     "name": "stderr",
     "output_type": "stream",
     "text": [
      "Best trial: 69. Best value: 0.435603:  90%|█████████ | 90/100 [2:17:19<18:49, 112.97s/it]"
     ]
    },
    {
     "name": "stdout",
     "output_type": "stream",
     "text": [
      "[I 2025-10-12 13:52:20,244] Trial 89 finished with value: 0.43564334006812233 and parameters: {'eta': 0.2189767777235079, 'max_depth': 10, 'min_child_weight': 26, 'subsample': 0.987489838587349, 'colsample_bytree': 0.6768402339218642, 'gamma': 0.41824511184762625, 'reg_alpha': 6.562127927728454, 'reg_lambda': 5.326754741985664, 'n_estimators': 300}. Best is trial 69 with value: 0.4356027084603017.\n"
     ]
    },
    {
     "name": "stderr",
     "output_type": "stream",
     "text": [
      "Best trial: 69. Best value: 0.435603:  91%|█████████ | 91/100 [2:19:12<16:58, 113.17s/it]"
     ]
    },
    {
     "name": "stdout",
     "output_type": "stream",
     "text": [
      "[I 2025-10-12 13:54:13,880] Trial 90 finished with value: 0.43705312834465004 and parameters: {'eta': 0.23214294574444685, 'max_depth': 10, 'min_child_weight': 22, 'subsample': 0.9853125539668591, 'colsample_bytree': 0.6782674629604065, 'gamma': 1.8957610896714139, 'reg_alpha': 6.384745780477422, 'reg_lambda': 5.2882472090791985, 'n_estimators': 287}. Best is trial 69 with value: 0.4356027084603017.\n"
     ]
    },
    {
     "name": "stderr",
     "output_type": "stream",
     "text": [
      "Best trial: 69. Best value: 0.435603:  92%|█████████▏| 92/100 [2:21:11<15:18, 114.76s/it]"
     ]
    },
    {
     "name": "stdout",
     "output_type": "stream",
     "text": [
      "[I 2025-10-12 13:56:12,336] Trial 91 finished with value: 0.4359201400514839 and parameters: {'eta': 0.2175697222233055, 'max_depth': 10, 'min_child_weight': 26, 'subsample': 0.9658100550521812, 'colsample_bytree': 0.6752417141615643, 'gamma': 0.4206210368013521, 'reg_alpha': 5.916815010091903, 'reg_lambda': 4.999093828348045, 'n_estimators': 294}. Best is trial 69 with value: 0.4356027084603017.\n"
     ]
    },
    {
     "name": "stderr",
     "output_type": "stream",
     "text": [
      "Best trial: 92. Best value: 0.435587:  93%|█████████▎| 93/100 [2:23:03<13:18, 114.10s/it]"
     ]
    },
    {
     "name": "stdout",
     "output_type": "stream",
     "text": [
      "[I 2025-10-12 13:58:04,909] Trial 92 finished with value: 0.4355871870782814 and parameters: {'eta': 0.2251586017238223, 'max_depth': 10, 'min_child_weight': 26, 'subsample': 0.9639446007829685, 'colsample_bytree': 0.6507755877543546, 'gamma': 0.6139963456942783, 'reg_alpha': 6.768595449859619, 'reg_lambda': 4.832153974114423, 'n_estimators': 293}. Best is trial 92 with value: 0.4355871870782814.\n"
     ]
    },
    {
     "name": "stderr",
     "output_type": "stream",
     "text": [
      "Best trial: 92. Best value: 0.435587:  94%|█████████▍| 94/100 [2:24:54<11:17, 112.95s/it]"
     ]
    },
    {
     "name": "stdout",
     "output_type": "stream",
     "text": [
      "[I 2025-10-12 13:59:55,168] Trial 93 finished with value: 0.43674255972590614 and parameters: {'eta': 0.22064991834425393, 'max_depth': 10, 'min_child_weight': 28, 'subsample': 0.9627926948467881, 'colsample_bytree': 0.7015982847981262, 'gamma': 0.6345067348728116, 'reg_alpha': 5.9812912929806625, 'reg_lambda': 3.9273609638394817, 'n_estimators': 282}. Best is trial 92 with value: 0.4355871870782814.\n"
     ]
    },
    {
     "name": "stderr",
     "output_type": "stream",
     "text": [
      "Best trial: 92. Best value: 0.435587:  95%|█████████▌| 95/100 [2:26:45<09:22, 112.52s/it]"
     ]
    },
    {
     "name": "stdout",
     "output_type": "stream",
     "text": [
      "[I 2025-10-12 14:01:46,676] Trial 94 finished with value: 0.4359978746610391 and parameters: {'eta': 0.2138242864218299, 'max_depth': 10, 'min_child_weight': 27, 'subsample': 0.9892419066287368, 'colsample_bytree': 0.653425888368649, 'gamma': 1.056910292189577, 'reg_alpha': 6.748924129163534, 'reg_lambda': 4.916825201584168, 'n_estimators': 289}. Best is trial 92 with value: 0.4355871870782814.\n"
     ]
    },
    {
     "name": "stderr",
     "output_type": "stream",
     "text": [
      "Best trial: 92. Best value: 0.435587:  96%|█████████▌| 96/100 [2:28:47<07:41, 115.33s/it]"
     ]
    },
    {
     "name": "stdout",
     "output_type": "stream",
     "text": [
      "[I 2025-10-12 14:03:48,570] Trial 95 finished with value: 0.43614267639381543 and parameters: {'eta': 0.22717013287638751, 'max_depth': 10, 'min_child_weight': 27, 'subsample': 0.990185051818782, 'colsample_bytree': 0.6802683051160476, 'gamma': 0.9508995732510133, 'reg_alpha': 7.052291158351294, 'reg_lambda': 4.550654796802682, 'n_estimators': 288}. Best is trial 92 with value: 0.4355871870782814.\n"
     ]
    },
    {
     "name": "stderr",
     "output_type": "stream",
     "text": [
      "Best trial: 92. Best value: 0.435587:  97%|█████████▋| 97/100 [2:30:35<05:39, 113.07s/it]"
     ]
    },
    {
     "name": "stdout",
     "output_type": "stream",
     "text": [
      "[I 2025-10-12 14:05:36,373] Trial 96 finished with value: 0.4369122197185698 and parameters: {'eta': 0.2253101568499425, 'max_depth': 10, 'min_child_weight': 27, 'subsample': 0.9998016848518583, 'colsample_bytree': 0.6510198553773925, 'gamma': 1.713773039101921, 'reg_alpha': 6.813196579972657, 'reg_lambda': 4.67988268868635, 'n_estimators': 276}. Best is trial 92 with value: 0.4355871870782814.\n"
     ]
    },
    {
     "name": "stderr",
     "output_type": "stream",
     "text": [
      "Best trial: 92. Best value: 0.435587:  98%|█████████▊| 98/100 [2:32:29<03:46, 113.46s/it]"
     ]
    },
    {
     "name": "stdout",
     "output_type": "stream",
     "text": [
      "[I 2025-10-12 14:07:30,735] Trial 97 finished with value: 0.43691003917457005 and parameters: {'eta': 0.24841264826634638, 'max_depth': 10, 'min_child_weight': 29, 'subsample': 0.9900795239964222, 'colsample_bytree': 0.6791682272044169, 'gamma': 1.0502498149815178, 'reg_alpha': 7.746339740715483, 'reg_lambda': 4.952198672774244, 'n_estimators': 288}. Best is trial 92 with value: 0.4355871870782814.\n"
     ]
    },
    {
     "name": "stderr",
     "output_type": "stream",
     "text": [
      "Best trial: 92. Best value: 0.435587:  99%|█████████▉| 99/100 [2:34:06<01:48, 108.32s/it]"
     ]
    },
    {
     "name": "stdout",
     "output_type": "stream",
     "text": [
      "[I 2025-10-12 14:09:07,053] Trial 98 finished with value: 0.43784018466134433 and parameters: {'eta': 0.23918779886546454, 'max_depth': 10, 'min_child_weight': 26, 'subsample': 0.9708716432023022, 'colsample_bytree': 0.6577514026933193, 'gamma': 1.178210651753037, 'reg_alpha': 7.082043026087628, 'reg_lambda': 3.875218584516394, 'n_estimators': 262}. Best is trial 92 with value: 0.4355871870782814.\n"
     ]
    },
    {
     "name": "stderr",
     "output_type": "stream",
     "text": [
      "Best trial: 92. Best value: 0.435587: 100%|██████████| 100/100 [2:35:58<00:00, 93.59s/it] "
     ]
    },
    {
     "name": "stdout",
     "output_type": "stream",
     "text": [
      "[I 2025-10-12 14:10:59,791] Trial 99 finished with value: 0.43689128808433964 and parameters: {'eta': 0.2148414877349589, 'max_depth': 10, 'min_child_weight': 28, 'subsample': 0.9550520499448616, 'colsample_bytree': 0.6912324156362424, 'gamma': 1.4319926253223472, 'reg_alpha': 6.733980593780706, 'reg_lambda': 4.426250717424357, 'n_estimators': 282}. Best is trial 92 with value: 0.4355871870782814.\n"
     ]
    },
    {
     "name": "stderr",
     "output_type": "stream",
     "text": [
      "\n"
     ]
    }
   ],
   "source": [
    "\n",
    "# Step 1: Tune hyperparameters\n",
    "tune_result = pipeline.run_experiment(\n",
    "    sku_tuples=sku_tuples,\n",
    "    modeling_strategy=ModelingStrategy.COMBINED,\n",
    "    model_type=\"xgboost_quantile\",\n",
    "    quantile_alphas=[0.5],\n",
    "    mode=\"hp_tune\",\n",
    "    tune_on=500,\n",
    "    tuning_config={'n_trials': 100, 'n_folds': 5}\n",
    ")"
   ]
  },
  {
   "cell_type": "code",
   "execution_count": 15,
   "metadata": {},
   "outputs": [
    {
     "data": {
      "text/plain": [
       "0.4355871870782814"
      ]
     },
     "execution_count": 15,
     "metadata": {},
     "output_type": "execute_result"
    }
   ],
   "source": [
    "tune_result.best_score"
   ]
  },
  {
   "cell_type": "code",
   "execution_count": 16,
   "metadata": {},
   "outputs": [
    {
     "data": {
      "text/plain": [
       "{'eta': 0.2251586017238223,\n",
       " 'max_depth': 10,\n",
       " 'min_child_weight': 26,\n",
       " 'subsample': 0.9639446007829685,\n",
       " 'colsample_bytree': 0.6507755877543546,\n",
       " 'gamma': 0.6139963456942783,\n",
       " 'reg_alpha': 6.768595449859619,\n",
       " 'reg_lambda': 4.832153974114423,\n",
       " 'n_estimators': 293}"
      ]
     },
     "execution_count": 16,
     "metadata": {},
     "output_type": "execute_result"
    }
   ],
   "source": [
    "tune_result.best_params"
   ]
  },
  {
   "cell_type": "markdown",
   "metadata": {},
   "source": [
    "{'eta': 0.2251586017238223,\n",
    " 'max_depth': 10,\n",
    " 'min_child_weight': 26,\n",
    " 'subsample': 0.9639446007829685,\n",
    " 'colsample_bytree': 0.6507755877543546,\n",
    " 'gamma': 0.6139963456942783,\n",
    " 'reg_alpha': 6.768595449859619,\n",
    " 'reg_lambda': 4.832153974114423,\n",
    " 'n_estimators': 293}"
   ]
  },
  {
   "cell_type": "markdown",
   "metadata": {},
   "source": [
    "## Run With tuned Params"
   ]
  },
  {
   "cell_type": "code",
   "execution_count": 27,
   "metadata": {},
   "outputs": [],
   "source": [
    "sku_tuples=[(1912, 7), (377, 1), (715, 7)]\n",
    "quantiles = [0.5, 0.7, 0.9, 0.95, 0.99]\n",
    "\n",
    "hyperparameters = {'eta': 0.2251586017238223,\n",
    " 'max_depth': 10,\n",
    " 'min_child_weight': 26,\n",
    " 'subsample': 0.9639446007829685,\n",
    " 'colsample_bytree': 0.6507755877543546,\n",
    " 'gamma': 0.6139963456942783,\n",
    " 'reg_alpha': 6.768595449859619,\n",
    " 'reg_lambda': 4.832153974114423,\n",
    " 'n_estimators': 293}\n",
    "\n",
    "pipeline = BenchmarkPipeline(data_config)"
   ]
  },
  {
   "cell_type": "code",
   "execution_count": 63,
   "metadata": {},
   "outputs": [
    {
     "name": "stderr",
     "output_type": "stream",
     "text": [
      "100%|██████████| 500/500 [00:26<00:00, 19.14it/s]\n",
      "Training models: 100%|██████████| 500/500 [09:05<00:00,  1.09s/it]\n"
     ]
    }
   ],
   "source": [
    "results_lightning_std = pipeline.run_experiment(\n",
    "    sku_tuples=sku_tuples_complete[:500],\n",
    "    modeling_strategy=ModelingStrategy.INDIVIDUAL,\n",
    "    model_type=\"xgboost_quantile\",\n",
    "    quantile_alphas=quantiles,\n",
    "    hyperparameters = hyperparameters,\n",
    "    experiment_name=\"xgb_quantile_test\",\n",
    "    evaluate_on_test=True\n",
    ")"
   ]
  },
  {
   "cell_type": "code",
   "execution_count": 64,
   "metadata": {},
   "outputs": [
    {
     "name": "stdout",
     "output_type": "stream",
     "text": [
      "number of models trained: 2500\n",
      "number of skus: 100\n",
      "number of quantiles: 5\n"
     ]
    }
   ],
   "source": [
    "print(f\"number of models trained: {len(results_lightning_std.training_results)}\")\n",
    "print(f\"number of skus: {len(sku_tuples_complete[:100])}\")\n",
    "print(f\"number of quantiles: {len(quantiles)}\")"
   ]
  },
  {
   "cell_type": "code",
   "execution_count": 65,
   "metadata": {},
   "outputs": [
    {
     "data": {
      "text/plain": [
       "np.float64(0.23566433566433567)"
      ]
     },
     "execution_count": 65,
     "metadata": {},
     "output_type": "execute_result"
    }
   ],
   "source": [
    "results_lightning_std.training_results[1].performance_metrics.get('mean_quantile_loss')"
   ]
  },
  {
   "cell_type": "code",
   "execution_count": 66,
   "metadata": {},
   "outputs": [
    {
     "data": {
      "text/html": [
       "<div><style>\n",
       ".dataframe > thead > tr,\n",
       ".dataframe > tbody > tr {\n",
       "  text-align: right;\n",
       "  white-space: pre-wrap;\n",
       "}\n",
       "</style>\n",
       "<small>shape: (2_500, 5)</small><table border=\"1\" class=\"dataframe\"><thead><tr><th>sku_tuples</th><th>productID</th><th>storeID</th><th>quantile_level</th><th>mean_quantile_loss</th></tr><tr><td>list[list[i64]]</td><td>i64</td><td>i64</td><td>f64</td><td>f64</td></tr></thead><tbody><tr><td>[[251, 1]]</td><td>251</td><td>1</td><td>0.5</td><td>0.244755</td></tr><tr><td>[[251, 1]]</td><td>251</td><td>1</td><td>0.7</td><td>0.235664</td></tr><tr><td>[[251, 1]]</td><td>251</td><td>1</td><td>0.9</td><td>0.165035</td></tr><tr><td>[[251, 1]]</td><td>251</td><td>1</td><td>0.95</td><td>0.107343</td></tr><tr><td>[[251, 1]]</td><td>251</td><td>1</td><td>0.99</td><td>0.037972</td></tr><tr><td>&hellip;</td><td>&hellip;</td><td>&hellip;</td><td>&hellip;</td><td>&hellip;</td></tr><tr><td>[[2266, 7]]</td><td>2266</td><td>7</td><td>0.5</td><td>0.066434</td></tr><tr><td>[[2266, 7]]</td><td>2266</td><td>7</td><td>0.7</td><td>0.091608</td></tr><tr><td>[[2266, 7]]</td><td>2266</td><td>7</td><td>0.9</td><td>0.107692</td></tr><tr><td>[[2266, 7]]</td><td>2266</td><td>7</td><td>0.95</td><td>0.064336</td></tr><tr><td>[[2266, 7]]</td><td>2266</td><td>7</td><td>0.99</td><td>0.018671</td></tr></tbody></table></div>"
      ],
      "text/plain": [
       "shape: (2_500, 5)\n",
       "┌─────────────────┬───────────┬─────────┬────────────────┬────────────────────┐\n",
       "│ sku_tuples      ┆ productID ┆ storeID ┆ quantile_level ┆ mean_quantile_loss │\n",
       "│ ---             ┆ ---       ┆ ---     ┆ ---            ┆ ---                │\n",
       "│ list[list[i64]] ┆ i64       ┆ i64     ┆ f64            ┆ f64                │\n",
       "╞═════════════════╪═══════════╪═════════╪════════════════╪════════════════════╡\n",
       "│ [[251, 1]]      ┆ 251       ┆ 1       ┆ 0.5            ┆ 0.244755           │\n",
       "│ [[251, 1]]      ┆ 251       ┆ 1       ┆ 0.7            ┆ 0.235664           │\n",
       "│ [[251, 1]]      ┆ 251       ┆ 1       ┆ 0.9            ┆ 0.165035           │\n",
       "│ [[251, 1]]      ┆ 251       ┆ 1       ┆ 0.95           ┆ 0.107343           │\n",
       "│ [[251, 1]]      ┆ 251       ┆ 1       ┆ 0.99           ┆ 0.037972           │\n",
       "│ …               ┆ …         ┆ …       ┆ …              ┆ …                  │\n",
       "│ [[2266, 7]]     ┆ 2266      ┆ 7       ┆ 0.5            ┆ 0.066434           │\n",
       "│ [[2266, 7]]     ┆ 2266      ┆ 7       ┆ 0.7            ┆ 0.091608           │\n",
       "│ [[2266, 7]]     ┆ 2266      ┆ 7       ┆ 0.9            ┆ 0.107692           │\n",
       "│ [[2266, 7]]     ┆ 2266      ┆ 7       ┆ 0.95           ┆ 0.064336           │\n",
       "│ [[2266, 7]]     ┆ 2266      ┆ 7       ┆ 0.99           ┆ 0.018671           │\n",
       "└─────────────────┴───────────┴─────────┴────────────────┴────────────────────┘"
      ]
     },
     "execution_count": 66,
     "metadata": {},
     "output_type": "execute_result"
    }
   ],
   "source": [
    "# More comprehensive DataFrame with additional metrics\n",
    "results_df = pl.DataFrame({\n",
    "    \"sku_tuples\": [result.sku_tuples for result in results_lightning_std.training_results],\n",
    "    \"productID\": [result.sku_tuples[0][0] for result in results_lightning_std.training_results],\n",
    "    \"storeID\": [result.sku_tuples[0][1] for result in results_lightning_std.training_results],\n",
    "    \"quantile_level\": [result.quantile_level for result in results_lightning_std.training_results],\n",
    "    \"mean_quantile_loss\" : [result.performance_metrics.get('mean_quantile_loss') for result in results_lightning_std.training_results]\n",
    "})\n",
    "\n",
    "results_df"
   ]
  },
  {
   "cell_type": "code",
   "execution_count": 72,
   "metadata": {},
   "outputs": [
    {
     "data": {
      "text/html": [
       "<div><style>\n",
       ".dataframe > thead > tr,\n",
       ".dataframe > tbody > tr {\n",
       "  text-align: right;\n",
       "  white-space: pre-wrap;\n",
       "}\n",
       "</style>\n",
       "<small>shape: (10, 5)</small><table border=\"1\" class=\"dataframe\"><thead><tr><th>sku_tuples</th><th>productID</th><th>storeID</th><th>quantile_level</th><th>mean_quantile_loss</th></tr><tr><td>list[list[i64]]</td><td>i64</td><td>i64</td><td>f64</td><td>f64</td></tr></thead><tbody><tr><td>[[2284, 9]]</td><td>2284</td><td>9</td><td>0.7</td><td>5.529371</td></tr><tr><td>[[466, 7]]</td><td>466</td><td>7</td><td>0.5</td><td>5.472028</td></tr><tr><td>[[2284, 9]]</td><td>2284</td><td>9</td><td>0.5</td><td>5.020979</td></tr><tr><td>[[2284, 9]]</td><td>2284</td><td>9</td><td>0.9</td><td>4.745455</td></tr><tr><td>[[466, 7]]</td><td>466</td><td>7</td><td>0.7</td><td>4.541259</td></tr><tr><td>[[2284, 9]]</td><td>2284</td><td>9</td><td>0.95</td><td>4.512587</td></tr><tr><td>[[46, 3]]</td><td>46</td><td>3</td><td>0.5</td><td>4.48951</td></tr><tr><td>[[46, 3]]</td><td>46</td><td>3</td><td>0.7</td><td>4.224476</td></tr><tr><td>[[2284, 9]]</td><td>2284</td><td>9</td><td>0.99</td><td>4.130559</td></tr><tr><td>[[1929, 7]]</td><td>1929</td><td>7</td><td>0.7</td><td>3.897203</td></tr></tbody></table></div>"
      ],
      "text/plain": [
       "shape: (10, 5)\n",
       "┌─────────────────┬───────────┬─────────┬────────────────┬────────────────────┐\n",
       "│ sku_tuples      ┆ productID ┆ storeID ┆ quantile_level ┆ mean_quantile_loss │\n",
       "│ ---             ┆ ---       ┆ ---     ┆ ---            ┆ ---                │\n",
       "│ list[list[i64]] ┆ i64       ┆ i64     ┆ f64            ┆ f64                │\n",
       "╞═════════════════╪═══════════╪═════════╪════════════════╪════════════════════╡\n",
       "│ [[2284, 9]]     ┆ 2284      ┆ 9       ┆ 0.7            ┆ 5.529371           │\n",
       "│ [[466, 7]]      ┆ 466       ┆ 7       ┆ 0.5            ┆ 5.472028           │\n",
       "│ [[2284, 9]]     ┆ 2284      ┆ 9       ┆ 0.5            ┆ 5.020979           │\n",
       "│ [[2284, 9]]     ┆ 2284      ┆ 9       ┆ 0.9            ┆ 4.745455           │\n",
       "│ [[466, 7]]      ┆ 466       ┆ 7       ┆ 0.7            ┆ 4.541259           │\n",
       "│ [[2284, 9]]     ┆ 2284      ┆ 9       ┆ 0.95           ┆ 4.512587           │\n",
       "│ [[46, 3]]       ┆ 46        ┆ 3       ┆ 0.5            ┆ 4.48951            │\n",
       "│ [[46, 3]]       ┆ 46        ┆ 3       ┆ 0.7            ┆ 4.224476           │\n",
       "│ [[2284, 9]]     ┆ 2284      ┆ 9       ┆ 0.99           ┆ 4.130559           │\n",
       "│ [[1929, 7]]     ┆ 1929      ┆ 7       ┆ 0.7            ┆ 3.897203           │\n",
       "└─────────────────┴───────────┴─────────┴────────────────┴────────────────────┘"
      ]
     },
     "execution_count": 72,
     "metadata": {},
     "output_type": "execute_result"
    }
   ],
   "source": [
    "results_df.sort('mean_quantile_loss', descending=True).head(10)"
   ]
  },
  {
   "cell_type": "code",
   "execution_count": 73,
   "metadata": {},
   "outputs": [
    {
     "data": {
      "text/html": [
       "<div><style>\n",
       ".dataframe > thead > tr,\n",
       ".dataframe > tbody > tr {\n",
       "  text-align: right;\n",
       "  white-space: pre-wrap;\n",
       "}\n",
       "</style>\n",
       "<small>shape: (1, 1)</small><table border=\"1\" class=\"dataframe\"><thead><tr><th>target_lag_1</th></tr><tr><td>f64</td></tr></thead><tbody><tr><td>1.316583</td></tr></tbody></table></div>"
      ],
      "text/plain": [
       "shape: (1, 1)\n",
       "┌──────────────┐\n",
       "│ target_lag_1 │\n",
       "│ ---          │\n",
       "│ f64          │\n",
       "╞══════════════╡\n",
       "│ 1.316583     │\n",
       "└──────────────┘"
      ]
     },
     "execution_count": 73,
     "metadata": {},
     "output_type": "execute_result"
    }
   ],
   "source": [
    "(df_clean\n",
    " .filter(pl.col('productID') == 2284)\n",
    " .filter(pl.col('storeID') == 9)\n",
    " .filter(pl.col('date') < pl.date(2016,1,1))\n",
    " .drop_nulls()\n",
    " .select(pl.col('target_lag_1').mean()))"
   ]
  },
  {
   "cell_type": "code",
   "execution_count": 77,
   "metadata": {},
   "outputs": [
    {
     "data": {
      "text/html": [
       "<div><style>\n",
       ".dataframe > thead > tr,\n",
       ".dataframe > tbody > tr {\n",
       "  text-align: right;\n",
       "  white-space: pre-wrap;\n",
       "}\n",
       "</style>\n",
       "<small>shape: (1, 1)</small><table border=\"1\" class=\"dataframe\"><thead><tr><th>target_lag_1</th></tr><tr><td>f64</td></tr></thead><tbody><tr><td>21.195804</td></tr></tbody></table></div>"
      ],
      "text/plain": [
       "shape: (1, 1)\n",
       "┌──────────────┐\n",
       "│ target_lag_1 │\n",
       "│ ---          │\n",
       "│ f64          │\n",
       "╞══════════════╡\n",
       "│ 21.195804    │\n",
       "└──────────────┘"
      ]
     },
     "execution_count": 77,
     "metadata": {},
     "output_type": "execute_result"
    }
   ],
   "source": [
    "(df_clean\n",
    " .filter(pl.col('productID') == 2284)\n",
    " .filter(pl.col('storeID') == 9)\n",
    " .filter(pl.col('date') >= pl.date(2016,1,1))\n",
    " .drop_nulls()\n",
    " .select(pl.col('target_lag_1').mean()))"
   ]
  },
  {
   "cell_type": "code",
   "execution_count": 50,
   "metadata": {},
   "outputs": [
    {
     "data": {
      "text/html": [
       "\n",
       "            <div id=\"2GQMMG\"></div>\n",
       "            <script type=\"text/javascript\" data-lets-plot-script=\"library\">\n",
       "                if(!window.letsPlotCallQueue) {\n",
       "                    window.letsPlotCallQueue = [];\n",
       "                }; \n",
       "                window.letsPlotCall = function(f) {\n",
       "                    window.letsPlotCallQueue.push(f);\n",
       "                };\n",
       "                (function() {\n",
       "                    var script = document.createElement(\"script\");\n",
       "                    script.type = \"text/javascript\";\n",
       "                    script.src = \"https://cdn.jsdelivr.net/gh/JetBrains/lets-plot@v4.7.3/js-package/distr/lets-plot.min.js\";\n",
       "                    script.onload = function() {\n",
       "                        window.letsPlotCall = function(f) {f();};\n",
       "                        window.letsPlotCallQueue.forEach(function(f) {f();});\n",
       "                        window.letsPlotCallQueue = [];\n",
       "                        \n",
       "                    };\n",
       "                    script.onerror = function(event) {\n",
       "                        window.letsPlotCall = function(f) {};    // noop\n",
       "                        window.letsPlotCallQueue = [];\n",
       "                        var div = document.createElement(\"div\");\n",
       "                        div.style.color = 'darkred';\n",
       "                        div.textContent = 'Error loading Lets-Plot JS';\n",
       "                        document.getElementById(\"2GQMMG\").appendChild(div);\n",
       "                    };\n",
       "                    var e = document.getElementById(\"2GQMMG\");\n",
       "                    e.appendChild(script);\n",
       "                })()\n",
       "            </script>\n",
       "            "
      ]
     },
     "metadata": {},
     "output_type": "display_data"
    },
    {
     "data": {
      "text/html": [
       "   <div id=\"kI9NG0\"></div>\n",
       "   <script type=\"text/javascript\" data-lets-plot-script=\"plot\">\n",
       "   \n",
       "   (function() {\n",
       "   // ----------\n",
       "   \n",
       "   const forceImmediateRender = false;\n",
       "   const responsive = false;\n",
       "   \n",
       "   let sizing = {\n",
       "       width_mode: \"MIN\",\n",
       "       height_mode: \"SCALED\",\n",
       "       width: null, \n",
       "       height: null \n",
       "   };\n",
       "   \n",
       "   const preferredWidth = document.body.dataset.letsPlotPreferredWidth;\n",
       "   if (preferredWidth !== undefined) {\n",
       "       sizing = {\n",
       "           width_mode: 'FIXED',\n",
       "           height_mode: 'SCALED',\n",
       "           width: parseFloat(preferredWidth)\n",
       "       };\n",
       "   }\n",
       "   \n",
       "   const containerDiv = document.getElementById(\"kI9NG0\");\n",
       "   let fig = null;\n",
       "   \n",
       "   function renderPlot() {\n",
       "       if (fig === null) {\n",
       "           const plotSpec = {\n",
       "\"data\":{\n",
       "\"quantile_level\":[\"0.5\",\"0.7\",\"0.9\",\"0.95\",\"0.99\",\"0.5\",\"0.7\",\"0.9\",\"0.95\",\"0.99\",\"0.5\",\"0.7\",\"0.9\",\"0.95\",\"0.99\",\"0.5\",\"0.7\",\"0.9\",\"0.95\",\"0.99\",\"0.5\",\"0.7\",\"0.9\",\"0.95\",\"0.99\",\"0.5\",\"0.7\",\"0.9\",\"0.95\",\"0.99\",\"0.5\",\"0.7\",\"0.9\",\"0.95\",\"0.99\",\"0.5\",\"0.7\",\"0.9\",\"0.95\",\"0.99\",\"0.5\",\"0.7\",\"0.9\",\"0.95\",\"0.99\",\"0.5\",\"0.7\",\"0.9\",\"0.95\",\"0.99\",\"0.5\",\"0.7\",\"0.9\",\"0.95\",\"0.99\",\"0.5\",\"0.7\",\"0.9\",\"0.95\",\"0.99\",\"0.5\",\"0.7\",\"0.9\",\"0.95\",\"0.99\",\"0.5\",\"0.7\",\"0.9\",\"0.95\",\"0.99\",\"0.5\",\"0.7\",\"0.9\",\"0.95\",\"0.99\",\"0.5\",\"0.7\",\"0.9\",\"0.95\",\"0.99\",\"0.5\",\"0.7\",\"0.9\",\"0.95\",\"0.99\",\"0.5\",\"0.7\",\"0.9\",\"0.95\",\"0.99\",\"0.5\",\"0.7\",\"0.9\",\"0.95\",\"0.99\",\"0.5\",\"0.7\",\"0.9\",\"0.95\",\"0.99\",\"0.5\",\"0.7\",\"0.9\",\"0.95\",\"0.99\",\"0.5\",\"0.7\",\"0.9\",\"0.95\",\"0.99\",\"0.5\",\"0.7\",\"0.9\",\"0.95\",\"0.99\",\"0.5\",\"0.7\",\"0.9\",\"0.95\",\"0.99\",\"0.5\",\"0.7\",\"0.9\",\"0.95\",\"0.99\",\"0.5\",\"0.7\",\"0.9\",\"0.95\",\"0.99\",\"0.5\",\"0.7\",\"0.9\",\"0.95\",\"0.99\",\"0.5\",\"0.7\",\"0.9\",\"0.95\",\"0.99\",\"0.5\",\"0.7\",\"0.9\",\"0.95\",\"0.99\",\"0.5\",\"0.7\",\"0.9\",\"0.95\",\"0.99\",\"0.5\",\"0.7\",\"0.9\",\"0.95\",\"0.99\",\"0.5\",\"0.7\",\"0.9\",\"0.95\",\"0.99\",\"0.5\",\"0.7\",\"0.9\",\"0.95\",\"0.99\",\"0.5\",\"0.7\",\"0.9\",\"0.95\",\"0.99\",\"0.5\",\"0.7\",\"0.9\",\"0.95\",\"0.99\",\"0.5\",\"0.7\",\"0.9\",\"0.95\",\"0.99\",\"0.5\",\"0.7\",\"0.9\",\"0.95\",\"0.99\",\"0.5\",\"0.7\",\"0.9\",\"0.95\",\"0.99\",\"0.5\",\"0.7\",\"0.9\",\"0.95\",\"0.99\",\"0.5\",\"0.7\",\"0.9\",\"0.95\",\"0.99\",\"0.5\",\"0.7\",\"0.9\",\"0.95\",\"0.99\",\"0.5\",\"0.7\",\"0.9\",\"0.95\",\"0.99\",\"0.5\",\"0.7\",\"0.9\",\"0.95\",\"0.99\",\"0.5\",\"0.7\",\"0.9\",\"0.95\",\"0.99\",\"0.5\",\"0.7\",\"0.9\",\"0.95\",\"0.99\",\"0.5\",\"0.7\",\"0.9\",\"0.95\",\"0.99\",\"0.5\",\"0.7\",\"0.9\",\"0.95\",\"0.99\",\"0.5\",\"0.7\",\"0.9\",\"0.95\",\"0.99\",\"0.5\",\"0.7\",\"0.9\",\"0.95\",\"0.99\",\"0.5\",\"0.7\",\"0.9\",\"0.95\",\"0.99\",\"0.5\",\"0.7\",\"0.9\",\"0.95\",\"0.99\",\"0.5\",\"0.7\",\"0.9\",\"0.95\",\"0.99\",\"0.5\",\"0.7\",\"0.9\",\"0.95\",\"0.99\",\"0.5\",\"0.7\",\"0.9\",\"0.95\",\"0.99\",\"0.5\",\"0.7\",\"0.9\",\"0.95\",\"0.99\",\"0.5\",\"0.7\",\"0.9\",\"0.95\",\"0.99\",\"0.5\",\"0.7\",\"0.9\",\"0.95\",\"0.99\",\"0.5\",\"0.7\",\"0.9\",\"0.95\",\"0.99\",\"0.5\",\"0.7\",\"0.9\",\"0.95\",\"0.99\",\"0.5\",\"0.7\",\"0.9\",\"0.95\",\"0.99\",\"0.5\",\"0.7\",\"0.9\",\"0.95\",\"0.99\",\"0.5\",\"0.7\",\"0.9\",\"0.95\",\"0.99\",\"0.5\",\"0.7\",\"0.9\",\"0.95\",\"0.99\",\"0.5\",\"0.7\",\"0.9\",\"0.95\",\"0.99\",\"0.5\",\"0.7\",\"0.9\",\"0.95\",\"0.99\",\"0.5\",\"0.7\",\"0.9\",\"0.95\",\"0.99\",\"0.5\",\"0.7\",\"0.9\",\"0.95\",\"0.99\",\"0.5\",\"0.7\",\"0.9\",\"0.95\",\"0.99\",\"0.5\",\"0.7\",\"0.9\",\"0.95\",\"0.99\",\"0.5\",\"0.7\",\"0.9\",\"0.95\",\"0.99\",\"0.5\",\"0.7\",\"0.9\",\"0.95\",\"0.99\",\"0.5\",\"0.7\",\"0.9\",\"0.95\",\"0.99\",\"0.5\",\"0.7\",\"0.9\",\"0.95\",\"0.99\",\"0.5\",\"0.7\",\"0.9\",\"0.95\",\"0.99\",\"0.5\",\"0.7\",\"0.9\",\"0.95\",\"0.99\",\"0.5\",\"0.7\",\"0.9\",\"0.95\",\"0.99\",\"0.5\",\"0.7\",\"0.9\",\"0.95\",\"0.99\",\"0.5\",\"0.7\",\"0.9\",\"0.95\",\"0.99\",\"0.5\",\"0.7\",\"0.9\",\"0.95\",\"0.99\",\"0.5\",\"0.7\",\"0.9\",\"0.95\",\"0.99\",\"0.5\",\"0.7\",\"0.9\",\"0.95\",\"0.99\",\"0.5\",\"0.7\",\"0.9\",\"0.95\",\"0.99\",\"0.5\",\"0.7\",\"0.9\",\"0.95\",\"0.99\",\"0.5\",\"0.7\",\"0.9\",\"0.95\",\"0.99\",\"0.5\",\"0.7\",\"0.9\",\"0.95\",\"0.99\",\"0.5\",\"0.7\",\"0.9\",\"0.95\",\"0.99\",\"0.5\",\"0.7\",\"0.9\",\"0.95\",\"0.99\",\"0.5\",\"0.7\",\"0.9\",\"0.95\",\"0.99\",\"0.5\",\"0.7\",\"0.9\",\"0.95\",\"0.99\",\"0.5\",\"0.7\",\"0.9\",\"0.95\",\"0.99\",\"0.5\",\"0.7\",\"0.9\",\"0.95\",\"0.99\",\"0.5\",\"0.7\",\"0.9\",\"0.95\",\"0.99\",\"0.5\",\"0.7\",\"0.9\",\"0.95\",\"0.99\",\"0.5\",\"0.7\",\"0.9\",\"0.95\",\"0.99\",\"0.5\",\"0.7\",\"0.9\",\"0.95\",\"0.99\",\"0.5\",\"0.7\",\"0.9\",\"0.95\",\"0.99\",\"0.5\",\"0.7\",\"0.9\",\"0.95\",\"0.99\",\"0.5\",\"0.7\",\"0.9\",\"0.95\",\"0.99\",\"0.5\",\"0.7\",\"0.9\",\"0.95\",\"0.99\",\"0.5\",\"0.7\",\"0.9\",\"0.95\",\"0.99\"],\n",
       "\"mean_quantile_loss\":[0.24475524475524477,0.23566433566433567,0.165034965034965,0.10734265734265738,0.037972027972028,0.2902097902097902,0.46013986013986,0.38811188811188807,0.24580419580419585,0.07734265734265731,0.38461538461538464,0.355944055944056,0.19720279720279718,0.12097902097902107,0.03279720279720282,0.3531468531468531,0.5433566433566432,1.5356643356643358,0.6776223776223776,0.32454545454545464,0.024475524475524476,0.15104895104895105,0.05944055944055944,0.03986013986013986,0.009580419580419589,0.3111888111888112,0.24475524475524477,0.1762237762237762,0.11573426573426582,0.03153846153846158,0.5174825174825175,0.6965034965034964,0.5545454545454547,0.44160839160839166,0.25076923076923086,0.21678321678321677,0.3034965034965034,0.14055944055944056,0.11223776223776225,0.050629370629370646,0.06293706293706294,0.1146853146853147,0.09300699300699301,0.05069930069930073,0.01573426573426574,0.23426573426573427,0.26223776223776224,0.16013986013986012,0.1174825174825175,0.02930069930069931,0.3146853146853147,0.33916083916083917,0.1475524475524475,0.0755244755244756,0.02510489510489513,0.45454545454545453,0.4923076923076922,0.2664335664335664,0.16538461538461546,0.04321678321678325,0.6328671328671329,0.5720279720279721,0.30979020979020977,0.17972027972027982,0.05041958041958044,1.0874125874125875,1.0727272727272725,0.7888111888111887,0.5430069930069933,0.19125874125874132,0.33916083916083917,0.4748251748251748,0.25594405594405595,0.2398601398601399,0.06916083916083916,0.3181818181818182,0.34335664335664334,0.26643356643356647,0.17132867132867138,0.03552447552447554,0.6398601398601399,0.6216783216783216,0.4048951048951049,0.24440559440559453,0.07013986013986019,0.527972027972028,0.5174825174825175,0.3426573426573426,0.22342657342657352,0.0840559440559441,0.12937062937062938,0.1811188811188811,0.10209790209790207,0.06503496503496506,0.024405594405594422,0.07342657342657342,0.2811188811188811,0.10769230769230767,0.06433566433566437,0.029650349650349652,0.1958041958041958,0.22237762237762235,0.11958041958041957,0.08426573426573428,0.031048951048951064,0.3321678321678322,0.2951048951048951,0.22237762237762237,0.20559440559440564,0.04832167832167834,0.6048951048951049,0.5769230769230769,0.34475524475524466,0.22132867132867143,0.06958041958041962,0.6118881118881119,0.4867132867132869,0.19020979020979012,0.10559440559440565,0.023286713286713306,0.0979020979020979,0.5552447552447555,0.13636363636363633,0.09615384615384617,0.03202797202797204,0.06993006993006994,0.09999999999999999,0.12097902097902095,0.077972027972028,0.02559440559440561,0.14335664335664336,0.20069930069930067,0.1818181818181818,0.13356643356643358,0.04510489510489511,0.2692307692307692,0.37692307692307697,0.193006993006993,0.16993006993006995,0.04958041958041958,0.8706293706293706,0.8867132867132866,0.6,0.41993006993007004,0.21601398601398605,0.2972027972027972,0.27972027972027974,0.14895104895104888,0.07797202797202801,0.021188811188811205,0.1853146853146853,0.2874125874125874,0.13986013986013987,0.1083916083916084,0.0832167832167832,0.2727272727272727,0.34615384615384615,0.2622377622377623,0.17762237762237768,0.10146853146853148,0.6048951048951049,0.5972027972027972,0.4062937062937063,0.28881118881118895,0.15335664335664337,0.5524475524475524,0.27062937062937065,0.1909090909090909,0.1898601398601399,0.08307692307692309,0.2517482517482518,0.2923076923076923,0.22867132867132864,0.16013986013986029,0.04699300699300703,0.6258741258741258,0.6398601398601399,0.37062937062937057,0.226923076923077,0.07818181818181823,0.2692307692307692,0.2776223776223776,0.22167832167832166,0.14895104895104902,0.06790209790209793,0.3321678321678322,0.33146853146853145,0.22447552447552455,0.15174825174825182,0.052937062937062955,0.47202797202797203,0.4839160839160838,0.3650349650349651,0.26223776223776235,0.12818181818181823,0.017482517482517484,0.024475524475524476,0.09650349650349646,0.048251748251748286,0.009650349650349659,0.4965034965034965,0.49720279720279714,0.3027972027972028,0.168881118881119,0.0507692307692308,0.2727272727272727,0.2643356643356643,0.1951048951048951,0.16398601398601403,0.051188811188811204,0.0944055944055944,0.13216783216783215,0.08811188811188807,0.04755244755244758,0.01811188811188813,0.13986013986013987,0.2650349650349651,0.12097902097902095,0.08496503496503498,0.0311888111888112,0.7622377622377622,0.7895104895104894,0.4741258741258741,0.29405594405594415,0.13615384615384618,0.27972027972027974,0.31188811188811183,0.14895104895104894,0.12692307692307694,0.04237762237762238,1.3776223776223777,1.2951048951048953,0.7482517482517482,0.4916083916083918,0.2225874125874126,0.13286713286713286,0.297902097902098,0.15034965034965034,0.11363636363636363,0.052307692307692326,0.5769230769230769,0.5538461538461538,0.29020979020979015,0.18881118881118897,0.047972027972028014,0.8461538461538461,0.8391608391608392,0.5958041958041957,0.46293706293706294,0.27608391608391614,0.6573426573426573,0.7391608391608391,0.486013986013986,0.3143356643356644,0.13328671328671332,0.3741258741258741,0.3195804195804196,0.19720279720279718,0.16888111888111892,0.05636363636363638,0.6013986013986014,0.5580419580419581,0.33566433566433573,0.3388111888111888,0.281888111888112,0.458041958041958,0.4391608391608392,0.265034965034965,0.16573426573426586,0.06545454545454549,0.9755244755244755,1.2965034965034963,1.1321678321678321,0.9017482517482519,0.6327272727272727,0.5874125874125874,0.5853146853146852,0.3727272727272727,0.23916083916083927,0.0814685314685315,0.46503496503496505,0.49720279720279714,0.33076923076923076,0.211888111888112,0.0733566433566434,0.4370629370629371,0.40489510489510483,0.2678321678321678,0.1884615384615385,0.11055944055944059,0.12937062937062938,0.23006993006993012,0.14405594405594405,0.10104895104895112,0.02741258741258744,0.15034965034965034,0.19160839160839158,0.15384615384615383,0.112937062937063,0.033986013986014016,0.5734265734265734,0.5811188811188811,0.313986013986014,0.16188811188811195,0.09391608391608391,0.3076923076923077,0.24475524475524477,0.18181818181818182,0.08146853146853153,0.023496503496503517,0.458041958041958,0.4363636363636363,0.28251748251748243,0.18321678321678328,0.06517482517482522,0.6363636363636364,0.6692307692307692,0.29999999999999993,0.1996503496503498,0.05286713286713291,0.0979020979020979,0.13706293706293704,0.12937062937062932,0.08916083916083921,0.03202797202797205,0.28321678321678323,0.2608391608391609,0.1755244755244756,0.0783216783216784,0.021258741258741273,0.26223776223776224,0.42237762237762244,0.08811188811188808,0.08216783216783222,0.022937062937062956,0.15734265734265734,0.27272727272727276,0.33356643356643356,0.28566433566433574,0.023986013986014,0.5034965034965035,0.486013986013986,0.2559440559440559,0.16608391608391615,0.06601398601398605,0.5979020979020979,0.5636363636363636,0.3202797202797203,0.17657342657342667,0.05475524475524478,3.7867132867132867,3.8972027972027967,3.2440559440559444,2.7188811188811184,2.5123076923076924,0.5384615384615384,0.49860139860139846,0.31048951048951046,0.23356643356643367,0.08489510489510495,0.23426573426573427,0.2853146853146853,0.17902097902097902,0.10454545454545462,0.043286713286713296,0.13986013986013987,0.19720279720279718,0.079020979020979,0.04300699300699303,0.014195804195804204,0.11188811188811189,0.15664335664335663,0.11258741258741255,0.07377622377622381,0.042727272727272725,0.7972027972027972,0.879020979020979,0.5888111888111888,0.39650349650349664,0.17657342657342656,0.3881118881118881,0.36013986013986016,0.22797202797202792,0.13601398601398612,0.03860139860139862,0.45104895104895104,0.548251748251748,0.42307692307692313,0.34930069930069935,0.2080419580419581,0.48951048951048953,0.5097902097902098,0.33776223776223774,0.211888111888112,0.09832167832167833,0.9195804195804196,1.0671328671328673,0.9076923076923076,0.6954545454545458,0.3356643356643358,0.8846153846153846,0.8538461538461538,0.516083916083916,0.340909090909091,0.13272727272727275,0.38461538461538464,0.3062937062937063,0.18811188811188806,0.12657342657342668,0.033916083916083944,0.12237762237762238,0.17132867132867133,0.13846153846153844,0.10069930069930075,0.07048951048951048,0.15034965034965034,0.2307692307692308,0.12587412587412583,0.08496503496503503,0.026993006993007017,1.3391608391608392,1.3181818181818181,0.9678321678321676,0.6856643356643359,0.3767832167832168,2.3461538461538463,2.583216783216783,1.6552447552447551,1.302797202797203,0.8981818181818182,0.5804195804195804,1.0867132867132865,0.33006993006993,0.2524475524475525,0.39713286713286705,0.055944055944055944,0.25594405594405595,0.058741258741258746,0.05734265734265734,0.023706293706293718,0.8916083916083916,1.6888111888111887,1.116083916083916,1.0384615384615385,0.708181818181818,0.8776223776223776,1.0510489510489511,0.5909090909090909,0.4010489510489512,0.19734265734265738,0.10139860139860139,0.3020979020979021,0.14265734265734265,0.10279720279720282,0.045944055944055956,0.13986013986013987,0.19860139860139858,0.12797202797202795,0.091958041958042,0.01720279720279722,0.2867132867132867,0.2888111888111888,0.2034965034965035,0.10629370629370634,0.03125874125874128,0.4825174825174825,0.4657342657342659,0.36153846153846153,0.2451048951048952,0.11433566433566437,1.0804195804195804,1.0538461538461539,0.6552447552447551,0.4304195804195806,0.19132867132867143,0.513986013986014,0.4916083916083916,0.3265734265734265,0.18496503496503502,0.057272727272727295,0.3881118881118881,0.3342657342657343,0.18881118881118877,0.14300699300699302,0.030769230769230792,0.32167832167832167,0.27062937062937065,0.16083916083916078,0.11188811188811194,0.02566433566433569,0.993006993006993,0.8433566433566433,0.47342657342657335,0.35139860139860146,0.20244755244755244,0.35664335664335667,0.6125874125874126,0.4034965034965035,0.3038461538461539,0.1660839160839161]\n",
       "},\n",
       "\"mapping\":{\n",
       "\"x\":\"quantile_level\",\n",
       "\"y\":\"mean_quantile_loss\"\n",
       "},\n",
       "\"data_meta\":{\n",
       "\"series_annotations\":[{\n",
       "\"type\":\"unknown(polars:List(List(Int64)))\",\n",
       "\"column\":\"sku_tuples\"\n",
       "},{\n",
       "\"type\":\"int\",\n",
       "\"column\":\"productID\"\n",
       "},{\n",
       "\"type\":\"int\",\n",
       "\"column\":\"storeID\"\n",
       "},{\n",
       "\"type\":\"str\",\n",
       "\"column\":\"quantile_level\"\n",
       "},{\n",
       "\"type\":\"float\",\n",
       "\"column\":\"mean_quantile_loss\"\n",
       "}]\n",
       "},\n",
       "\"ggtitle\":{\n",
       "\"text\":\"Mean Quantile Loss Distribution by Quantile Level\",\n",
       "\"subtitle\":\"Based on 500 model results\"\n",
       "},\n",
       "\"guides\":{\n",
       "\"x\":{\n",
       "\"title\":\"Quantile Level\"\n",
       "},\n",
       "\"y\":{\n",
       "\"title\":\"Mean Quantile Loss\"\n",
       "}\n",
       "},\n",
       "\"theme\":{\n",
       "\"name\":\"minimal\",\n",
       "\"plot_title\":{\n",
       "\"face\":\"bold\",\n",
       "\"size\":14.0,\n",
       "\"blank\":false\n",
       "}\n",
       "},\n",
       "\"kind\":\"plot\",\n",
       "\"scales\":[],\n",
       "\"layers\":[{\n",
       "\"geom\":\"boxplot\",\n",
       "\"mapping\":{\n",
       "},\n",
       "\"data_meta\":{\n",
       "},\n",
       "\"fill\":\"#69b3a2\",\n",
       "\"alpha\":0.5,\n",
       "\"data\":{\n",
       "\"..middle..\":[0.3793706293706294,0.41363636363636364,0.2559440559440559,0.16888111888111895,0.05290209790209793],\n",
       "\"..lower..\":[0.22552447552447552,0.27062937062937065,0.14965034965034962,0.10506993006993014,0.03139860139860143],\n",
       "\"..upper..\":[0.5996503496503496,0.5832167832167832,0.3716783216783216,0.25734265734265743,0.12125874125874131],\n",
       "\"..ymin..\":[0.017482517482517484,0.024475524475524476,0.058741258741258746,0.03986013986013986,0.009580419580419589],\n",
       "\"..ymax..\":[1.0874125874125875,1.0510489510489511,0.6552447552447551,0.46293706293706294,0.25076923076923086],\n",
       "\"quantile_level\":[\"0.5\",\"0.7\",\"0.9\",\"0.95\",\"0.99\"]\n",
       "}\n",
       "},{\n",
       "\"geom\":\"point\",\n",
       "\"stat\":\"boxplot_outlier\",\n",
       "\"mapping\":{\n",
       "},\n",
       "\"show_legend\":false,\n",
       "\"data_meta\":{\n",
       "},\n",
       "\"fill\":\"#69b3a2\",\n",
       "\"shape\":21.0,\n",
       "\"data\":{\n",
       "\"..middle..\":[0.3793706293706294,0.3793706293706294,0.3793706293706294,0.3793706293706294,0.41363636363636364,0.41363636363636364,0.41363636363636364,0.41363636363636364,0.41363636363636364,0.41363636363636364,0.41363636363636364,0.41363636363636364,0.41363636363636364,0.41363636363636364,0.2559440559440559,0.2559440559440559,0.2559440559440559,0.2559440559440559,0.2559440559440559,0.2559440559440559,0.2559440559440559,0.2559440559440559,0.2559440559440559,0.16888111888111895,0.16888111888111895,0.16888111888111895,0.16888111888111895,0.16888111888111895,0.16888111888111895,0.16888111888111895,0.16888111888111895,0.16888111888111895,0.05290209790209793,0.05290209790209793,0.05290209790209793,0.05290209790209793,0.05290209790209793,0.05290209790209793,0.05290209790209793,0.05290209790209793,0.05290209790209793,0.05290209790209793],\n",
       "\"..lower..\":[0.22552447552447552,0.22552447552447552,0.22552447552447552,0.22552447552447552,0.27062937062937065,0.27062937062937065,0.27062937062937065,0.27062937062937065,0.27062937062937065,0.27062937062937065,0.27062937062937065,0.27062937062937065,0.27062937062937065,0.27062937062937065,0.14965034965034962,0.14965034965034962,0.14965034965034962,0.14965034965034962,0.14965034965034962,0.14965034965034962,0.14965034965034962,0.14965034965034962,0.14965034965034962,0.10506993006993014,0.10506993006993014,0.10506993006993014,0.10506993006993014,0.10506993006993014,0.10506993006993014,0.10506993006993014,0.10506993006993014,0.10506993006993014,0.03139860139860143,0.03139860139860143,0.03139860139860143,0.03139860139860143,0.03139860139860143,0.03139860139860143,0.03139860139860143,0.03139860139860143,0.03139860139860143,0.03139860139860143],\n",
       "\"..upper..\":[0.5996503496503496,0.5996503496503496,0.5996503496503496,0.5996503496503496,0.5832167832167832,0.5832167832167832,0.5832167832167832,0.5832167832167832,0.5832167832167832,0.5832167832167832,0.5832167832167832,0.5832167832167832,0.5832167832167832,0.5832167832167832,0.3716783216783216,0.3716783216783216,0.3716783216783216,0.3716783216783216,0.3716783216783216,0.3716783216783216,0.3716783216783216,0.3716783216783216,0.3716783216783216,0.25734265734265743,0.25734265734265743,0.25734265734265743,0.25734265734265743,0.25734265734265743,0.25734265734265743,0.25734265734265743,0.25734265734265743,0.25734265734265743,0.12125874125874131,0.12125874125874131,0.12125874125874131,0.12125874125874131,0.12125874125874131,0.12125874125874131,0.12125874125874131,0.12125874125874131,0.12125874125874131,0.12125874125874131],\n",
       "\"..ymin..\":[0.017482517482517484,0.017482517482517484,0.017482517482517484,0.017482517482517484,0.024475524475524476,0.024475524475524476,0.024475524475524476,0.024475524475524476,0.024475524475524476,0.024475524475524476,0.024475524475524476,0.024475524475524476,0.024475524475524476,0.024475524475524476,0.058741258741258746,0.058741258741258746,0.058741258741258746,0.058741258741258746,0.058741258741258746,0.058741258741258746,0.058741258741258746,0.058741258741258746,0.058741258741258746,0.03986013986013986,0.03986013986013986,0.03986013986013986,0.03986013986013986,0.03986013986013986,0.03986013986013986,0.03986013986013986,0.03986013986013986,0.03986013986013986,0.009580419580419589,0.009580419580419589,0.009580419580419589,0.009580419580419589,0.009580419580419589,0.009580419580419589,0.009580419580419589,0.009580419580419589,0.009580419580419589,0.009580419580419589],\n",
       "\"..ymax..\":[1.0874125874125875,1.0874125874125875,1.0874125874125875,1.0874125874125875,1.0510489510489511,1.0510489510489511,1.0510489510489511,1.0510489510489511,1.0510489510489511,1.0510489510489511,1.0510489510489511,1.0510489510489511,1.0510489510489511,1.0510489510489511,0.6552447552447551,0.6552447552447551,0.6552447552447551,0.6552447552447551,0.6552447552447551,0.6552447552447551,0.6552447552447551,0.6552447552447551,0.6552447552447551,0.46293706293706294,0.46293706293706294,0.46293706293706294,0.46293706293706294,0.46293706293706294,0.46293706293706294,0.46293706293706294,0.46293706293706294,0.46293706293706294,0.25076923076923086,0.25076923076923086,0.25076923076923086,0.25076923076923086,0.25076923076923086,0.25076923076923086,0.25076923076923086,0.25076923076923086,0.25076923076923086,0.25076923076923086],\n",
       "\"quantile_level\":[\"0.5\",\"0.5\",\"0.5\",\"0.5\",\"0.7\",\"0.7\",\"0.7\",\"0.7\",\"0.7\",\"0.7\",\"0.7\",\"0.7\",\"0.7\",\"0.7\",\"0.9\",\"0.9\",\"0.9\",\"0.9\",\"0.9\",\"0.9\",\"0.9\",\"0.9\",\"0.9\",\"0.95\",\"0.95\",\"0.95\",\"0.95\",\"0.95\",\"0.95\",\"0.95\",\"0.95\",\"0.95\",\"0.99\",\"0.99\",\"0.99\",\"0.99\",\"0.99\",\"0.99\",\"0.99\",\"0.99\",\"0.99\",\"0.99\"],\n",
       "\"mean_quantile_loss\":[1.3776223776223777,3.7867132867132867,1.3391608391608392,2.3461538461538463,1.0727272727272725,1.2951048951048953,1.2965034965034963,3.8972027972027967,1.0671328671328673,1.3181818181818181,2.583216783216783,1.0867132867132865,1.6888111888111887,1.0538461538461539,1.5356643356643358,0.7888111888111887,0.7482517482517482,1.1321678321678321,3.2440559440559444,0.9076923076923076,0.9678321678321676,1.6552447552447551,1.116083916083916,0.6776223776223776,0.5430069930069933,0.4916083916083918,0.9017482517482519,2.7188811188811184,0.6954545454545458,0.6856643356643359,1.302797202797203,1.0384615384615385,0.32454545454545464,0.27608391608391614,0.281888111888112,0.6327272727272727,2.5123076923076924,0.3356643356643358,0.3767832167832168,0.8981818181818182,0.39713286713286705,0.708181818181818]\n",
       "}\n",
       "},{\n",
       "\"geom\":\"jitter\",\n",
       "\"mapping\":{\n",
       "},\n",
       "\"data_meta\":{\n",
       "},\n",
       "\"width\":0.1,\n",
       "\"alpha\":0.3,\n",
       "\"size\":2.0,\n",
       "\"color\":\"#404080\",\n",
       "\"data\":{\n",
       "}\n",
       "}],\n",
       "\"metainfo_list\":[],\n",
       "\"spec_id\":\"3\"\n",
       "};\n",
       "           window.letsPlotCall(function() { fig = LetsPlot.buildPlotFromProcessedSpecs(plotSpec, containerDiv, sizing); });\n",
       "       } else {\n",
       "           fig.updateView({});\n",
       "       }\n",
       "   }\n",
       "   \n",
       "   const renderImmediately = \n",
       "       forceImmediateRender || (\n",
       "           sizing.width_mode === 'FIXED' && \n",
       "           (sizing.height_mode === 'FIXED' || sizing.height_mode === 'SCALED')\n",
       "       );\n",
       "   \n",
       "   if (renderImmediately) {\n",
       "       renderPlot();\n",
       "   }\n",
       "   \n",
       "   if (!renderImmediately || responsive) {\n",
       "       // Set up observer for initial sizing or continuous monitoring\n",
       "       var observer = new ResizeObserver(function(entries) {\n",
       "           for (let entry of entries) {\n",
       "               if (entry.contentBoxSize && \n",
       "                   entry.contentBoxSize[0].inlineSize > 0) {\n",
       "                   if (!responsive && observer) {\n",
       "                       observer.disconnect();\n",
       "                       observer = null;\n",
       "                   }\n",
       "                   renderPlot();\n",
       "                   if (!responsive) {\n",
       "                       break;\n",
       "                   }\n",
       "               }\n",
       "           }\n",
       "       });\n",
       "       \n",
       "       observer.observe(containerDiv);\n",
       "   }\n",
       "   \n",
       "   // ----------\n",
       "   })();\n",
       "   \n",
       "   </script>"
      ],
      "text/plain": [
       "<lets_plot.plot.core.PlotSpec at 0x4e38b42b0>"
      ]
     },
     "execution_count": 50,
     "metadata": {},
     "output_type": "execute_result"
    }
   ],
   "source": [
    "from lets_plot import *\n",
    "\n",
    "LetsPlot.setup_html()\n",
    "\n",
    "# Convert quantile_level to string for proper categorical handling\n",
    "results_df_plot = results_df.with_columns(\n",
    "    pl.col('quantile_level').cast(pl.Utf8).alias('quantile_level')\n",
    ")\n",
    "\n",
    "ggplot(results_df_plot, aes(x='quantile_level', y='mean_quantile_loss')) + \\\n",
    "    geom_boxplot(fill='#69b3a2', alpha=0.5, outlier_shape=21) + \\\n",
    "    geom_jitter(width=0.1, alpha=0.3, size=2, color='#404080') + \\\n",
    "    labs(\n",
    "        title='Mean Quantile Loss Distribution by Quantile Level',\n",
    "        subtitle=f'Based on {len(results_df)} model results',\n",
    "        x='Quantile Level',\n",
    "        y='Mean Quantile Loss'\n",
    "    ) + \\\n",
    "    theme_minimal() + \\\n",
    "    theme(plot_title=element_text(size=14, face='bold'))"
   ]
  },
  {
   "cell_type": "code",
   "execution_count": 49,
   "metadata": {},
   "outputs": [
    {
     "data": {
      "text/html": [
       "   <div id=\"SAKhEE\"></div>\n",
       "   <script type=\"text/javascript\" data-lets-plot-script=\"plot\">\n",
       "   \n",
       "   (function() {\n",
       "   // ----------\n",
       "   \n",
       "   const forceImmediateRender = false;\n",
       "   const responsive = false;\n",
       "   \n",
       "   let sizing = {\n",
       "       width_mode: \"MIN\",\n",
       "       height_mode: \"SCALED\",\n",
       "       width: null, \n",
       "       height: null \n",
       "   };\n",
       "   \n",
       "   const preferredWidth = document.body.dataset.letsPlotPreferredWidth;\n",
       "   if (preferredWidth !== undefined) {\n",
       "       sizing = {\n",
       "           width_mode: 'FIXED',\n",
       "           height_mode: 'SCALED',\n",
       "           width: parseFloat(preferredWidth)\n",
       "       };\n",
       "   }\n",
       "   \n",
       "   const containerDiv = document.getElementById(\"SAKhEE\");\n",
       "   let fig = null;\n",
       "   \n",
       "   function renderPlot() {\n",
       "       if (fig === null) {\n",
       "           const plotSpec = {\n",
       "\"data\":{\n",
       "\"quantile_level\":[0.5,0.7,0.9,0.95,0.99,0.5,0.7,0.9,0.95,0.99,0.5,0.7,0.9,0.95,0.99,0.5,0.7,0.9,0.95,0.99,0.5,0.7,0.9,0.95,0.99,0.5,0.7,0.9,0.95,0.99,0.5,0.7,0.9,0.95,0.99,0.5,0.7,0.9,0.95,0.99,0.5,0.7,0.9,0.95,0.99,0.5,0.7,0.9,0.95,0.99,0.5,0.7,0.9,0.95,0.99,0.5,0.7,0.9,0.95,0.99,0.5,0.7,0.9,0.95,0.99,0.5,0.7,0.9,0.95,0.99,0.5,0.7,0.9,0.95,0.99,0.5,0.7,0.9,0.95,0.99,0.5,0.7,0.9,0.95,0.99,0.5,0.7,0.9,0.95,0.99,0.5,0.7,0.9,0.95,0.99,0.5,0.7,0.9,0.95,0.99,0.5,0.7,0.9,0.95,0.99,0.5,0.7,0.9,0.95,0.99,0.5,0.7,0.9,0.95,0.99,0.5,0.7,0.9,0.95,0.99,0.5,0.7,0.9,0.95,0.99,0.5,0.7,0.9,0.95,0.99,0.5,0.7,0.9,0.95,0.99,0.5,0.7,0.9,0.95,0.99,0.5,0.7,0.9,0.95,0.99,0.5,0.7,0.9,0.95,0.99,0.5,0.7,0.9,0.95,0.99,0.5,0.7,0.9,0.95,0.99,0.5,0.7,0.9,0.95,0.99,0.5,0.7,0.9,0.95,0.99,0.5,0.7,0.9,0.95,0.99,0.5,0.7,0.9,0.95,0.99,0.5,0.7,0.9,0.95,0.99,0.5,0.7,0.9,0.95,0.99,0.5,0.7,0.9,0.95,0.99,0.5,0.7,0.9,0.95,0.99,0.5,0.7,0.9,0.95,0.99,0.5,0.7,0.9,0.95,0.99,0.5,0.7,0.9,0.95,0.99,0.5,0.7,0.9,0.95,0.99,0.5,0.7,0.9,0.95,0.99,0.5,0.7,0.9,0.95,0.99,0.5,0.7,0.9,0.95,0.99,0.5,0.7,0.9,0.95,0.99,0.5,0.7,0.9,0.95,0.99,0.5,0.7,0.9,0.95,0.99,0.5,0.7,0.9,0.95,0.99,0.5,0.7,0.9,0.95,0.99,0.5,0.7,0.9,0.95,0.99,0.5,0.7,0.9,0.95,0.99,0.5,0.7,0.9,0.95,0.99,0.5,0.7,0.9,0.95,0.99,0.5,0.7,0.9,0.95,0.99,0.5,0.7,0.9,0.95,0.99,0.5,0.7,0.9,0.95,0.99,0.5,0.7,0.9,0.95,0.99,0.5,0.7,0.9,0.95,0.99,0.5,0.7,0.9,0.95,0.99,0.5,0.7,0.9,0.95,0.99,0.5,0.7,0.9,0.95,0.99,0.5,0.7,0.9,0.95,0.99,0.5,0.7,0.9,0.95,0.99,0.5,0.7,0.9,0.95,0.99,0.5,0.7,0.9,0.95,0.99,0.5,0.7,0.9,0.95,0.99,0.5,0.7,0.9,0.95,0.99,0.5,0.7,0.9,0.95,0.99,0.5,0.7,0.9,0.95,0.99,0.5,0.7,0.9,0.95,0.99,0.5,0.7,0.9,0.95,0.99,0.5,0.7,0.9,0.95,0.99,0.5,0.7,0.9,0.95,0.99,0.5,0.7,0.9,0.95,0.99,0.5,0.7,0.9,0.95,0.99,0.5,0.7,0.9,0.95,0.99,0.5,0.7,0.9,0.95,0.99,0.5,0.7,0.9,0.95,0.99,0.5,0.7,0.9,0.95,0.99,0.5,0.7,0.9,0.95,0.99,0.5,0.7,0.9,0.95,0.99,0.5,0.7,0.9,0.95,0.99,0.5,0.7,0.9,0.95,0.99,0.5,0.7,0.9,0.95,0.99,0.5,0.7,0.9,0.95,0.99,0.5,0.7,0.9,0.95,0.99,0.5,0.7,0.9,0.95,0.99,0.5,0.7,0.9,0.95,0.99,0.5,0.7,0.9,0.95,0.99,0.5,0.7,0.9,0.95,0.99,0.5,0.7,0.9,0.95,0.99,0.5,0.7,0.9,0.95,0.99,0.5,0.7,0.9,0.95,0.99,0.5,0.7,0.9,0.95,0.99,0.5,0.7,0.9,0.95,0.99,0.5,0.7,0.9,0.95,0.99,0.5,0.7,0.9,0.95,0.99],\n",
       "\"mean_quantile_loss\":[0.24475524475524477,0.23566433566433567,0.165034965034965,0.10734265734265738,0.037972027972028,0.2902097902097902,0.46013986013986,0.38811188811188807,0.24580419580419585,0.07734265734265731,0.38461538461538464,0.355944055944056,0.19720279720279718,0.12097902097902107,0.03279720279720282,0.3531468531468531,0.5433566433566432,1.5356643356643358,0.6776223776223776,0.32454545454545464,0.024475524475524476,0.15104895104895105,0.05944055944055944,0.03986013986013986,0.009580419580419589,0.3111888111888112,0.24475524475524477,0.1762237762237762,0.11573426573426582,0.03153846153846158,0.5174825174825175,0.6965034965034964,0.5545454545454547,0.44160839160839166,0.25076923076923086,0.21678321678321677,0.3034965034965034,0.14055944055944056,0.11223776223776225,0.050629370629370646,0.06293706293706294,0.1146853146853147,0.09300699300699301,0.05069930069930073,0.01573426573426574,0.23426573426573427,0.26223776223776224,0.16013986013986012,0.1174825174825175,0.02930069930069931,0.3146853146853147,0.33916083916083917,0.1475524475524475,0.0755244755244756,0.02510489510489513,0.45454545454545453,0.4923076923076922,0.2664335664335664,0.16538461538461546,0.04321678321678325,0.6328671328671329,0.5720279720279721,0.30979020979020977,0.17972027972027982,0.05041958041958044,1.0874125874125875,1.0727272727272725,0.7888111888111887,0.5430069930069933,0.19125874125874132,0.33916083916083917,0.4748251748251748,0.25594405594405595,0.2398601398601399,0.06916083916083916,0.3181818181818182,0.34335664335664334,0.26643356643356647,0.17132867132867138,0.03552447552447554,0.6398601398601399,0.6216783216783216,0.4048951048951049,0.24440559440559453,0.07013986013986019,0.527972027972028,0.5174825174825175,0.3426573426573426,0.22342657342657352,0.0840559440559441,0.12937062937062938,0.1811188811188811,0.10209790209790207,0.06503496503496506,0.024405594405594422,0.07342657342657342,0.2811188811188811,0.10769230769230767,0.06433566433566437,0.029650349650349652,0.1958041958041958,0.22237762237762235,0.11958041958041957,0.08426573426573428,0.031048951048951064,0.3321678321678322,0.2951048951048951,0.22237762237762237,0.20559440559440564,0.04832167832167834,0.6048951048951049,0.5769230769230769,0.34475524475524466,0.22132867132867143,0.06958041958041962,0.6118881118881119,0.4867132867132869,0.19020979020979012,0.10559440559440565,0.023286713286713306,0.0979020979020979,0.5552447552447555,0.13636363636363633,0.09615384615384617,0.03202797202797204,0.06993006993006994,0.09999999999999999,0.12097902097902095,0.077972027972028,0.02559440559440561,0.14335664335664336,0.20069930069930067,0.1818181818181818,0.13356643356643358,0.04510489510489511,0.2692307692307692,0.37692307692307697,0.193006993006993,0.16993006993006995,0.04958041958041958,0.8706293706293706,0.8867132867132866,0.6,0.41993006993007004,0.21601398601398605,0.2972027972027972,0.27972027972027974,0.14895104895104888,0.07797202797202801,0.021188811188811205,0.1853146853146853,0.2874125874125874,0.13986013986013987,0.1083916083916084,0.0832167832167832,0.2727272727272727,0.34615384615384615,0.2622377622377623,0.17762237762237768,0.10146853146853148,0.6048951048951049,0.5972027972027972,0.4062937062937063,0.28881118881118895,0.15335664335664337,0.5524475524475524,0.27062937062937065,0.1909090909090909,0.1898601398601399,0.08307692307692309,0.2517482517482518,0.2923076923076923,0.22867132867132864,0.16013986013986029,0.04699300699300703,0.6258741258741258,0.6398601398601399,0.37062937062937057,0.226923076923077,0.07818181818181823,0.2692307692307692,0.2776223776223776,0.22167832167832166,0.14895104895104902,0.06790209790209793,0.3321678321678322,0.33146853146853145,0.22447552447552455,0.15174825174825182,0.052937062937062955,0.47202797202797203,0.4839160839160838,0.3650349650349651,0.26223776223776235,0.12818181818181823,0.017482517482517484,0.024475524475524476,0.09650349650349646,0.048251748251748286,0.009650349650349659,0.4965034965034965,0.49720279720279714,0.3027972027972028,0.168881118881119,0.0507692307692308,0.2727272727272727,0.2643356643356643,0.1951048951048951,0.16398601398601403,0.051188811188811204,0.0944055944055944,0.13216783216783215,0.08811188811188807,0.04755244755244758,0.01811188811188813,0.13986013986013987,0.2650349650349651,0.12097902097902095,0.08496503496503498,0.0311888111888112,0.7622377622377622,0.7895104895104894,0.4741258741258741,0.29405594405594415,0.13615384615384618,0.27972027972027974,0.31188811188811183,0.14895104895104894,0.12692307692307694,0.04237762237762238,1.3776223776223777,1.2951048951048953,0.7482517482517482,0.4916083916083918,0.2225874125874126,0.13286713286713286,0.297902097902098,0.15034965034965034,0.11363636363636363,0.052307692307692326,0.5769230769230769,0.5538461538461538,0.29020979020979015,0.18881118881118897,0.047972027972028014,0.8461538461538461,0.8391608391608392,0.5958041958041957,0.46293706293706294,0.27608391608391614,0.6573426573426573,0.7391608391608391,0.486013986013986,0.3143356643356644,0.13328671328671332,0.3741258741258741,0.3195804195804196,0.19720279720279718,0.16888111888111892,0.05636363636363638,0.6013986013986014,0.5580419580419581,0.33566433566433573,0.3388111888111888,0.281888111888112,0.458041958041958,0.4391608391608392,0.265034965034965,0.16573426573426586,0.06545454545454549,0.9755244755244755,1.2965034965034963,1.1321678321678321,0.9017482517482519,0.6327272727272727,0.5874125874125874,0.5853146853146852,0.3727272727272727,0.23916083916083927,0.0814685314685315,0.46503496503496505,0.49720279720279714,0.33076923076923076,0.211888111888112,0.0733566433566434,0.4370629370629371,0.40489510489510483,0.2678321678321678,0.1884615384615385,0.11055944055944059,0.12937062937062938,0.23006993006993012,0.14405594405594405,0.10104895104895112,0.02741258741258744,0.15034965034965034,0.19160839160839158,0.15384615384615383,0.112937062937063,0.033986013986014016,0.5734265734265734,0.5811188811188811,0.313986013986014,0.16188811188811195,0.09391608391608391,0.3076923076923077,0.24475524475524477,0.18181818181818182,0.08146853146853153,0.023496503496503517,0.458041958041958,0.4363636363636363,0.28251748251748243,0.18321678321678328,0.06517482517482522,0.6363636363636364,0.6692307692307692,0.29999999999999993,0.1996503496503498,0.05286713286713291,0.0979020979020979,0.13706293706293704,0.12937062937062932,0.08916083916083921,0.03202797202797205,0.28321678321678323,0.2608391608391609,0.1755244755244756,0.0783216783216784,0.021258741258741273,0.26223776223776224,0.42237762237762244,0.08811188811188808,0.08216783216783222,0.022937062937062956,0.15734265734265734,0.27272727272727276,0.33356643356643356,0.28566433566433574,0.023986013986014,0.5034965034965035,0.486013986013986,0.2559440559440559,0.16608391608391615,0.06601398601398605,0.5979020979020979,0.5636363636363636,0.3202797202797203,0.17657342657342667,0.05475524475524478,3.7867132867132867,3.8972027972027967,3.2440559440559444,2.7188811188811184,2.5123076923076924,0.5384615384615384,0.49860139860139846,0.31048951048951046,0.23356643356643367,0.08489510489510495,0.23426573426573427,0.2853146853146853,0.17902097902097902,0.10454545454545462,0.043286713286713296,0.13986013986013987,0.19720279720279718,0.079020979020979,0.04300699300699303,0.014195804195804204,0.11188811188811189,0.15664335664335663,0.11258741258741255,0.07377622377622381,0.042727272727272725,0.7972027972027972,0.879020979020979,0.5888111888111888,0.39650349650349664,0.17657342657342656,0.3881118881118881,0.36013986013986016,0.22797202797202792,0.13601398601398612,0.03860139860139862,0.45104895104895104,0.548251748251748,0.42307692307692313,0.34930069930069935,0.2080419580419581,0.48951048951048953,0.5097902097902098,0.33776223776223774,0.211888111888112,0.09832167832167833,0.9195804195804196,1.0671328671328673,0.9076923076923076,0.6954545454545458,0.3356643356643358,0.8846153846153846,0.8538461538461538,0.516083916083916,0.340909090909091,0.13272727272727275,0.38461538461538464,0.3062937062937063,0.18811188811188806,0.12657342657342668,0.033916083916083944,0.12237762237762238,0.17132867132867133,0.13846153846153844,0.10069930069930075,0.07048951048951048,0.15034965034965034,0.2307692307692308,0.12587412587412583,0.08496503496503503,0.026993006993007017,1.3391608391608392,1.3181818181818181,0.9678321678321676,0.6856643356643359,0.3767832167832168,2.3461538461538463,2.583216783216783,1.6552447552447551,1.302797202797203,0.8981818181818182,0.5804195804195804,1.0867132867132865,0.33006993006993,0.2524475524475525,0.39713286713286705,0.055944055944055944,0.25594405594405595,0.058741258741258746,0.05734265734265734,0.023706293706293718,0.8916083916083916,1.6888111888111887,1.116083916083916,1.0384615384615385,0.708181818181818,0.8776223776223776,1.0510489510489511,0.5909090909090909,0.4010489510489512,0.19734265734265738,0.10139860139860139,0.3020979020979021,0.14265734265734265,0.10279720279720282,0.045944055944055956,0.13986013986013987,0.19860139860139858,0.12797202797202795,0.091958041958042,0.01720279720279722,0.2867132867132867,0.2888111888111888,0.2034965034965035,0.10629370629370634,0.03125874125874128,0.4825174825174825,0.4657342657342659,0.36153846153846153,0.2451048951048952,0.11433566433566437,1.0804195804195804,1.0538461538461539,0.6552447552447551,0.4304195804195806,0.19132867132867143,0.513986013986014,0.4916083916083916,0.3265734265734265,0.18496503496503502,0.057272727272727295,0.3881118881118881,0.3342657342657343,0.18881118881118877,0.14300699300699302,0.030769230769230792,0.32167832167832167,0.27062937062937065,0.16083916083916078,0.11188811188811194,0.02566433566433569,0.993006993006993,0.8433566433566433,0.47342657342657335,0.35139860139860146,0.20244755244755244,0.35664335664335667,0.6125874125874126,0.4034965034965035,0.3038461538461539,0.1660839160839161]\n",
       "},\n",
       "\"mapping\":{\n",
       "\"x\":\"quantile_level\",\n",
       "\"y\":\"mean_quantile_loss\"\n",
       "},\n",
       "\"data_meta\":{\n",
       "\"series_annotations\":[{\n",
       "\"type\":\"unknown(polars:List(List(Int64)))\",\n",
       "\"column\":\"sku_tuples\"\n",
       "},{\n",
       "\"type\":\"int\",\n",
       "\"column\":\"productID\"\n",
       "},{\n",
       "\"type\":\"int\",\n",
       "\"column\":\"storeID\"\n",
       "},{\n",
       "\"type\":\"float\",\n",
       "\"column\":\"quantile_level\"\n",
       "},{\n",
       "\"type\":\"float\",\n",
       "\"column\":\"mean_quantile_loss\"\n",
       "}]\n",
       "},\n",
       "\"ggtitle\":{\n",
       "\"text\":\"Mean Quantile Loss Distribution by Quantile Level\",\n",
       "\"subtitle\":\"Based on 500 model results\"\n",
       "},\n",
       "\"guides\":{\n",
       "\"x\":{\n",
       "\"title\":\"Quantile Level\"\n",
       "},\n",
       "\"y\":{\n",
       "\"title\":\"Mean Quantile Loss\"\n",
       "}\n",
       "},\n",
       "\"theme\":{\n",
       "\"name\":\"minimal\",\n",
       "\"plot_title\":{\n",
       "\"face\":\"bold\",\n",
       "\"size\":14.0,\n",
       "\"blank\":false\n",
       "}\n",
       "},\n",
       "\"kind\":\"plot\",\n",
       "\"scales\":[],\n",
       "\"layers\":[{\n",
       "\"geom\":\"boxplot\",\n",
       "\"mapping\":{\n",
       "},\n",
       "\"data_meta\":{\n",
       "},\n",
       "\"fill\":\"#69b3a2\",\n",
       "\"alpha\":0.5,\n",
       "\"data\":{\n",
       "\"..middle..\":[0.3793706293706294,0.41363636363636364,0.2559440559440559,0.16888111888111895,0.05290209790209793],\n",
       "\"..lower..\":[0.22552447552447552,0.27062937062937065,0.14965034965034962,0.10506993006993014,0.03139860139860143],\n",
       "\"..upper..\":[0.5996503496503496,0.5832167832167832,0.3716783216783216,0.25734265734265743,0.12125874125874131],\n",
       "\"..ymin..\":[0.017482517482517484,0.024475524475524476,0.058741258741258746,0.03986013986013986,0.009580419580419589],\n",
       "\"..ymax..\":[1.0874125874125875,1.0510489510489511,0.6552447552447551,0.46293706293706294,0.25076923076923086],\n",
       "\"quantile_level\":[0.5,0.7,0.9,0.95,0.99]\n",
       "}\n",
       "},{\n",
       "\"geom\":\"point\",\n",
       "\"stat\":\"boxplot_outlier\",\n",
       "\"mapping\":{\n",
       "},\n",
       "\"show_legend\":false,\n",
       "\"data_meta\":{\n",
       "},\n",
       "\"fill\":\"#69b3a2\",\n",
       "\"shape\":21.0,\n",
       "\"data\":{\n",
       "\"..middle..\":[0.3793706293706294,0.3793706293706294,0.3793706293706294,0.3793706293706294,0.41363636363636364,0.41363636363636364,0.41363636363636364,0.41363636363636364,0.41363636363636364,0.41363636363636364,0.41363636363636364,0.41363636363636364,0.41363636363636364,0.41363636363636364,0.2559440559440559,0.2559440559440559,0.2559440559440559,0.2559440559440559,0.2559440559440559,0.2559440559440559,0.2559440559440559,0.2559440559440559,0.2559440559440559,0.16888111888111895,0.16888111888111895,0.16888111888111895,0.16888111888111895,0.16888111888111895,0.16888111888111895,0.16888111888111895,0.16888111888111895,0.16888111888111895,0.05290209790209793,0.05290209790209793,0.05290209790209793,0.05290209790209793,0.05290209790209793,0.05290209790209793,0.05290209790209793,0.05290209790209793,0.05290209790209793,0.05290209790209793],\n",
       "\"..lower..\":[0.22552447552447552,0.22552447552447552,0.22552447552447552,0.22552447552447552,0.27062937062937065,0.27062937062937065,0.27062937062937065,0.27062937062937065,0.27062937062937065,0.27062937062937065,0.27062937062937065,0.27062937062937065,0.27062937062937065,0.27062937062937065,0.14965034965034962,0.14965034965034962,0.14965034965034962,0.14965034965034962,0.14965034965034962,0.14965034965034962,0.14965034965034962,0.14965034965034962,0.14965034965034962,0.10506993006993014,0.10506993006993014,0.10506993006993014,0.10506993006993014,0.10506993006993014,0.10506993006993014,0.10506993006993014,0.10506993006993014,0.10506993006993014,0.03139860139860143,0.03139860139860143,0.03139860139860143,0.03139860139860143,0.03139860139860143,0.03139860139860143,0.03139860139860143,0.03139860139860143,0.03139860139860143,0.03139860139860143],\n",
       "\"..upper..\":[0.5996503496503496,0.5996503496503496,0.5996503496503496,0.5996503496503496,0.5832167832167832,0.5832167832167832,0.5832167832167832,0.5832167832167832,0.5832167832167832,0.5832167832167832,0.5832167832167832,0.5832167832167832,0.5832167832167832,0.5832167832167832,0.3716783216783216,0.3716783216783216,0.3716783216783216,0.3716783216783216,0.3716783216783216,0.3716783216783216,0.3716783216783216,0.3716783216783216,0.3716783216783216,0.25734265734265743,0.25734265734265743,0.25734265734265743,0.25734265734265743,0.25734265734265743,0.25734265734265743,0.25734265734265743,0.25734265734265743,0.25734265734265743,0.12125874125874131,0.12125874125874131,0.12125874125874131,0.12125874125874131,0.12125874125874131,0.12125874125874131,0.12125874125874131,0.12125874125874131,0.12125874125874131,0.12125874125874131],\n",
       "\"..ymin..\":[0.017482517482517484,0.017482517482517484,0.017482517482517484,0.017482517482517484,0.024475524475524476,0.024475524475524476,0.024475524475524476,0.024475524475524476,0.024475524475524476,0.024475524475524476,0.024475524475524476,0.024475524475524476,0.024475524475524476,0.024475524475524476,0.058741258741258746,0.058741258741258746,0.058741258741258746,0.058741258741258746,0.058741258741258746,0.058741258741258746,0.058741258741258746,0.058741258741258746,0.058741258741258746,0.03986013986013986,0.03986013986013986,0.03986013986013986,0.03986013986013986,0.03986013986013986,0.03986013986013986,0.03986013986013986,0.03986013986013986,0.03986013986013986,0.009580419580419589,0.009580419580419589,0.009580419580419589,0.009580419580419589,0.009580419580419589,0.009580419580419589,0.009580419580419589,0.009580419580419589,0.009580419580419589,0.009580419580419589],\n",
       "\"..ymax..\":[1.0874125874125875,1.0874125874125875,1.0874125874125875,1.0874125874125875,1.0510489510489511,1.0510489510489511,1.0510489510489511,1.0510489510489511,1.0510489510489511,1.0510489510489511,1.0510489510489511,1.0510489510489511,1.0510489510489511,1.0510489510489511,0.6552447552447551,0.6552447552447551,0.6552447552447551,0.6552447552447551,0.6552447552447551,0.6552447552447551,0.6552447552447551,0.6552447552447551,0.6552447552447551,0.46293706293706294,0.46293706293706294,0.46293706293706294,0.46293706293706294,0.46293706293706294,0.46293706293706294,0.46293706293706294,0.46293706293706294,0.46293706293706294,0.25076923076923086,0.25076923076923086,0.25076923076923086,0.25076923076923086,0.25076923076923086,0.25076923076923086,0.25076923076923086,0.25076923076923086,0.25076923076923086,0.25076923076923086],\n",
       "\"quantile_level\":[0.5,0.5,0.5,0.5,0.7,0.7,0.7,0.7,0.7,0.7,0.7,0.7,0.7,0.7,0.9,0.9,0.9,0.9,0.9,0.9,0.9,0.9,0.9,0.95,0.95,0.95,0.95,0.95,0.95,0.95,0.95,0.95,0.99,0.99,0.99,0.99,0.99,0.99,0.99,0.99,0.99,0.99],\n",
       "\"mean_quantile_loss\":[1.3776223776223777,3.7867132867132867,1.3391608391608392,2.3461538461538463,1.0727272727272725,1.2951048951048953,1.2965034965034963,3.8972027972027967,1.0671328671328673,1.3181818181818181,2.583216783216783,1.0867132867132865,1.6888111888111887,1.0538461538461539,1.5356643356643358,0.7888111888111887,0.7482517482517482,1.1321678321678321,3.2440559440559444,0.9076923076923076,0.9678321678321676,1.6552447552447551,1.116083916083916,0.6776223776223776,0.5430069930069933,0.4916083916083918,0.9017482517482519,2.7188811188811184,0.6954545454545458,0.6856643356643359,1.302797202797203,1.0384615384615385,0.32454545454545464,0.27608391608391614,0.281888111888112,0.6327272727272727,2.5123076923076924,0.3356643356643358,0.3767832167832168,0.8981818181818182,0.39713286713286705,0.708181818181818]\n",
       "}\n",
       "},{\n",
       "\"geom\":\"jitter\",\n",
       "\"mapping\":{\n",
       "},\n",
       "\"data_meta\":{\n",
       "},\n",
       "\"width\":0.1,\n",
       "\"alpha\":0.3,\n",
       "\"size\":2.0,\n",
       "\"color\":\"#404080\",\n",
       "\"data\":{\n",
       "}\n",
       "}],\n",
       "\"metainfo_list\":[],\n",
       "\"spec_id\":\"2\"\n",
       "};\n",
       "           window.letsPlotCall(function() { fig = LetsPlot.buildPlotFromProcessedSpecs(plotSpec, containerDiv, sizing); });\n",
       "       } else {\n",
       "           fig.updateView({});\n",
       "       }\n",
       "   }\n",
       "   \n",
       "   const renderImmediately = \n",
       "       forceImmediateRender || (\n",
       "           sizing.width_mode === 'FIXED' && \n",
       "           (sizing.height_mode === 'FIXED' || sizing.height_mode === 'SCALED')\n",
       "       );\n",
       "   \n",
       "   if (renderImmediately) {\n",
       "       renderPlot();\n",
       "   }\n",
       "   \n",
       "   if (!renderImmediately || responsive) {\n",
       "       // Set up observer for initial sizing or continuous monitoring\n",
       "       var observer = new ResizeObserver(function(entries) {\n",
       "           for (let entry of entries) {\n",
       "               if (entry.contentBoxSize && \n",
       "                   entry.contentBoxSize[0].inlineSize > 0) {\n",
       "                   if (!responsive && observer) {\n",
       "                       observer.disconnect();\n",
       "                       observer = null;\n",
       "                   }\n",
       "                   renderPlot();\n",
       "                   if (!responsive) {\n",
       "                       break;\n",
       "                   }\n",
       "               }\n",
       "           }\n",
       "       });\n",
       "       \n",
       "       observer.observe(containerDiv);\n",
       "   }\n",
       "   \n",
       "   // ----------\n",
       "   })();\n",
       "   \n",
       "   </script>"
      ],
      "text/plain": [
       "<lets_plot.plot.core.PlotSpec at 0x4e38b6a40>"
      ]
     },
     "execution_count": 49,
     "metadata": {},
     "output_type": "execute_result"
    }
   ],
   "source": [
    "ggplot(results_df, aes(x='quantile_level', y='mean_quantile_loss')) + \\\n",
    "    geom_boxplot(fill='#69b3a2', alpha=0.5, outlier_shape=21) + \\\n",
    "    geom_jitter(width=0.1, alpha=0.3, size=2, color='#404080') + \\\n",
    "    labs(\n",
    "        title='Mean Quantile Loss Distribution by Quantile Level',\n",
    "        subtitle=f'Based on {len(results_df)} model results',\n",
    "        x='Quantile Level',\n",
    "        y='Mean Quantile Loss'\n",
    "    ) + \\\n",
    "    theme_minimal() + \\\n",
    "    theme(plot_title=element_text(size=14, face='bold'))"
   ]
  }
 ],
 "metadata": {
  "kernelspec": {
   "display_name": "Benchmarking",
   "language": "python",
   "name": "python3"
  },
  "language_info": {
   "codemirror_mode": {
    "name": "ipython",
    "version": 3
   },
   "file_extension": ".py",
   "mimetype": "text/x-python",
   "name": "python",
   "nbconvert_exporter": "python",
   "pygments_lexer": "ipython3",
   "version": "3.10.18"
  }
 },
 "nbformat": 4,
 "nbformat_minor": 2
}
