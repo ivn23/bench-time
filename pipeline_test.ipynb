{
 "cells": [
  {
   "cell_type": "code",
   "execution_count": 1,
   "metadata": {},
   "outputs": [],
   "source": [
    "import sys\n",
    "from pathlib import Path\n",
    "import numpy as np\n",
    "\n",
    "current_dir = Path.cwd()\n",
    "if str(current_dir) not in sys.path:\n",
    "    sys.path.insert(0, str(current_dir))\n",
    "\n",
    "from src import (\n",
    "    DataConfig, ModelingStrategy, BenchmarkPipeline, create_config\n",
    ")\n",
    "\n",
    "np.random.seed(42)"
   ]
  },
  {
   "cell_type": "code",
   "execution_count": 2,
   "metadata": {},
   "outputs": [],
   "source": [
    "data_config = DataConfig(\n",
    "    features_path=\"data/processed/train_data_features.feather\",\n",
    "    target_path=\"data/train_data_target.feather\",\n",
    "    mapping_path=\"data/feature_mapping_train.pkl\"\n",
    ")\n",
    "\n",
    "sku_tuples = [(81054, 1334)]\n",
    "pipeline = BenchmarkPipeline(data_config)"
   ]
  },
  {
   "cell_type": "code",
   "execution_count": 3,
   "metadata": {},
   "outputs": [
    {
     "name": "stdout",
     "output_type": "stream",
     "text": [
      "Trained 1 XGBoost standard model(s)\n"
     ]
    }
   ],
   "source": [
    "results_xgb_std = pipeline.run_experiment(\n",
    "    sku_tuples=sku_tuples,\n",
    "    modeling_strategy=ModelingStrategy.INDIVIDUAL,\n",
    "    model_type=\"xgboost_standard\",\n",
    "    hyperparameters={\n",
    "        \"n_estimators\": 100,\n",
    "        \"max_depth\": 6,\n",
    "        \"learning_rate\": 0.3,\n",
    "        \"random_state\": 42\n",
    "    },\n",
    "    experiment_name=\"xgb_standard_test\"\n",
    ")\n",
    "\n",
    "print(f\"Trained {results_xgb_std.num_models} XGBoost standard model(s)\")"
   ]
  },
  {
   "cell_type": "code",
   "execution_count": 4,
   "metadata": {},
   "outputs": [
    {
     "name": "stdout",
     "output_type": "stream",
     "text": [
      "Trained 3 XGBoost quantile model(s)\n"
     ]
    }
   ],
   "source": [
    "results_xgb_quantile = pipeline.run_experiment(\n",
    "    sku_tuples=sku_tuples,\n",
    "    modeling_strategy=ModelingStrategy.INDIVIDUAL,\n",
    "    model_type=\"xgboost_quantile\",\n",
    "    hyperparameters={\n",
    "        \"n_estimators\": 100,\n",
    "        \"max_depth\": 6,\n",
    "        \"learning_rate\": 0.3,\n",
    "        \"random_state\": 42\n",
    "    },\n",
    "    quantile_alphas=[0.5, 0.7, 0.9],\n",
    "    experiment_name=\"xgb_quantile_test\"\n",
    ")\n",
    "\n",
    "print(f\"Trained {results_xgb_quantile.num_models} XGBoost quantile model(s)\")"
   ]
  },
  {
   "cell_type": "code",
   "execution_count": 8,
   "metadata": {},
   "outputs": [
    {
     "name": "stderr",
     "output_type": "stream",
     "text": [
      "GPU available: True (mps), used: True\n",
      "TPU available: False, using: 0 TPU cores\n",
      "HPU available: False, using: 0 HPUs\n",
      "\n",
      "  | Name  | Type       | Params | Mode \n",
      "---------------------------------------------\n",
      "0 | model | Sequential | 5.1 K  | train\n",
      "---------------------------------------------\n",
      "5.1 K     Trainable params\n",
      "0         Non-trainable params\n",
      "5.1 K     Total params\n",
      "0.020     Total estimated model params size (MB)\n",
      "8         Modules in train mode\n",
      "0         Modules in eval mode\n",
      "/opt/miniconda3/envs/ml_env/lib/python3.10/site-packages/lightning/pytorch/trainer/connectors/data_connector.py:433: The 'val_dataloader' does not have many workers which may be a bottleneck. Consider increasing the value of the `num_workers` argument` to `num_workers=9` in the `DataLoader` to improve performance.\n",
      "/opt/miniconda3/envs/ml_env/lib/python3.10/site-packages/lightning/pytorch/trainer/connectors/data_connector.py:433: The 'train_dataloader' does not have many workers which may be a bottleneck. Consider increasing the value of the `num_workers` argument` to `num_workers=9` in the `DataLoader` to improve performance.\n",
      "`Trainer.fit` stopped: `max_epochs=50` reached.\n"
     ]
    },
    {
     "name": "stdout",
     "output_type": "stream",
     "text": [
      "Trained 1 Lightning standard model(s)\n"
     ]
    },
    {
     "name": "stderr",
     "output_type": "stream",
     "text": [
      "/Users/ivn/Documents/PhD/Transformer Research/Code/Benchmarking/src/evaluation.py:68: RuntimeWarning: invalid value encountered in cast\n",
      "  y_pred = np.clip(np.round(y_pred).astype(int), 0, None)\n"
     ]
    }
   ],
   "source": [
    "results_lightning_std = pipeline.run_experiment(\n",
    "    sku_tuples=sku_tuples,\n",
    "    modeling_strategy=ModelingStrategy.INDIVIDUAL,\n",
    "    model_type=\"lightning_standard\",\n",
    "    hyperparameters={\n",
    "        \"hidden_size\": 64,\n",
    "        \"learning_rate\": 0.0005,\n",
    "        \"num_layers\": 2,\n",
    "        \"dropout\": 0.2,\n",
    "        \"max_epochs\": 50,\n",
    "        \"batch_size\": 50,\n",
    "        \"random_state\": 42\n",
    "    },\n",
    "    experiment_name=\"lightning_standard_test\"\n",
    ")\n",
    "\n",
    "print(f\"Trained {results_lightning_std.num_models} Lightning standard model(s)\")"
   ]
  },
  {
   "cell_type": "code",
   "execution_count": null,
   "metadata": {},
   "outputs": [],
   "source": [
    "results_lightning_quantile = pipeline.run_experiment(\n",
    "    sku_tuples=sku_tuples,\n",
    "    modeling_strategy=ModelingStrategy.INDIVIDUAL,\n",
    "    model_type=\"lightning_quantile\",\n",
    "    hyperparameters={\n",
    "        \"hidden_size\": 64,\n",
    "        \"learning_rate\": 0.001,\n",
    "        \"num_layers\": 2,\n",
    "        \"dropout\": 0.2,\n",
    "        \"max_epochs\": 10,\n",
    "        \"batch_size\": 32,\n",
    "        \"random_state\": 42\n",
    "    },\n",
    "    quantile_alphas=[0.7],\n",
    "    experiment_name=\"lightning_quantile_test\"\n",
    ")\n",
    "\n",
    "print(f\"Trained {results_lightning_quantile.num_models} Lightning quantile model(s)\")"
   ]
  },
  {
   "cell_type": "code",
   "execution_count": null,
   "metadata": {},
   "outputs": [],
   "source": [
    "results_statquant = pipeline.run_experiment(\n",
    "    sku_tuples=sku_tuples,\n",
    "    modeling_strategy=ModelingStrategy.INDIVIDUAL,\n",
    "    model_type=\"statquant\",\n",
    "    hyperparameters={\n",
    "        \"method\": \"interior-point\",\n",
    "        \"max_iter\": 1000,\n",
    "        \"p_tol\": 1e-6,\n",
    "        \"random_state\": 42\n",
    "    },\n",
    "    quantile_alphas=[0.7],\n",
    "    experiment_name=\"statquant_test\"\n",
    ")\n",
    "\n",
    "print(f\"Trained {results_statquant.num_models} statistical quantile model(s)\")"
   ]
  },
  {
   "cell_type": "code",
   "execution_count": null,
   "metadata": {},
   "outputs": [],
   "source": [
    "multi_sku_tuples = [(81054, 1334), (80558, 1334)]\n",
    "\n",
    "results_combined = pipeline.run_experiment(\n",
    "    sku_tuples=multi_sku_tuples,\n",
    "    modeling_strategy=ModelingStrategy.COMBINED,\n",
    "    model_type=\"xgboost_standard\",\n",
    "    hyperparameters={\n",
    "        \"n_estimators\": 50,\n",
    "        \"max_depth\": 4,\n",
    "        \"learning_rate\": 0.1,\n",
    "        \"random_state\": 42\n",
    "    },\n",
    "    experiment_name=\"combined_strategy_test\"\n",
    ")\n",
    "\n",
    "print(f\"Trained {results_combined.num_models} combined model(s) for {len(multi_sku_tuples)} SKUs\")"
   ]
  },
  {
   "cell_type": "code",
   "execution_count": null,
   "metadata": {},
   "outputs": [],
   "source": [
    "sample_result = results_xgb_quantile.training_results[0]\n",
    "print(f\"Model type: {sample_result.model_type}\")\n",
    "print(f\"Strategy: {sample_result.modeling_strategy.value}\")\n",
    "print(f\"SKU tuples: {sample_result.sku_tuples}\")\n",
    "print(f\"Quantile level: {sample_result.quantile_level}\")\n",
    "print(f\"Training loss: {sample_result.training_loss}\")\n",
    "if sample_result.performance_metrics:\n",
    "    print(f\"RMSE: {sample_result.performance_metrics.get('rmse', 'N/A')}\")\n",
    "    print(f\"Coverage: {sample_result.performance_metrics.get('coverage_probability', 'N/A')}\")"
   ]
  },
  {
   "cell_type": "code",
   "execution_count": null,
   "metadata": {},
   "outputs": [],
   "source": [
    "for i, result in enumerate(results_lightning_quantile.training_results[:1]):\n",
    "    rmse = result.performance_metrics.get('rmse', 'N/A')\n",
    "    rmse_str = f\"{rmse:.4f}\" if isinstance(rmse, (int, float)) else rmse\n",
    "    print(f\"Model {i+1}: α={result.quantile_level}, RMSE={rmse_str}\")"
   ]
  }
 ],
 "metadata": {
  "kernelspec": {
   "display_name": "ml_env",
   "language": "python",
   "name": "python3"
  },
  "language_info": {
   "codemirror_mode": {
    "name": "ipython",
    "version": 3
   },
   "file_extension": ".py",
   "mimetype": "text/x-python",
   "name": "python",
   "nbconvert_exporter": "python",
   "pygments_lexer": "ipython3",
   "version": "3.10.18"
  }
 },
 "nbformat": 4,
 "nbformat_minor": 2
}
