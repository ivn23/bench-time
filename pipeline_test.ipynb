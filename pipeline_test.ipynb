{
 "cells": [
  {
   "cell_type": "code",
   "execution_count": 10,
   "metadata": {},
   "outputs": [
    {
     "name": "stdout",
     "output_type": "stream",
     "text": [
      "/Users/ivn/Documents/PhD/Transformer Research/Code/Benchmarking\n"
     ]
    }
   ],
   "source": [
    "import sys\n",
    "from pathlib import Path\n",
    "import numpy as np\n",
    "\n",
    "current_dir = Path.cwd()\n",
    "if str(current_dir) not in sys.path:\n",
    "    sys.path.insert(0, str(current_dir))\n",
    "\n",
    "print(current_dir)\n",
    "\n",
    "from src import (\n",
    "    DataConfig, DataLoader, ModelingStrategy, ReleaseManager, BenchmarkPipeline, create_config\n",
    ")\n",
    "\n",
    "np.random.seed(42)"
   ]
  },
  {
   "cell_type": "code",
   "execution_count": 11,
   "metadata": {},
   "outputs": [],
   "source": [
    "data_config = DataConfig(\n",
    "    mapping_path = 'data/feature_mapping_train.pkl',\n",
    "    features_path = \"/Users/ivn/Documents/PhD/Transformer Research/Code/Benchmarking/data/db_snapshot_offsite/train_data/processed/train_data_features.feather\",\n",
    "    target_path = \"/Users/ivn/Documents/PhD/Transformer Research/Code/Benchmarking/data/db_snapshot_offsite/train_data/train_data/train_data_target.feather\",\n",
    "    split_date=\"2016-01-01\",\n",
    ")\n",
    "\n",
    "sku_tuples=[(1912, 7), (377, 1), (715, 7)]\n",
    "\n",
    "quantiles = [0.5, 0.7, 0.9, 0.95, 0.99]\n",
    "pipeline = BenchmarkPipeline(data_config)"
   ]
  },
  {
   "cell_type": "code",
   "execution_count": 12,
   "metadata": {},
   "outputs": [],
   "source": [
    "loader = DataLoader(data_config)\n",
    "data = loader.load_data()\n"
   ]
  },
  {
   "cell_type": "code",
   "execution_count": 13,
   "metadata": {},
   "outputs": [
    {
     "name": "stderr",
     "output_type": "stream",
     "text": [
      "100%|██████████| 3/3 [00:00<00:00,  3.81it/s]\n",
      "Training models: 100%|██████████| 3/3 [00:05<00:00,  1.74s/it]\n"
     ]
    }
   ],
   "source": [
    "results_lightning_std = pipeline.run_experiment(\n",
    "    sku_tuples=sku_tuples,\n",
    "    modeling_strategy=ModelingStrategy.INDIVIDUAL,\n",
    "    model_type=\"xgboost_quantile\",\n",
    "    quantile_alphas=quantiles,\n",
    "    hyperparameters = {\n",
    "        \"eta\": 0.05,\n",
    "        \"max_depth\": 8,\n",
    "        \"min_child_weight\": 20,\n",
    "        \"subsample\": 0.8,\n",
    "        \"colsample_bytree\": 0.7,\n",
    "        \"gamma\": 1.0,   \n",
    "        \"lambda\": 10.0,\n",
    "        \"alpha\": 1.0,\n",
    "        \"tree_method\": \"hist\",\n",
    "        \"n_estimators\": 500\n",
    "},\n",
    "    experiment_name=\"xgb_quantile_test\",\n",
    "    evaluate_on_test=True\n",
    ")"
   ]
  },
  {
   "cell_type": "code",
   "execution_count": 9,
   "metadata": {},
   "outputs": [
    {
     "name": "stdout",
     "output_type": "stream",
     "text": [
      "Model type: xgboost_quantile\n",
      "Strategy: individual\n",
      "SKU tuples: [(377, 1)]\n",
      "Quantile level: 0.7\n",
      "quantile_score: [0.36256971 0.90238266 0.62469134 0.26885844 0.71072459 1.07652683\n",
      " 0.75566826 0.05417506 0.3071763  0.9561327  0.71911755 1.05563397\n",
      " 0.26544808 0.94752131 0.40566859 0.64334979 0.58591722 0.42498215\n",
      " 0.59437351 0.53652195 0.15656685 0.56167184 0.03336295 0.45888019\n",
      " 0.49446731 0.61494155 0.10506878 0.60145183 0.23541781 0.8907526\n",
      " 0.4537149  0.68104734 0.46762376 0.85188689 0.47231523 0.58349293\n",
      " 0.61812701 0.40038414 1.28818159 0.08254652 0.32145138 0.79792199\n",
      " 0.23931804 0.50033501 0.92318059 0.62207422 0.91969829 0.32377224\n",
      " 0.14424577 0.1036623  1.12296824 0.7090014  0.38530471 0.7006259\n",
      " 0.38586388 0.3701324  0.48179179 0.02007762 1.20431912 0.75701065\n",
      " 0.06447744 0.33362117 0.9532495  0.14417267 0.09678111 0.86001134\n",
      " 0.18045169 1.13758507 0.51523751 0.88999229 0.46002831 0.74253631\n",
      " 0.52263154 0.59260479 0.48647894 0.58572702 0.98039246 0.47291397\n",
      " 0.71521981 0.73186812 0.38354821 0.01614347 0.32728472 0.47051221\n",
      " 0.31521921 0.06978205 1.00829587 1.68025016 0.9594203  0.02152183\n",
      " 0.32032614 0.44192076 0.69606857 0.34804115 0.47866449 0.62355866\n",
      " 0.20766367 0.57674886 0.74828339 0.73724956 0.04887571 0.07273014\n",
      " 0.41686127 0.06283476 0.1939355  0.02070515 0.78926067 0.51321083\n",
      " 0.28189014 0.41631081 0.73955953 0.18728424 0.07293617 0.63353662\n",
      " 0.19444309 0.11341688 0.02185301 0.51124316 0.49570681 0.60749388\n",
      " 0.57060131 0.2910484  0.71806526 0.16958801 0.01148962 0.52719451\n",
      " 0.67697106 0.66786947 0.32605269 0.22020591 0.36054547 0.63228817\n",
      " 0.77330518 0.12053639 0.12775097 0.45053179 0.59852734 0.3915988\n",
      " 0.67949452 0.05723925 0.6177196  0.51372639 0.19480196]\n",
      "number of models trained: 15\n"
     ]
    }
   ],
   "source": [
    "sample_result = results_lightning_std.training_results[6]\n",
    "print(f\"Model type: {sample_result.model_type}\")\n",
    "print(f\"Strategy: {sample_result.modeling_strategy.value}\")\n",
    "print(f\"SKU tuples: {sample_result.sku_tuples}\")\n",
    "print(f\"Quantile level: {sample_result.quantile_level}\")\n",
    "if sample_result.performance_metrics:\n",
    "    print(f\"quantile_score: {sample_result.performance_metrics.get('quantile_score', 'N/A')}\")\n",
    "print(f\"number of models trained: {len(results_lightning_std.training_results)}\")"
   ]
  },
  {
   "cell_type": "code",
   "execution_count": null,
   "metadata": {},
   "outputs": [],
   "source": []
  },
  {
   "cell_type": "code",
   "execution_count": 37,
   "metadata": {},
   "outputs": [],
   "source": [
    "release_manager = ReleaseManager()\n",
    "output_dir = Path(\"./xgb_releases_2\")\n",
    "release_path = release_manager.create_complete_release(\n",
    "    experiment_results=results_lightning_std,  # Your ExperimentResults from pipeline\n",
    "    base_output_dir=output_dir\n",
    "  )"
   ]
  },
  {
   "cell_type": "code",
   "execution_count": null,
   "metadata": {},
   "outputs": [],
   "source": []
  },
  {
   "cell_type": "code",
   "execution_count": null,
   "metadata": {},
   "outputs": [],
   "source": []
  },
  {
   "cell_type": "code",
   "execution_count": null,
   "metadata": {},
   "outputs": [],
   "source": []
  }
 ],
 "metadata": {
  "kernelspec": {
   "display_name": "Benchmarking",
   "language": "python",
   "name": "python3"
  },
  "language_info": {
   "codemirror_mode": {
    "name": "ipython",
    "version": 3
   },
   "file_extension": ".py",
   "mimetype": "text/x-python",
   "name": "python",
   "nbconvert_exporter": "python",
   "pygments_lexer": "ipython3",
   "version": "3.10.18"
  }
 },
 "nbformat": 4,
 "nbformat_minor": 2
}
