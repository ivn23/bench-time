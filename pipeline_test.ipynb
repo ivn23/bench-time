{
 "cells": [
  {
   "cell_type": "code",
   "execution_count": 1,
   "metadata": {},
   "outputs": [],
   "source": [
    "import sys\n",
    "from pathlib import Path\n",
    "import numpy as np\n",
    "\n",
    "current_dir = Path.cwd()\n",
    "if str(current_dir) not in sys.path:\n",
    "    sys.path.insert(0, str(current_dir))\n",
    "\n",
    "from src import (\n",
    "    DataConfig, DataLoader, ModelingStrategy, ReleaseManager, BenchmarkPipeline, create_config\n",
    ")\n",
    "\n",
    "np.random.seed(42)"
   ]
  },
  {
   "cell_type": "code",
   "execution_count": 2,
   "metadata": {},
   "outputs": [],
   "source": [
    "data_config = DataConfig(\n",
    "    mapping_path = 'data/feature_mapping_train.pkl',\n",
    "    features_path = 'data/processed/train_data_features.feather',\n",
    "    target_path = 'data/train_data_target.feather'\n",
    ")\n",
    "\n",
    "sku_tuples=[(81054, 1335),(81054, 1334),(80558, 1331)]\n",
    "pipeline = BenchmarkPipeline(data_config)"
   ]
  },
  {
   "cell_type": "code",
   "execution_count": null,
   "metadata": {},
   "outputs": [],
   "source": [
    "data_loader = DataLoader(data_config)\n",
    "dataset = data_loader.prepare_modeling_dataset(\n",
    "    sku_tuples=[(81054, 1335),(81054, 1334),(80558, 1331)],\n",
    "    modeling_strategy=ModelingStrategy.INDIVIDUAL\n",
    ")"
   ]
  },
  {
   "cell_type": "code",
   "execution_count": 3,
   "metadata": {},
   "outputs": [
    {
     "name": "stderr",
     "output_type": "stream",
     "text": [
      "GPU available: True (mps), used: True\n",
      "TPU available: False, using: 0 TPU cores\n",
      "HPU available: False, using: 0 HPUs\n",
      "/opt/miniconda3/envs/ml_env/lib/python3.10/site-packages/lightning/pytorch/trainer/configuration_validator.py:70: You defined a `validation_step` but have no `val_dataloader`. Skipping val loop.\n",
      "\n",
      "  | Name  | Type       | Params | Mode \n",
      "---------------------------------------------\n",
      "0 | model | Sequential | 25.2 K | train\n",
      "---------------------------------------------\n",
      "25.2 K    Trainable params\n",
      "0         Non-trainable params\n",
      "25.2 K    Total params\n",
      "0.101     Total estimated model params size (MB)\n",
      "8         Modules in train mode\n",
      "0         Modules in eval mode\n",
      "/opt/miniconda3/envs/ml_env/lib/python3.10/site-packages/lightning/pytorch/trainer/connectors/data_connector.py:433: The 'train_dataloader' does not have many workers which may be a bottleneck. Consider increasing the value of the `num_workers` argument` to `num_workers=9` in the `DataLoader` to improve performance.\n",
      "`Trainer.fit` stopped: `max_epochs=50` reached.\n",
      "GPU available: True (mps), used: True\n",
      "TPU available: False, using: 0 TPU cores\n",
      "HPU available: False, using: 0 HPUs\n",
      "\n",
      "  | Name  | Type       | Params | Mode \n",
      "---------------------------------------------\n",
      "0 | model | Sequential | 25.2 K | train\n",
      "---------------------------------------------\n",
      "25.2 K    Trainable params\n",
      "0         Non-trainable params\n",
      "25.2 K    Total params\n",
      "0.101     Total estimated model params size (MB)\n",
      "8         Modules in train mode\n",
      "0         Modules in eval mode\n",
      "`Trainer.fit` stopped: `max_epochs=50` reached.\n",
      "GPU available: True (mps), used: True\n",
      "TPU available: False, using: 0 TPU cores\n",
      "HPU available: False, using: 0 HPUs\n",
      "\n",
      "  | Name  | Type       | Params | Mode \n",
      "---------------------------------------------\n",
      "0 | model | Sequential | 25.2 K | train\n",
      "---------------------------------------------\n",
      "25.2 K    Trainable params\n",
      "0         Non-trainable params\n",
      "25.2 K    Total params\n",
      "0.101     Total estimated model params size (MB)\n",
      "8         Modules in train mode\n",
      "0         Modules in eval mode\n",
      "`Trainer.fit` stopped: `max_epochs=50` reached.\n"
     ]
    }
   ],
   "source": [
    "results_lightning_std = pipeline.run_experiment(\n",
    "    sku_tuples=sku_tuples,\n",
    "    modeling_strategy=ModelingStrategy.INDIVIDUAL,\n",
    "    model_type=\"lightning_standard\",\n",
    "    hyperparameters={\n",
    "        \"hidden_size\": 128,\n",
    "        \"lr\": 0.001,\n",
    "        \"num_layers\": 2,\n",
    "        \"dropout\": 0.2,\n",
    "        \"max_epochs\": 50,\n",
    "        \"batch_size\": 64,\n",
    "        \"random_state\": 42\n",
    "    },\n",
    "    experiment_name=\"lightning_standard_test\",\n",
    "    evaluate_on_test=True\n",
    ")"
   ]
  },
  {
   "cell_type": "code",
   "execution_count": 4,
   "metadata": {},
   "outputs": [
    {
     "name": "stdout",
     "output_type": "stream",
     "text": [
      "Model type: lightning_standard\n",
      "Strategy: individual\n",
      "SKU tuples: [(81054, 1335)]\n",
      "Quantile level: None\n",
      "RMSE: 17.759819615484293\n"
     ]
    }
   ],
   "source": [
    "sample_result = results_lightning_std.training_results[0]\n",
    "print(f\"Model type: {sample_result.model_type}\")\n",
    "print(f\"Strategy: {sample_result.modeling_strategy.value}\")\n",
    "print(f\"SKU tuples: {sample_result.sku_tuples}\")\n",
    "print(f\"Quantile level: {sample_result.quantile_level}\")\n",
    "if sample_result.performance_metrics:\n",
    "    print(f\"RMSE: {sample_result.performance_metrics.get('rmse', 'N/A')}\")"
   ]
  },
  {
   "cell_type": "code",
   "execution_count": 6,
   "metadata": {},
   "outputs": [
    {
     "ename": "AttributeError",
     "evalue": "'ExperimentResults' object has no attribute 'configurations'",
     "output_type": "error",
     "traceback": [
      "\u001b[0;31m---------------------------------------------------------------------------\u001b[0m",
      "\u001b[0;31mAttributeError\u001b[0m                            Traceback (most recent call last)",
      "Cell \u001b[0;32mIn[6], line 3\u001b[0m\n\u001b[1;32m      1\u001b[0m release_manager \u001b[38;5;241m=\u001b[39m ReleaseManager()\n\u001b[1;32m      2\u001b[0m output_dir \u001b[38;5;241m=\u001b[39m Path(\u001b[38;5;124m\"\u001b[39m\u001b[38;5;124m./lightning_model_releases\u001b[39m\u001b[38;5;124m\"\u001b[39m)\n\u001b[0;32m----> 3\u001b[0m release_path \u001b[38;5;241m=\u001b[39m \u001b[43mrelease_manager\u001b[49m\u001b[38;5;241;43m.\u001b[39;49m\u001b[43mcreate_complete_release\u001b[49m\u001b[43m(\u001b[49m\n\u001b[1;32m      4\u001b[0m \u001b[43m    \u001b[49m\u001b[43mexperiment_results\u001b[49m\u001b[38;5;241;43m=\u001b[39;49m\u001b[43mresults_lightning_std\u001b[49m\u001b[43m,\u001b[49m\u001b[43m  \u001b[49m\u001b[38;5;66;43;03m# Your ExperimentResults from pipeline\u001b[39;49;00m\n\u001b[1;32m      5\u001b[0m \u001b[43m    \u001b[49m\u001b[43mbase_output_dir\u001b[49m\u001b[38;5;241;43m=\u001b[39;49m\u001b[43moutput_dir\u001b[49m\n\u001b[1;32m      6\u001b[0m \u001b[43m  \u001b[49m\u001b[43m)\u001b[49m\n",
      "File \u001b[0;32m~/Documents/PhD/Transformer Research/Code/Benchmarking/src/release_management/release_manager.py:63\u001b[0m, in \u001b[0;36mReleaseManager.create_complete_release\u001b[0;34m(self, experiment_results, base_output_dir)\u001b[0m\n\u001b[1;32m     60\u001b[0m \u001b[38;5;28mself\u001b[39m\u001b[38;5;241m.\u001b[39mstorage_manager \u001b[38;5;241m=\u001b[39m HierarchicalStorageManager(release_dir)\n\u001b[1;32m     62\u001b[0m \u001b[38;5;66;03m# Create release components\u001b[39;00m\n\u001b[0;32m---> 63\u001b[0m \u001b[38;5;28;43mself\u001b[39;49m\u001b[38;5;241;43m.\u001b[39;49m\u001b[43m_create_bundle_json\u001b[49m\u001b[43m(\u001b[49m\u001b[43mexperiment_results\u001b[49m\u001b[43m,\u001b[49m\u001b[43m \u001b[49m\u001b[43mrelease_dir\u001b[49m\u001b[43m)\u001b[49m\n\u001b[1;32m     64\u001b[0m \u001b[38;5;28mself\u001b[39m\u001b[38;5;241m.\u001b[39m_create_models_directory(experiment_results\u001b[38;5;241m.\u001b[39mmodels, release_dir)\n\u001b[1;32m     65\u001b[0m \u001b[38;5;28mself\u001b[39m\u001b[38;5;241m.\u001b[39m_create_metrics_json(experiment_results\u001b[38;5;241m.\u001b[39mevaluation_results, release_dir)\n",
      "File \u001b[0;32m~/Documents/PhD/Transformer Research/Code/Benchmarking/src/release_management/release_manager.py:77\u001b[0m, in \u001b[0;36mReleaseManager._create_bundle_json\u001b[0;34m(self, experiment_results, release_dir)\u001b[0m\n\u001b[1;32m     74\u001b[0m logger\u001b[38;5;241m.\u001b[39mdebug(\u001b[38;5;124m\"\u001b[39m\u001b[38;5;124mCreating bundle.json\u001b[39m\u001b[38;5;124m\"\u001b[39m)\n\u001b[1;32m     76\u001b[0m \u001b[38;5;66;03m# Extract configurations\u001b[39;00m\n\u001b[0;32m---> 77\u001b[0m data_config \u001b[38;5;241m=\u001b[39m \u001b[43mexperiment_results\u001b[49m\u001b[38;5;241;43m.\u001b[39;49m\u001b[43mconfigurations\u001b[49m\u001b[38;5;241m.\u001b[39mget(\u001b[38;5;124m'\u001b[39m\u001b[38;5;124mdata_config\u001b[39m\u001b[38;5;124m'\u001b[39m)\n\u001b[1;32m     78\u001b[0m training_config \u001b[38;5;241m=\u001b[39m experiment_results\u001b[38;5;241m.\u001b[39mconfigurations\u001b[38;5;241m.\u001b[39mget(\u001b[38;5;124m'\u001b[39m\u001b[38;5;124mtraining_config\u001b[39m\u001b[38;5;124m'\u001b[39m)\n\u001b[1;32m     80\u001b[0m \u001b[38;5;66;03m# Build bundle data\u001b[39;00m\n",
      "\u001b[0;31mAttributeError\u001b[0m: 'ExperimentResults' object has no attribute 'configurations'"
     ]
    }
   ],
   "source": [
    "release_manager = ReleaseManager()\n",
    "output_dir = Path(\"./lightning_model_releases\")\n",
    "release_path = release_manager.create_complete_release(\n",
    "    experiment_results=results_lightning_std,  # Your ExperimentResults from pipeline\n",
    "    base_output_dir=output_dir\n",
    "  )\n",
    "\n"
   ]
  },
  {
   "cell_type": "code",
   "execution_count": 7,
   "metadata": {},
   "outputs": [
    {
     "ename": "AttributeError",
     "evalue": "'ExperimentResults' object has no attribute 'configurations'",
     "output_type": "error",
     "traceback": [
      "\u001b[0;31m---------------------------------------------------------------------------\u001b[0m",
      "\u001b[0;31mAttributeError\u001b[0m                            Traceback (most recent call last)",
      "Cell \u001b[0;32mIn[7], line 1\u001b[0m\n\u001b[0;32m----> 1\u001b[0m \u001b[43mresults_lightning_std\u001b[49m\u001b[38;5;241;43m.\u001b[39;49m\u001b[43mconfigurations\u001b[49m\u001b[38;5;241m.\u001b[39mget(\u001b[38;5;124m'\u001b[39m\u001b[38;5;124mdata_config\u001b[39m\u001b[38;5;124m'\u001b[39m)\n",
      "\u001b[0;31mAttributeError\u001b[0m: 'ExperimentResults' object has no attribute 'configurations'"
     ]
    }
   ],
   "source": [
    "results_lightning_std.configurations.get('data_config')"
   ]
  }
 ],
 "metadata": {
  "kernelspec": {
   "display_name": "ml_env",
   "language": "python",
   "name": "python3"
  },
  "language_info": {
   "codemirror_mode": {
    "name": "ipython",
    "version": 3
   },
   "file_extension": ".py",
   "mimetype": "text/x-python",
   "name": "python",
   "nbconvert_exporter": "python",
   "pygments_lexer": "ipython3",
   "version": "3.10.18"
  }
 },
 "nbformat": 4,
 "nbformat_minor": 2
}
