{
 "cells": [
  {
   "cell_type": "code",
   "execution_count": 11,
   "metadata": {
    "execution": {
     "iopub.execute_input": "2025-09-16T22:21:47.124689Z",
     "iopub.status.busy": "2025-09-16T22:21:47.124189Z",
     "iopub.status.idle": "2025-09-16T22:21:49.268316Z",
     "shell.execute_reply": "2025-09-16T22:21:49.268000Z"
    }
   },
   "outputs": [],
   "source": [
    "import sys\n",
    "from pathlib import Path\n",
    "import numpy as np\n",
    "\n",
    "current_dir = Path.cwd()\n",
    "if str(current_dir) not in sys.path:\n",
    "    sys.path.insert(0, str(current_dir))\n",
    "\n",
    "from src import (\n",
    "    DataConfig, ModelingStrategy, BenchmarkPipeline, create_config\n",
    ")\n",
    "\n",
    "np.random.seed(42)"
   ]
  },
  {
   "cell_type": "code",
   "execution_count": 12,
   "metadata": {},
   "outputs": [],
   "source": [
    "multi_sku_tuples = [(81054, 1334), (80558, 1334)]\n",
    "quantile_alphas=[0.5, 0.7, 0.9]"
   ]
  },
  {
   "cell_type": "code",
   "execution_count": 13,
   "metadata": {
    "execution": {
     "iopub.execute_input": "2025-09-16T22:21:49.270011Z",
     "iopub.status.busy": "2025-09-16T22:21:49.269858Z",
     "iopub.status.idle": "2025-09-16T22:21:49.271663Z",
     "shell.execute_reply": "2025-09-16T22:21:49.271456Z"
    }
   },
   "outputs": [],
   "source": [
    "data_config = DataConfig(\n",
    "    features_path=\"data/processed/train_data_features.feather\",\n",
    "    target_path=\"data/train_data_target.feather\",\n",
    "    mapping_path=\"data/feature_mapping_train.pkl\"\n",
    ")\n",
    "\n",
    "pipeline = BenchmarkPipeline(data_config)"
   ]
  },
  {
   "cell_type": "code",
   "execution_count": 14,
   "metadata": {
    "execution": {
     "iopub.execute_input": "2025-09-16T22:21:49.711827Z",
     "iopub.status.busy": "2025-09-16T22:21:49.711703Z",
     "iopub.status.idle": "2025-09-16T22:21:50.090470Z",
     "shell.execute_reply": "2025-09-16T22:21:50.090202Z"
    }
   },
   "outputs": [
    {
     "name": "stdout",
     "output_type": "stream",
     "text": [
      "Trained 6 XGBoost quantile model(s)\n"
     ]
    }
   ],
   "source": [
    "results_xgb_quantile = pipeline.run_experiment(\n",
    "    sku_tuples=multi_sku_tuples,\n",
    "    modeling_strategy=ModelingStrategy.INDIVIDUAL,\n",
    "    model_type=\"xgboost_quantile\",\n",
    "    hyperparameters={\n",
    "        \"n_estimators\": 100,\n",
    "        \"max_depth\": 6,\n",
    "        \"learning_rate\": 0.3,\n",
    "        \"random_state\": 42\n",
    "    },\n",
    "    quantile_alphas=[0.5, 0.7, 0.9],\n",
    "    experiment_name=\"xgb_quantile_test\"\n",
    ")\n",
    "\n",
    "print(f\"Trained {results_xgb_quantile.num_models} XGBoost quantile model(s)\")"
   ]
  },
  {
   "cell_type": "code",
   "execution_count": 15,
   "metadata": {
    "execution": {
     "iopub.execute_input": "2025-09-16T22:21:54.174933Z",
     "iopub.status.busy": "2025-09-16T22:21:54.174849Z",
     "iopub.status.idle": "2025-09-16T22:21:54.176913Z",
     "shell.execute_reply": "2025-09-16T22:21:54.176703Z"
    }
   },
   "outputs": [
    {
     "name": "stdout",
     "output_type": "stream",
     "text": [
      "Model type: xgboost_quantile\n",
      "Strategy: individual\n",
      "SKU tuples: [(80558, 1334)]\n",
      "Quantile level: 0.9\n",
      "Training loss: None\n",
      "RMSE: N/A\n",
      "Coverage: 0.18251928020565553\n"
     ]
    }
   ],
   "source": [
    "sample_result = results_xgb_quantile.training_results[5]\n",
    "print(f\"Model type: {sample_result.model_type}\")\n",
    "print(f\"Strategy: {sample_result.modeling_strategy.value}\")\n",
    "print(f\"SKU tuples: {sample_result.sku_tuples}\")\n",
    "print(f\"Quantile level: {sample_result.quantile_level}\")\n",
    "print(f\"Training loss: {sample_result.training_loss}\")\n",
    "if sample_result.performance_metrics:\n",
    "    print(f\"RMSE: {sample_result.performance_metrics.get('rmse', 'N/A')}\")\n",
    "    print(f\"Coverage: {sample_result.performance_metrics.get('coverage_probability', 'N/A')}\")"
   ]
  },
  {
   "cell_type": "code",
   "execution_count": null,
   "metadata": {},
   "outputs": [],
   "source": []
  }
 ],
 "metadata": {
  "kernelspec": {
   "display_name": "ml_env",
   "language": "python",
   "name": "python3"
  },
  "language_info": {
   "codemirror_mode": {
    "name": "ipython",
    "version": 3
   },
   "file_extension": ".py",
   "mimetype": "text/x-python",
   "name": "python",
   "nbconvert_exporter": "python",
   "pygments_lexer": "ipython3",
   "version": "3.10.18"
  }
 },
 "nbformat": 4,
 "nbformat_minor": 2
}
