{
 "cells": [
  {
   "cell_type": "code",
   "execution_count": null,
   "id": "738e6be0",
   "metadata": {},
   "outputs": [
    {
     "data": {
      "text/html": [
       "\n",
       "            <div id=\"ADAicK\"></div>\n",
       "            <script type=\"text/javascript\" data-lets-plot-script=\"library\">\n",
       "                if(!window.letsPlotCallQueue) {\n",
       "                    window.letsPlotCallQueue = [];\n",
       "                }; \n",
       "                window.letsPlotCall = function(f) {\n",
       "                    window.letsPlotCallQueue.push(f);\n",
       "                };\n",
       "                (function() {\n",
       "                    var script = document.createElement(\"script\");\n",
       "                    script.type = \"text/javascript\";\n",
       "                    script.src = \"https://cdn.jsdelivr.net/gh/JetBrains/lets-plot@v4.6.2/js-package/distr/lets-plot.min.js\";\n",
       "                    script.onload = function() {\n",
       "                        window.letsPlotCall = function(f) {f();};\n",
       "                        window.letsPlotCallQueue.forEach(function(f) {f();});\n",
       "                        window.letsPlotCallQueue = [];\n",
       "                        \n",
       "                    };\n",
       "                    script.onerror = function(event) {\n",
       "                        window.letsPlotCall = function(f) {};    // noop\n",
       "                        window.letsPlotCallQueue = [];\n",
       "                        var div = document.createElement(\"div\");\n",
       "                        div.style.color = 'darkred';\n",
       "                        div.textContent = 'Error loading Lets-Plot JS';\n",
       "                        document.getElementById(\"ADAicK\").appendChild(div);\n",
       "                    };\n",
       "                    var e = document.getElementById(\"ADAicK\");\n",
       "                    e.appendChild(script);\n",
       "                })()\n",
       "            </script>\n",
       "            "
      ]
     },
     "metadata": {},
     "output_type": "display_data"
    },
    {
     "name": "stdout",
     "output_type": "stream",
     "text": [
      "Framework imported successfully!\n",
      "Polars version: 1.31.0\n",
      "XGBoost version: 3.0.2\n"
     ]
    }
   ],
   "source": [
    "# Standard library imports\n",
    "import logging\n",
    "from pathlib import Path\n",
    "import numpy as np\n",
    "import pandas as pd\n",
    "import polars as pl\n",
    "\n",
    "# ML libraries (same as original notebook)\n",
    "import xgboost as xgb\n",
    "import optuna\n",
    "from sklearn.metrics import mean_squared_error, r2_score\n",
    "from sklearn.model_selection import TimeSeriesSplit\n",
    "\n",
    "# Visualization (same as original notebook)\n",
    "from lets_plot import *\n",
    "LetsPlot.setup_html()\n",
    "\n",
    "# Import our new framework components\n",
    "from src import (\n",
    "    # Core data structures\n",
    "    DataConfig, TrainingConfig, GranularityLevel,\n",
    "    ModelMetadata, BenchmarkModel, ModelRegistry,\n",
    "    \n",
    "    # Main classes\n",
    "    DataLoader, FeatureEngineer, ModelTrainer,\n",
    "    ModelEvaluator, VisualizationGenerator,\n",
    "    \n",
    "    # Pipeline orchestration\n",
    "    BenchmarkPipeline\n",
    ")\n",
    "\n",
    "# Setup logging\n",
    "logging.basicConfig(level=logging.INFO, format='%(asctime)s - %(levelname)s - %(message)s')\n",
    "logger = logging.getLogger(__name__)\n",
    "\n",
    "print(\"Framework imported successfully!\")\n",
    "print(f\"Polars version: {pl.__version__}\")\n",
    "print(f\"XGBoost version: {xgb.__version__}\")"
   ]
  },
  {
   "cell_type": "code",
   "execution_count": 4,
   "id": "0a4fab64",
   "metadata": {},
   "outputs": [],
   "source": [
    "# FIXED: Add data file existence checks\n",
    "data_dir = Path(\"data\")\n",
    "features_path = data_dir / \"train_data_features.feather\"\n",
    "target_path = data_dir / \"train_data_target.feather\"\n",
    "mapping_path = data_dir / \"feature_mapping_train.pkl\""
   ]
  },
  {
   "cell_type": "code",
   "execution_count": 6,
   "id": "4778c337",
   "metadata": {},
   "outputs": [
    {
     "name": "stdout",
     "output_type": "stream",
     "text": [
      "[]\n"
     ]
    }
   ],
   "source": [
    "\n",
    "# Verify paths exist\n",
    "missing_files = []\n",
    "for path in [features_path, target_path, mapping_path]:\n",
    "    if not path.exists():\n",
    "        missing_files.append(str(path))\n",
    "\n",
    "print(missing_files)"
   ]
  },
  {
   "cell_type": "code",
   "execution_count": 7,
   "id": "ff31f164",
   "metadata": {},
   "outputs": [],
   "source": [
    "data_config = DataConfig(\n",
    "    features_path=str(features_path),\n",
    "    target_path=str(target_path), \n",
    "    mapping_path=str(mapping_path),\n",
    "    date_column=\"date\",\n",
    "    target_column=\"target\",\n",
    "    bdid_column=\"bdID\",\n",
    "    \n",
    "    # Feature engineering configuration (matches original notebook)\n",
    "    remove_not_for_sale=True,\n",
    "    lag_features=[1, 2, 3, 4, 5, 6, 7],  # Same as notebook\n",
    "    calendric_features=True,\n",
    "    trend_features=True\n",
    ")"
   ]
  },
  {
   "cell_type": "code",
   "execution_count": 8,
   "id": "79c59930",
   "metadata": {},
   "outputs": [],
   "source": [
    "# Use faster configuration for demo\n",
    "demo_training_config = TrainingConfig(\n",
    "    validation_split=0.2,\n",
    "    n_trials=50,  # Very fast for demo\n",
    "    model_type=\"xgboost\"\n",
    ")"
   ]
  },
  {
   "cell_type": "code",
   "execution_count": 9,
   "id": "b6549e32",
   "metadata": {},
   "outputs": [
    {
     "name": "stdout",
     "output_type": "stream",
     "text": [
      "Configuration setup complete!\n",
      "Data directory: data\n",
      "Files exist: Features=True, Target=True, Mapping=True\n",
      "Lag features: [1, 2, 3, 4, 5, 6, 7]\n",
      "Training trials: 50\n"
     ]
    }
   ],
   "source": [
    "print(\"Configuration setup complete!\")\n",
    "print(f\"Data directory: {data_dir}\")\n",
    "print(f\"Files exist: Features={features_path.exists()}, Target={target_path.exists()}, Mapping={mapping_path.exists()}\")\n",
    "print(f\"Lag features: {data_config.lag_features}\")\n",
    "print(f\"Training trials: {demo_training_config.n_trials}\")"
   ]
  },
  {
   "cell_type": "code",
   "execution_count": 15,
   "id": "c6b01ea6",
   "metadata": {},
   "outputs": [],
   "source": [
    "loader = DataLoader(data_config)"
   ]
  },
  {
   "cell_type": "code",
   "execution_count": 17,
   "id": "5a8bf544",
   "metadata": {},
   "outputs": [
    {
     "name": "stderr",
     "output_type": "stream",
     "text": [
      "2025-07-28 16:34:47,727 - INFO - Loading M5 dataset...\n",
      "2025-07-28 16:34:47,731 - INFO - Data loading completed\n"
     ]
    }
   ],
   "source": [
    "features, target, mapping = loader.load_data()"
   ]
  },
  {
   "cell_type": "code",
   "execution_count": 22,
   "id": "d665956e",
   "metadata": {},
   "outputs": [
    {
     "data": {
      "text/html": [
       "<i>naive plan: (run <b>LazyFrame.explain(optimized=True)</b> to see the optimized plan)</i>\n",
       "    <p></p>\n",
       "    <div>SLICE[offset: 0, len: 5]<p></p>  FILTER [(col(\"not_for_sale\")) != (1.0)]<p></p>  FROM<p></p>    Ipc SCAN [data/train_data_features.feather] [id: 4703893456]<p></p>    PROJECT */53 COLUMNS</div>"
      ],
      "text/plain": [
       "<LazyFrame at 0x3180B7160>"
      ]
     },
     "execution_count": 22,
     "metadata": {},
     "output_type": "execute_result"
    }
   ],
   "source": [
    "features.head()"
   ]
  },
  {
   "cell_type": "code",
   "execution_count": null,
   "id": "1681acac",
   "metadata": {},
   "outputs": [
    {
     "data": {
      "text/html": [
       "\n",
       "            <div id=\"jHchWJ\"></div>\n",
       "            <script type=\"text/javascript\" data-lets-plot-script=\"library\">\n",
       "                if(!window.letsPlotCallQueue) {\n",
       "                    window.letsPlotCallQueue = [];\n",
       "                }; \n",
       "                window.letsPlotCall = function(f) {\n",
       "                    window.letsPlotCallQueue.push(f);\n",
       "                };\n",
       "                (function() {\n",
       "                    var script = document.createElement(\"script\");\n",
       "                    script.type = \"text/javascript\";\n",
       "                    script.src = \"https://cdn.jsdelivr.net/gh/JetBrains/lets-plot@v4.6.2/js-package/distr/lets-plot.min.js\";\n",
       "                    script.onload = function() {\n",
       "                        window.letsPlotCall = function(f) {f();};\n",
       "                        window.letsPlotCallQueue.forEach(function(f) {f();});\n",
       "                        window.letsPlotCallQueue = [];\n",
       "                        \n",
       "                    };\n",
       "                    script.onerror = function(event) {\n",
       "                        window.letsPlotCall = function(f) {};    // noop\n",
       "                        window.letsPlotCallQueue = [];\n",
       "                        var div = document.createElement(\"div\");\n",
       "                        div.style.color = 'darkred';\n",
       "                        div.textContent = 'Error loading Lets-Plot JS';\n",
       "                        document.getElementById(\"jHchWJ\").appendChild(div);\n",
       "                    };\n",
       "                    var e = document.getElementById(\"jHchWJ\");\n",
       "                    e.appendChild(script);\n",
       "                })()\n",
       "            </script>\n",
       "            "
      ]
     },
     "metadata": {},
     "output_type": "display_data"
    }
   ],
   "source": [
    "pipeline = BenchmarkPipeline(\n",
    "    data_config=data_config,\n",
    "    training_config=demo_training_config,\n",
    "    output_dir=Path(\"pipeline_demo_results\")\n",
    ")"
   ]
  },
  {
   "cell_type": "code",
   "execution_count": 11,
   "id": "d73002c0",
   "metadata": {},
   "outputs": [
    {
     "name": "stderr",
     "output_type": "stream",
     "text": [
      "2025-07-27 21:40:20,121 - INFO - Loading and preparing M5 dataset...\n",
      "2025-07-27 21:40:20,123 - INFO - Loading M5 dataset...\n",
      "2025-07-27 21:40:50,360 - INFO - Data loading completed\n",
      "2025-07-27 21:40:50,380 - INFO - Data loading completed\n"
     ]
    }
   ],
   "source": [
    "# Load data once\n",
    "pipeline.load_and_prepare_data()"
   ]
  },
  {
   "cell_type": "code",
   "execution_count": 12,
   "id": "9575538e",
   "metadata": {},
   "outputs": [],
   "source": [
    "demo_product_id = 80558"
   ]
  },
  {
   "cell_type": "code",
   "execution_count": 13,
   "id": "611cf4f2",
   "metadata": {},
   "outputs": [
    {
     "name": "stderr",
     "output_type": "stream",
     "text": [
      "2025-07-27 21:41:31,362 - INFO - Running experiment: pipeline_demo\n",
      "2025-07-27 21:41:31,429 - INFO - Creating dummy variables for 10 SKUs in this product\n"
     ]
    },
    {
     "name": "stdout",
     "output_type": "stream",
     "text": [
      "\n",
      "Running complete pipeline for Product 80558...\n"
     ]
    },
    {
     "name": "stderr",
     "output_type": "stream",
     "text": [
      "2025-07-27 21:41:32,302 - INFO - Creating features for product level\n",
      "2025-07-27 21:41:32,337 - INFO - Created 148 features\n",
      "2025-07-27 21:41:32,341 - INFO - Prepared data: 19400 samples, 148 features\n",
      "2025-07-27 21:41:32,342 - INFO - Dataset prepared: 19400 samples, 148 features\n",
      "2025-07-27 21:41:32,345 - INFO - Created temporal split: 15520 train, 3880 validation\n",
      "2025-07-27 21:41:32,345 - INFO - Split date: 2015-05-01\n",
      "2025-07-27 21:41:32,350 - INFO - Training xgboost model for product level\n",
      "[I 2025-07-27 21:41:32,355] A new study created in memory with name: no-name-7892fda4-5f11-4c60-a314-7dc13c846328\n",
      "[I 2025-07-27 21:41:33,932] Trial 0 finished with value: 593.9608247422681 and parameters: {'n_estimators': 165, 'max_depth': 15, 'learning_rate': 0.4133089014532649, 'subsample': 0.9597929851326465, 'colsample_bytree': 0.8100354497196494, 'reg_alpha': 1.1301871337581892, 'reg_lambda': 9.018074936276102}. Best is trial 0 with value: 593.9608247422681.\n",
      "[I 2025-07-27 21:41:34,803] Trial 1 finished with value: 544.2515463917525 and parameters: {'n_estimators': 60, 'max_depth': 16, 'learning_rate': 0.11812857229768123, 'subsample': 0.9334769545750486, 'colsample_bytree': 0.8000346974627943, 'reg_alpha': 4.964823451026435, 'reg_lambda': 2.0331880533128346}. Best is trial 1 with value: 544.2515463917525.\n",
      "[I 2025-07-27 21:41:35,456] Trial 2 finished with value: 475.5368556701031 and parameters: {'n_estimators': 71, 'max_depth': 14, 'learning_rate': 0.21199384110596237, 'subsample': 0.8066965152269429, 'colsample_bytree': 0.7505634785823458, 'reg_alpha': 1.4079215522339572, 'reg_lambda': 1.1967732644662785}. Best is trial 2 with value: 475.5368556701031.\n",
      "[I 2025-07-27 21:41:37,601] Trial 3 finished with value: 585.0520618556701 and parameters: {'n_estimators': 193, 'max_depth': 19, 'learning_rate': 0.3300142621536032, 'subsample': 0.8026799896313429, 'colsample_bytree': 0.7913302654602098, 'reg_alpha': 1.767861248154341, 'reg_lambda': 8.193220791486668}. Best is trial 2 with value: 475.5368556701031.\n",
      "[I 2025-07-27 21:41:37,784] Trial 4 finished with value: 398.04896907216494 and parameters: {'n_estimators': 218, 'max_depth': 2, 'learning_rate': 0.2846357757015811, 'subsample': 0.9915231061122144, 'colsample_bytree': 0.785630390559707, 'reg_alpha': 5.57501625162069, 'reg_lambda': 1.666025711045756}. Best is trial 4 with value: 398.04896907216494.\n",
      "[I 2025-07-27 21:41:37,872] Trial 5 finished with value: 426.5095360824742 and parameters: {'n_estimators': 50, 'max_depth': 4, 'learning_rate': 0.06940676527497919, 'subsample': 0.9289026306042344, 'colsample_bytree': 0.9813788958422754, 'reg_alpha': 0.6231386204094747, 'reg_lambda': 4.185536355270925}. Best is trial 4 with value: 398.04896907216494.\n",
      "[I 2025-07-27 21:41:38,080] Trial 6 finished with value: 411.125 and parameters: {'n_estimators': 249, 'max_depth': 2, 'learning_rate': 0.1553311816697474, 'subsample': 0.9177185363054541, 'colsample_bytree': 0.7666856547221965, 'reg_alpha': 6.7838370262419865, 'reg_lambda': 7.298994405556447}. Best is trial 4 with value: 398.04896907216494.\n",
      "[I 2025-07-27 21:41:38,446] Trial 7 finished with value: 414.0742268041237 and parameters: {'n_estimators': 290, 'max_depth': 4, 'learning_rate': 0.3919656490011459, 'subsample': 0.9582093342327579, 'colsample_bytree': 0.7356521299508002, 'reg_alpha': 9.258583459030488, 'reg_lambda': 6.481693604751275}. Best is trial 4 with value: 398.04896907216494.\n",
      "[I 2025-07-27 21:41:38,789] Trial 8 finished with value: 372.28994845360825 and parameters: {'n_estimators': 183, 'max_depth': 6, 'learning_rate': 0.08644360068168287, 'subsample': 0.8329610454608251, 'colsample_bytree': 0.8159548239145615, 'reg_alpha': 0.4807747885305147, 'reg_lambda': 5.123726277218798}. Best is trial 8 with value: 372.28994845360825.\n",
      "[I 2025-07-27 21:41:39,840] Trial 9 finished with value: 515.5306701030928 and parameters: {'n_estimators': 200, 'max_depth': 11, 'learning_rate': 0.20044278031096763, 'subsample': 0.9440205131229573, 'colsample_bytree': 0.7224963788557263, 'reg_alpha': 1.7030673877274183, 'reg_lambda': 5.599262629723536}. Best is trial 8 with value: 372.28994845360825.\n",
      "[I 2025-07-27 21:41:40,328] Trial 10 finished with value: 455.8298969072165 and parameters: {'n_estimators': 133, 'max_depth': 9, 'learning_rate': 0.06040423992709407, 'subsample': 0.7167779786180279, 'colsample_bytree': 0.8932717435016788, 'reg_alpha': 3.8054856112175406, 'reg_lambda': 3.9458508751102546}. Best is trial 8 with value: 372.28994845360825.\n",
      "[I 2025-07-27 21:41:41,002] Trial 11 finished with value: 503.87525773195875 and parameters: {'n_estimators': 228, 'max_depth': 8, 'learning_rate': 0.09726517983566335, 'subsample': 0.8584364916642516, 'colsample_bytree': 0.8766802666325899, 'reg_alpha': 7.234242518060002, 'reg_lambda': 3.1911763296657547}. Best is trial 8 with value: 372.28994845360825.\n",
      "[I 2025-07-27 21:41:41,272] Trial 12 finished with value: 386.1121134020619 and parameters: {'n_estimators': 134, 'max_depth': 6, 'learning_rate': 0.2639767848179775, 'subsample': 0.8382185667392692, 'colsample_bytree': 0.8466732338869225, 'reg_alpha': 3.8685962159510856, 'reg_lambda': 2.6821010250515123}. Best is trial 8 with value: 372.28994845360825.\n",
      "[I 2025-07-27 21:41:41,573] Trial 13 finished with value: 413.130412371134 and parameters: {'n_estimators': 123, 'max_depth': 7, 'learning_rate': 0.0870347563526372, 'subsample': 0.8366250078246112, 'colsample_bytree': 0.850239211494839, 'reg_alpha': 3.6385524910142797, 'reg_lambda': 4.7832054397714}. Best is trial 8 with value: 372.28994845360825.\n",
      "[I 2025-07-27 21:41:41,880] Trial 14 finished with value: 368.27061855670104 and parameters: {'n_estimators': 150, 'max_depth': 6, 'learning_rate': 0.05187391473821311, 'subsample': 0.7414942786611577, 'colsample_bytree': 0.9277669566753918, 'reg_alpha': 3.2908460753022064, 'reg_lambda': 3.002947454728695}. Best is trial 14 with value: 368.27061855670104.\n",
      "[I 2025-07-27 21:41:42,752] Trial 15 finished with value: 505.02268041237113 and parameters: {'n_estimators': 159, 'max_depth': 11, 'learning_rate': 0.05150154012872817, 'subsample': 0.7143163271951932, 'colsample_bytree': 0.9377075197478518, 'reg_alpha': 2.688857361194815, 'reg_lambda': 5.441532655658955}. Best is trial 14 with value: 368.27061855670104.\n",
      "[I 2025-07-27 21:41:42,936] Trial 16 finished with value: 380.4693298969072 and parameters: {'n_estimators': 99, 'max_depth': 5, 'learning_rate': 0.07562677493933341, 'subsample': 0.7576251180954211, 'colsample_bytree': 0.9216926930951802, 'reg_alpha': 0.10578591377147584, 'reg_lambda': 3.328984779545461}. Best is trial 14 with value: 368.27061855670104.\n",
      "[I 2025-07-27 21:41:43,845] Trial 17 finished with value: 543.7335051546391 and parameters: {'n_estimators': 252, 'max_depth': 9, 'learning_rate': 0.1087429052934896, 'subsample': 0.7684151987142158, 'colsample_bytree': 0.9850988127956465, 'reg_alpha': 2.65002655201901, 'reg_lambda': 6.7666914471371}. Best is trial 14 with value: 368.27061855670104.\n",
      "[I 2025-07-27 21:41:45,081] Trial 18 finished with value: 500.0634020618557 and parameters: {'n_estimators': 176, 'max_depth': 12, 'learning_rate': 0.05108803095200936, 'subsample': 0.8824939049633327, 'colsample_bytree': 0.9252049775080625, 'reg_alpha': 2.6077006070584248, 'reg_lambda': 9.932166545319088}. Best is trial 14 with value: 368.27061855670104.\n",
      "[I 2025-07-27 21:41:45,379] Trial 19 finished with value: 387.7984536082474 and parameters: {'n_estimators': 151, 'max_depth': 6, 'learning_rate': 0.13297579426589665, 'subsample': 0.7528132094957034, 'colsample_bytree': 0.8403239969094567, 'reg_alpha': 9.845337150040388, 'reg_lambda': 5.038772419216888}. Best is trial 14 with value: 368.27061855670104.\n",
      "[I 2025-07-27 21:41:45,518] Trial 20 finished with value: 420.5703608247423 and parameters: {'n_estimators': 110, 'max_depth': 3, 'learning_rate': 0.07915672925892737, 'subsample': 0.7911797695285453, 'colsample_bytree': 0.9538905270519376, 'reg_alpha': 0.009597666226568435, 'reg_lambda': 2.29183758882073}. Best is trial 14 with value: 368.27061855670104.\n",
      "[I 2025-07-27 21:41:45,689] Trial 21 finished with value: 381.2365979381443 and parameters: {'n_estimators': 91, 'max_depth': 5, 'learning_rate': 0.06862618017543771, 'subsample': 0.7478121340808225, 'colsample_bytree': 0.9027532761659541, 'reg_alpha': 0.053081543321420094, 'reg_lambda': 3.1049617382205508}. Best is trial 14 with value: 368.27061855670104.\n",
      "[I 2025-07-27 21:41:45,938] Trial 22 finished with value: 381.6899484536082 and parameters: {'n_estimators': 98, 'max_depth': 7, 'learning_rate': 0.07805401851172122, 'subsample': 0.7392899622552712, 'colsample_bytree': 0.8766646642834255, 'reg_alpha': 0.79554372124152, 'reg_lambda': 3.8699311960504046}. Best is trial 14 with value: 368.27061855670104.\n",
      "[I 2025-07-27 21:41:46,278] Trial 23 finished with value: 468.77061855670104 and parameters: {'n_estimators': 83, 'max_depth': 9, 'learning_rate': 0.06076880119209537, 'subsample': 0.7793728450520928, 'colsample_bytree': 0.9511094317970269, 'reg_alpha': 2.5972697407802725, 'reg_lambda': 3.3655958314401166}. Best is trial 14 with value: 368.27061855670104.\n",
      "[I 2025-07-27 21:41:46,591] Trial 24 finished with value: 365.3164948453608 and parameters: {'n_estimators': 189, 'max_depth': 5, 'learning_rate': 0.0945634180542995, 'subsample': 0.8103693415868344, 'colsample_bytree': 0.9153751633835886, 'reg_alpha': 1.892652608975935, 'reg_lambda': 4.582860902123022}. Best is trial 24 with value: 365.3164948453608.\n",
      "[I 2025-07-27 21:41:46,852] Trial 25 finished with value: 377.5257731958763 and parameters: {'n_estimators': 187, 'max_depth': 4, 'learning_rate': 0.09648632476170078, 'subsample': 0.8745706574109842, 'colsample_bytree': 0.8230060742773985, 'reg_alpha': 4.761574926662382, 'reg_lambda': 4.533539455025872}. Best is trial 24 with value: 365.3164948453608.\n",
      "[I 2025-07-27 21:41:47,358] Trial 26 finished with value: 468.15850515463916 and parameters: {'n_estimators': 221, 'max_depth': 7, 'learning_rate': 0.13863980994539957, 'subsample': 0.8232222144410487, 'colsample_bytree': 0.8665242285082209, 'reg_alpha': 2.0889990851517704, 'reg_lambda': 5.981877478494805}. Best is trial 24 with value: 365.3164948453608.\n",
      "[I 2025-07-27 21:41:48,584] Trial 27 finished with value: 527.3541237113402 and parameters: {'n_estimators': 151, 'max_depth': 13, 'learning_rate': 0.06065956062811506, 'subsample': 0.8159561758134775, 'colsample_bytree': 0.9079448151145577, 'reg_alpha': 3.2950806572443567, 'reg_lambda': 4.940914011975641}. Best is trial 24 with value: 365.3164948453608.\n",
      "[I 2025-07-27 21:41:49,538] Trial 28 finished with value: 594.3685567010309 and parameters: {'n_estimators': 206, 'max_depth': 10, 'learning_rate': 0.18079071301129407, 'subsample': 0.8883212176580821, 'colsample_bytree': 0.965330856903497, 'reg_alpha': 4.34936948127379, 'reg_lambda': 7.453397960860947}. Best is trial 24 with value: 365.3164948453608.\n",
      "[I 2025-07-27 21:41:52,441] Trial 29 finished with value: 553.4510309278351 and parameters: {'n_estimators': 249, 'max_depth': 16, 'learning_rate': 0.11028484462896487, 'subsample': 0.7886913613562546, 'colsample_bytree': 0.8097113368327706, 'reg_alpha': 1.0705975391211964, 'reg_lambda': 5.966777198737333}. Best is trial 24 with value: 365.3164948453608.\n",
      "[I 2025-07-27 21:41:52,794] Trial 30 finished with value: 377.865206185567 and parameters: {'n_estimators': 174, 'max_depth': 6, 'learning_rate': 0.09343522436641101, 'subsample': 0.7322966574771302, 'colsample_bytree': 0.8291986801644948, 'reg_alpha': 5.730274572315355, 'reg_lambda': 4.181520250028708}. Best is trial 24 with value: 365.3164948453608.\n",
      "[I 2025-07-27 21:41:53,053] Trial 31 finished with value: 373.6286082474227 and parameters: {'n_estimators': 183, 'max_depth': 4, 'learning_rate': 0.0920691560651567, 'subsample': 0.8674379056089662, 'colsample_bytree': 0.8242094627898664, 'reg_alpha': 5.22805794163638, 'reg_lambda': 4.705626288724935}. Best is trial 24 with value: 365.3164948453608.\n",
      "[I 2025-07-27 21:41:53,252] Trial 32 finished with value: 390.5257731958763 and parameters: {'n_estimators': 173, 'max_depth': 3, 'learning_rate': 0.12951726202079222, 'subsample': 0.9041728786646994, 'colsample_bytree': 0.772587793635031, 'reg_alpha': 5.998724828642629, 'reg_lambda': 5.273117292814803}. Best is trial 24 with value: 365.3164948453608.\n",
      "[I 2025-07-27 21:41:53,487] Trial 33 finished with value: 368.3927835051546 and parameters: {'n_estimators': 140, 'max_depth': 5, 'learning_rate': 0.10789233614415364, 'subsample': 0.8536878389126095, 'colsample_bytree': 0.8678325638526277, 'reg_alpha': 3.1704710848567768, 'reg_lambda': 2.5755905084326938}. Best is trial 24 with value: 365.3164948453608.\n",
      "[I 2025-07-27 21:41:53,891] Trial 34 finished with value: 482.68479381443296 and parameters: {'n_estimators': 142, 'max_depth': 8, 'learning_rate': 0.11525550785627654, 'subsample': 0.8540203291728824, 'colsample_bytree': 0.8929948375017144, 'reg_alpha': 2.104282312575301, 'reg_lambda': 1.2359015779515667}. Best is trial 24 with value: 365.3164948453608.\n",
      "[I 2025-07-27 21:41:56,215] Trial 35 finished with value: 578.7780927835051 and parameters: {'n_estimators': 162, 'max_depth': 19, 'learning_rate': 0.15225525352923855, 'subsample': 0.8321224349701012, 'colsample_bytree': 0.8608918786390003, 'reg_alpha': 3.220746740057354, 'reg_lambda': 2.227004527830037}. Best is trial 24 with value: 365.3164948453608.\n",
      "[I 2025-07-27 21:41:56,429] Trial 36 finished with value: 375.8845360824742 and parameters: {'n_estimators': 121, 'max_depth': 5, 'learning_rate': 0.06538797246812365, 'subsample': 0.8080138994020795, 'colsample_bytree': 0.9227213921128987, 'reg_alpha': 1.365179297605602, 'reg_lambda': 2.626163233802267}. Best is trial 24 with value: 365.3164948453608.\n",
      "[I 2025-07-27 21:41:56,615] Trial 37 finished with value: 430.7737113402062 and parameters: {'n_estimators': 208, 'max_depth': 2, 'learning_rate': 0.10536293711693667, 'subsample': 0.8972750606933467, 'colsample_bytree': 0.8048015937177401, 'reg_alpha': 1.9556861014586937, 'reg_lambda': 1.7611668919652033}. Best is trial 24 with value: 365.3164948453608.\n",
      "[I 2025-07-27 21:41:56,874] Trial 38 finished with value: 397.38221649484535 and parameters: {'n_estimators': 237, 'max_depth': 3, 'learning_rate': 0.08023045721318434, 'subsample': 0.700301373385281, 'colsample_bytree': 0.970599490319431, 'reg_alpha': 0.7540362868458836, 'reg_lambda': 3.563208631844393}. Best is trial 24 with value: 365.3164948453608.\n",
      "[I 2025-07-27 21:41:57,696] Trial 39 finished with value: 530.0827319587629 and parameters: {'n_estimators': 283, 'max_depth': 8, 'learning_rate': 0.12120051488005991, 'subsample': 0.7969680679267087, 'colsample_bytree': 0.9968224126748015, 'reg_alpha': 3.2129474747772004, 'reg_lambda': 2.874143606930082}. Best is trial 24 with value: 365.3164948453608.\n",
      "[I 2025-07-27 21:41:58,015] Trial 40 finished with value: 369.8427835051546 and parameters: {'n_estimators': 196, 'max_depth': 5, 'learning_rate': 0.16764299028916657, 'subsample': 0.8476831093022327, 'colsample_bytree': 0.8832513782482113, 'reg_alpha': 4.370284051519734, 'reg_lambda': 1.3050155402055057}. Best is trial 24 with value: 365.3164948453608.\n",
      "[I 2025-07-27 21:41:58,329] Trial 41 finished with value: 406.39613402061855 and parameters: {'n_estimators': 195, 'max_depth': 5, 'learning_rate': 0.2159221759922568, 'subsample': 0.8431481497069531, 'colsample_bytree': 0.8953872888938255, 'reg_alpha': 4.659080167330771, 'reg_lambda': 1.1397886512234074}. Best is trial 24 with value: 365.3164948453608.\n",
      "[I 2025-07-27 21:41:58,671] Trial 42 finished with value: 484.4984536082474 and parameters: {'n_estimators': 165, 'max_depth': 6, 'learning_rate': 0.17064745998959518, 'subsample': 0.9951307626489476, 'colsample_bytree': 0.8806891332404345, 'reg_alpha': 1.7544396890910474, 'reg_lambda': 1.7892012300606308}. Best is trial 24 with value: 365.3164948453608.\n",
      "[I 2025-07-27 21:41:58,875] Trial 43 finished with value: 403.3118556701031 and parameters: {'n_estimators': 146, 'max_depth': 4, 'learning_rate': 0.2316912846363116, 'subsample': 0.8213636052948208, 'colsample_bytree': 0.9121994180703459, 'reg_alpha': 4.298111567851471, 'reg_lambda': 2.265170121754499}. Best is trial 24 with value: 365.3164948453608.\n",
      "[I 2025-07-27 21:41:59,314] Trial 44 finished with value: 449.82396907216497 and parameters: {'n_estimators': 188, 'max_depth': 7, 'learning_rate': 0.1478072730556062, 'subsample': 0.8539877999361831, 'colsample_bytree': 0.9423392585659398, 'reg_alpha': 6.455329377024116, 'reg_lambda': 1.398786742276883}. Best is trial 24 with value: 365.3164948453608.\n",
      "[I 2025-07-27 21:41:59,552] Trial 45 finished with value: 386.30103092783503 and parameters: {'n_estimators': 213, 'max_depth': 3, 'learning_rate': 0.18155351252080404, 'subsample': 0.8658967671623197, 'colsample_bytree': 0.8622291101802568, 'reg_alpha': 3.87627320061715, 'reg_lambda': 3.8780950604233215}. Best is trial 24 with value: 365.3164948453608.\n",
      "[I 2025-07-27 21:41:59,774] Trial 46 finished with value: 377.4007731958763 and parameters: {'n_estimators': 129, 'max_depth': 5, 'learning_rate': 0.08527153055759855, 'subsample': 0.9125115413487898, 'colsample_bytree': 0.9352019036300808, 'reg_alpha': 3.056164094014627, 'reg_lambda': 4.376184513793317}. Best is trial 24 with value: 365.3164948453608.\n",
      "[I 2025-07-27 21:41:59,951] Trial 47 finished with value: 455.7425257731959 and parameters: {'n_estimators': 198, 'max_depth': 2, 'learning_rate': 0.0725998711609716, 'subsample': 0.772283155933457, 'colsample_bytree': 0.7512821598603504, 'reg_alpha': 8.484958898998268, 'reg_lambda': 2.61285486154965}. Best is trial 24 with value: 365.3164948453608.\n",
      "[I 2025-07-27 21:42:00,645] Trial 48 finished with value: 495.8659793814433 and parameters: {'n_estimators': 157, 'max_depth': 10, 'learning_rate': 0.34668904771852804, 'subsample': 0.8313870017198431, 'colsample_bytree': 0.7032932740624354, 'reg_alpha': 1.37339551442669, 'reg_lambda': 1.9731550397958368}. Best is trial 24 with value: 365.3164948453608.\n",
      "[I 2025-07-27 21:42:01,080] Trial 49 finished with value: 383.5827319587629 and parameters: {'n_estimators': 233, 'max_depth': 6, 'learning_rate': 0.05671284890908344, 'subsample': 0.9782790334713142, 'colsample_bytree': 0.7891536806841422, 'reg_alpha': 2.2988284908671996, 'reg_lambda': 5.857791831786265}. Best is trial 24 with value: 365.3164948453608.\n",
      "2025-07-27 21:42:01,080 - INFO - Best parameters: {'n_estimators': 189, 'max_depth': 5, 'learning_rate': 0.0945634180542995, 'subsample': 0.8103693415868344, 'colsample_bytree': 0.9153751633835886, 'reg_alpha': 1.892652608975935, 'reg_lambda': 4.582860902123022}\n",
      "2025-07-27 21:42:01,081 - INFO - Best validation MSE: 365.3165\n",
      "2025-07-27 21:42:01,376 - INFO - Model training completed. Validation MSE: 374.5603\n",
      "2025-07-27 21:42:01,385 - INFO - Experiment pipeline_demo completed. Model ID: product_80558_xgboost\n"
     ]
    }
   ],
   "source": [
    "# Run a single model experiment with the pipeline\n",
    "print(f\"\\nRunning complete pipeline for Product {demo_product_id}...\")\n",
    "\n",
    "pipeline_model = pipeline.run_single_model_experiment(\n",
    "    granularity=GranularityLevel.PRODUCT,\n",
    "    entity_ids={\"productID\": demo_product_id},\n",
    "    experiment_name=\"pipeline_demo\"\n",
    ")"
   ]
  },
  {
   "cell_type": "code",
   "execution_count": 14,
   "id": "88500c95",
   "metadata": {},
   "outputs": [
    {
     "name": "stderr",
     "output_type": "stream",
     "text": [
      "2025-07-27 21:43:04,939 - INFO - Evaluating all models in registry\n",
      "2025-07-27 21:43:04,941 - INFO - Evaluating all models at sku level\n",
      "2025-07-27 21:43:04,941 - WARNING - No models found for granularity sku\n",
      "2025-07-27 21:43:04,942 - INFO - Evaluating all models at product level\n",
      "2025-07-27 21:43:04,943 - INFO - Comparing 1 models\n",
      "2025-07-27 21:43:04,944 - INFO - Evaluating model: product_80558_xgboost\n",
      "2025-07-27 21:43:04,944 - WARNING - Use evaluate_model_with_data() method instead for notebook usage\n",
      "2025-07-27 21:43:04,945 - INFO - Evaluating all models at store level\n",
      "2025-07-27 21:43:04,945 - WARNING - No models found for granularity store\n",
      "2025-07-27 21:43:04,946 - INFO - Comparing 1 models\n",
      "2025-07-27 21:43:04,946 - INFO - Evaluating model: product_80558_xgboost\n",
      "2025-07-27 21:43:04,947 - WARNING - Use evaluate_model_with_data() method instead for notebook usage\n",
      "2025-07-27 21:43:04,959 - INFO - Report saved to pipeline_demo_results/evaluation_results/product_evaluation_report.md\n",
      "2025-07-27 21:43:04,960 - INFO - Evaluation results saved to pipeline_demo_results/evaluation_results\n",
      "2025-07-27 21:43:04,961 - INFO - Experiment log saved to pipeline_demo_results/experiment_log.json\n"
     ]
    },
    {
     "name": "stdout",
     "output_type": "stream",
     "text": [
      "\n",
      "Experiment Log Summary:\n",
      "  - pipeline_demo: 19400 samples, 148 features\n",
      "    Performance: RMSE 19.353560635664707\n"
     ]
    }
   ],
   "source": [
    "# Evaluate using pipeline\n",
    "pipeline_results = pipeline.evaluate_all_models()\n",
    "\n",
    "# Save experiment log\n",
    "pipeline.save_experiment_log()\n",
    "\n",
    "\n",
    "\n",
    "# Show experiment log preview\n",
    "if pipeline.experiment_log:\n",
    "    print(f\"\\nExperiment Log Summary:\")\n",
    "    for exp in pipeline.experiment_log:\n",
    "        print(f\"  - {exp['experiment_name']}: {exp['n_samples']} samples, {exp['n_features']} features\")\n",
    "        print(f\"    Performance: RMSE {exp['performance'].get('rmse', 'N/A')}\")"
   ]
  }
 ],
 "metadata": {
  "kernelspec": {
   "display_name": "ml_env",
   "language": "python",
   "name": "python3"
  },
  "language_info": {
   "codemirror_mode": {
    "name": "ipython",
    "version": 3
   },
   "file_extension": ".py",
   "mimetype": "text/x-python",
   "name": "python",
   "nbconvert_exporter": "python",
   "pygments_lexer": "ipython3",
   "version": "3.10.18"
  }
 },
 "nbformat": 4,
 "nbformat_minor": 5
}
