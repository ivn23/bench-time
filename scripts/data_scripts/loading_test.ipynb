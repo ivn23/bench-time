{
 "cells": [
  {
   "cell_type": "code",
   "execution_count": 2,
   "id": "4afed249",
   "metadata": {},
   "outputs": [],
   "source": [
    "import polars as pl\n",
    "import pickle \n",
    "from data_functions import create_calendric_features, add_lag_features, add_trend_feature\n",
    "import typing as t"
   ]
  },
  {
   "cell_type": "code",
   "execution_count": 4,
   "id": "9d914ec0",
   "metadata": {},
   "outputs": [],
   "source": [
    "# Define file paths\n",
    "mapping_path = '../../data/feature_mapping_train.pkl'\n",
    "features_path = '../../data/processed/train_data_features.feather'\n",
    "target_path = '../../data/train_data_target.feather'\n",
    "\n",
    "# Load the mapping (pickle file)\n",
    "with open(mapping_path, 'rb') as f:\n",
    "    mapping = pickle.load(f)\n",
    "\n",
    "# Load train_features and train_target from Feather files\n",
    "train_features = pl.read_ipc(features_path)  # Polars uses `read_ipc` for Feather files\n",
    "train_target = pl.read_ipc(target_path)\n",
    "\n",
    "# Convert the mapping (dictionary or list) to a Polars DataFrame\n",
    "feature_mapping = pl.DataFrame(mapping)"
   ]
  },
  {
   "cell_type": "code",
   "execution_count": null,
   "id": "48f297a9",
   "metadata": {},
   "outputs": [],
   "source": []
  },
  {
   "cell_type": "code",
   "execution_count": null,
   "id": "635430cf",
   "metadata": {},
   "outputs": [],
   "source": []
  },
  {
   "cell_type": "code",
   "execution_count": 4,
   "id": "ea7c0a43",
   "metadata": {},
   "outputs": [],
   "source": [
    "df = create_calendric_features(train_features, 'date')\n",
    "df = df.to_dummies(\n",
    "    columns=[\"day_of_week\", \"month\", \"quarter\", \"week_of_year\", \"year\", \"is_weekend\"]\n",
    ")\n",
    "\n",
    "df = add_lag_features(\n",
    "    df,\n",
    "    lags=range(1, 8),\n",
    "    group_by_cols=[\"skuID\", \"frequency\"],\n",
    "    value_col=\"feature_0038\",\n",
    "    date_col=\"date\"\n",
    ")\n",
    "\n",
    "\n",
    "df = df.drop('lag_target_1','feature_0038')\n",
    "df = df.filter(pl.col(\"not_for_sale\") != 1)\n",
    "\n",
    "df = add_trend_feature(df, date_col=\"date\")"
   ]
  },
  {
   "cell_type": "code",
   "execution_count": 5,
   "id": "d4d0ba29",
   "metadata": {},
   "outputs": [
    {
     "data": {
      "text/plain": [
       "(46881677, 143)"
      ]
     },
     "execution_count": 5,
     "metadata": {},
     "output_type": "execute_result"
    }
   ],
   "source": [
    "df.shape"
   ]
  },
  {
   "cell_type": "code",
   "execution_count": 6,
   "id": "e26c8964",
   "metadata": {},
   "outputs": [
    {
     "data": {
      "text/html": [
       "<div><style>\n",
       ".dataframe > thead > tr,\n",
       ".dataframe > tbody > tr {\n",
       "  text-align: right;\n",
       "  white-space: pre-wrap;\n",
       "}\n",
       "</style>\n",
       "<small>shape: (3_049, 2)</small><table border=\"1\" class=\"dataframe\"><thead><tr><th>productID</th><th>mean</th></tr><tr><td>i64</td><td>f64</td></tr></thead><tbody><tr><td>78778</td><td>0.036712</td></tr><tr><td>79731</td><td>0.053758</td></tr><tr><td>79427</td><td>0.055439</td></tr><tr><td>79382</td><td>0.056939</td></tr><tr><td>79617</td><td>0.05807</td></tr><tr><td>&hellip;</td><td>&hellip;</td></tr><tr><td>81055</td><td>20.714691</td></tr><tr><td>81023</td><td>25.647474</td></tr><tr><td>80720</td><td>29.551907</td></tr><tr><td>81054</td><td>48.023351</td></tr><tr><td>80558</td><td>52.434897</td></tr></tbody></table></div>"
      ],
      "text/plain": [
       "shape: (3_049, 2)\n",
       "┌───────────┬───────────┐\n",
       "│ productID ┆ mean      │\n",
       "│ ---       ┆ ---       │\n",
       "│ i64       ┆ f64       │\n",
       "╞═══════════╪═══════════╡\n",
       "│ 78778     ┆ 0.036712  │\n",
       "│ 79731     ┆ 0.053758  │\n",
       "│ 79427     ┆ 0.055439  │\n",
       "│ 79382     ┆ 0.056939  │\n",
       "│ 79617     ┆ 0.05807   │\n",
       "│ …         ┆ …         │\n",
       "│ 81055     ┆ 20.714691 │\n",
       "│ 81023     ┆ 25.647474 │\n",
       "│ 80720     ┆ 29.551907 │\n",
       "│ 81054     ┆ 48.023351 │\n",
       "│ 80558     ┆ 52.434897 │\n",
       "└───────────┴───────────┘"
      ]
     },
     "execution_count": 6,
     "metadata": {},
     "output_type": "execute_result"
    }
   ],
   "source": [
    "(\n",
    "    df.lazy()\n",
    "    .select([\"feature_0038_lag_1\", \"productID\"])\n",
    "    .sort(\"feature_0038_lag_1\")\n",
    "    .drop_nulls()\n",
    "    .group_by(\"productID\")\n",
    "    .agg(pl.col(\"feature_0038_lag_1\").mean().alias(\"mean\"))\n",
    "    .sort(\"mean\")\n",
    "    .collect()\n",
    ")"
   ]
  },
  {
   "cell_type": "code",
   "execution_count": 7,
   "id": "2a72566c",
   "metadata": {},
   "outputs": [
    {
     "data": {
      "text/html": [
       "<div><style>\n",
       ".dataframe > thead > tr,\n",
       ".dataframe > tbody > tr {\n",
       "  text-align: right;\n",
       "  white-space: pre-wrap;\n",
       "}\n",
       "</style>\n",
       "<small>shape: (10, 143)</small><table border=\"1\" class=\"dataframe\"><thead><tr><th>frequency</th><th>idx</th><th>bdID</th><th>base_date</th><th>date</th><th>dateID</th><th>skuID</th><th>productID</th><th>storeID</th><th>companyID</th><th>missing_value</th><th>not_for_sale</th><th>feature_0000</th><th>feature_0001</th><th>feature_0002</th><th>feature_0003</th><th>feature_0004</th><th>feature_0005</th><th>feature_0006</th><th>feature_0007</th><th>feature_0008</th><th>feature_0009</th><th>feature_0010</th><th>feature_0011</th><th>feature_0012</th><th>feature_0013</th><th>feature_0014</th><th>feature_0015</th><th>feature_0016</th><th>feature_0017</th><th>feature_0018</th><th>feature_0019</th><th>feature_0020</th><th>feature_0021</th><th>feature_0022</th><th>feature_0023</th><th>feature_0024</th><th>&hellip;</th><th>week_of_year_42</th><th>week_of_year_43</th><th>week_of_year_44</th><th>week_of_year_45</th><th>week_of_year_46</th><th>week_of_year_47</th><th>week_of_year_48</th><th>week_of_year_49</th><th>week_of_year_5</th><th>week_of_year_50</th><th>week_of_year_51</th><th>week_of_year_52</th><th>week_of_year_53</th><th>week_of_year_6</th><th>week_of_year_7</th><th>week_of_year_8</th><th>week_of_year_9</th><th>year_2011</th><th>year_2012</th><th>year_2013</th><th>year_2014</th><th>year_2015</th><th>year_2016</th><th>is_weekend_false</th><th>is_weekend_true</th><th>quarter_1</th><th>quarter_2</th><th>quarter_3</th><th>quarter_4</th><th>feature_0038_lag_1</th><th>feature_0038_lag_2</th><th>feature_0038_lag_3</th><th>feature_0038_lag_4</th><th>feature_0038_lag_5</th><th>feature_0038_lag_6</th><th>feature_0038_lag_7</th><th>trend</th></tr><tr><td>str</td><td>i64</td><td>i64</td><td>date</td><td>date</td><td>i64</td><td>i64</td><td>i64</td><td>i64</td><td>i64</td><td>f64</td><td>f64</td><td>f64</td><td>f64</td><td>f64</td><td>f64</td><td>f64</td><td>f64</td><td>f64</td><td>f64</td><td>f64</td><td>f64</td><td>f64</td><td>f64</td><td>f64</td><td>f64</td><td>f64</td><td>f64</td><td>f64</td><td>f64</td><td>f64</td><td>f64</td><td>f64</td><td>f64</td><td>f64</td><td>f64</td><td>f64</td><td>&hellip;</td><td>u8</td><td>u8</td><td>u8</td><td>u8</td><td>u8</td><td>u8</td><td>u8</td><td>u8</td><td>u8</td><td>u8</td><td>u8</td><td>u8</td><td>u8</td><td>u8</td><td>u8</td><td>u8</td><td>u8</td><td>u8</td><td>u8</td><td>u8</td><td>u8</td><td>u8</td><td>u8</td><td>u8</td><td>u8</td><td>u8</td><td>u8</td><td>u8</td><td>u8</td><td>f64</td><td>f64</td><td>f64</td><td>f64</td><td>f64</td><td>f64</td><td>f64</td><td>i64</td></tr></thead><tbody><tr><td>&quot;daily&quot;</td><td>19143763</td><td>247356610</td><td>2015-07-07</td><td>2015-07-07</td><td>5667</td><td>263378</td><td>79955</td><td>1330</td><td>22</td><td>0.0</td><td>0.0</td><td>0.0</td><td>0.0</td><td>0.0</td><td>1.0</td><td>0.0</td><td>0.0</td><td>0.0</td><td>0.0</td><td>0.0</td><td>0.0</td><td>0.0</td><td>0.0</td><td>0.0</td><td>0.0</td><td>0.0</td><td>0.0</td><td>0.0</td><td>0.0</td><td>0.0</td><td>0.0</td><td>0.0</td><td>0.0</td><td>0.0</td><td>0.0</td><td>0.0</td><td>&hellip;</td><td>0</td><td>0</td><td>0</td><td>0</td><td>0</td><td>0</td><td>0</td><td>0</td><td>0</td><td>0</td><td>0</td><td>0</td><td>0</td><td>0</td><td>0</td><td>0</td><td>0</td><td>0</td><td>0</td><td>0</td><td>0</td><td>1</td><td>0</td><td>1</td><td>0</td><td>0</td><td>0</td><td>1</td><td>0</td><td>0.0</td><td>0.0</td><td>0.0</td><td>0.0</td><td>0.0</td><td>0.0</td><td>0.0</td><td>1621</td></tr><tr><td>&quot;daily&quot;</td><td>7922152</td><td>226323137</td><td>2013-08-16</td><td>2013-08-16</td><td>4977</td><td>268005</td><td>78484</td><td>1332</td><td>22</td><td>0.0</td><td>0.0</td><td>0.0</td><td>0.0</td><td>0.0</td><td>0.0</td><td>0.0</td><td>0.0</td><td>0.0</td><td>0.0</td><td>0.0</td><td>0.0</td><td>0.0</td><td>0.0</td><td>0.0</td><td>0.0</td><td>0.0</td><td>0.0</td><td>0.0</td><td>0.0</td><td>0.0</td><td>0.0</td><td>0.0</td><td>0.0</td><td>0.0</td><td>0.0</td><td>0.0</td><td>&hellip;</td><td>0</td><td>0</td><td>0</td><td>0</td><td>0</td><td>0</td><td>0</td><td>0</td><td>0</td><td>0</td><td>0</td><td>0</td><td>0</td><td>0</td><td>0</td><td>0</td><td>0</td><td>0</td><td>0</td><td>1</td><td>0</td><td>0</td><td>0</td><td>0</td><td>1</td><td>0</td><td>0</td><td>1</td><td>0</td><td>0.0</td><td>0.0</td><td>0.0</td><td>0.0</td><td>0.0</td><td>0.0</td><td>0.0</td><td>931</td></tr><tr><td>&quot;daily&quot;</td><td>55483932</td><td>211565706</td><td>2012-04-19</td><td>2012-04-19</td><td>4493</td><td>267734</td><td>81262</td><td>1331</td><td>22</td><td>0.0</td><td>0.0</td><td>0.0</td><td>0.0</td><td>0.0</td><td>0.0</td><td>0.0</td><td>0.0</td><td>0.0</td><td>0.0</td><td>0.0</td><td>0.0</td><td>0.0</td><td>0.0</td><td>0.0</td><td>0.0</td><td>0.0</td><td>0.0</td><td>0.0</td><td>0.0</td><td>0.0</td><td>0.0</td><td>0.0</td><td>0.0</td><td>0.0</td><td>0.0</td><td>0.0</td><td>&hellip;</td><td>0</td><td>0</td><td>0</td><td>0</td><td>0</td><td>0</td><td>0</td><td>0</td><td>0</td><td>0</td><td>0</td><td>0</td><td>0</td><td>0</td><td>0</td><td>0</td><td>0</td><td>0</td><td>1</td><td>0</td><td>0</td><td>0</td><td>0</td><td>1</td><td>0</td><td>0</td><td>1</td><td>0</td><td>0</td><td>0.0</td><td>0.0</td><td>1.0</td><td>1.0</td><td>3.0</td><td>1.0</td><td>0.0</td><td>447</td></tr><tr><td>&quot;daily&quot;</td><td>53837436</td><td>254661111</td><td>2016-03-02</td><td>2016-03-02</td><td>5906</td><td>280769</td><td>79052</td><td>1336</td><td>22</td><td>0.0</td><td>0.0</td><td>0.0</td><td>0.0</td><td>0.0</td><td>1.0</td><td>0.0</td><td>0.0</td><td>0.0</td><td>0.0</td><td>0.0</td><td>0.0</td><td>0.0</td><td>0.0</td><td>0.0</td><td>0.0</td><td>0.0</td><td>0.0</td><td>0.0</td><td>0.0</td><td>0.0</td><td>0.0</td><td>0.0</td><td>0.0</td><td>0.0</td><td>0.0</td><td>0.0</td><td>&hellip;</td><td>0</td><td>0</td><td>0</td><td>0</td><td>0</td><td>0</td><td>0</td><td>0</td><td>0</td><td>0</td><td>0</td><td>0</td><td>0</td><td>0</td><td>0</td><td>0</td><td>1</td><td>0</td><td>0</td><td>0</td><td>0</td><td>0</td><td>1</td><td>1</td><td>0</td><td>1</td><td>0</td><td>0</td><td>0</td><td>0.0</td><td>2.0</td><td>3.0</td><td>0.0</td><td>2.0</td><td>1.0</td><td>1.0</td><td>1860</td></tr><tr><td>&quot;daily&quot;</td><td>30370574</td><td>249411164</td><td>2015-09-12</td><td>2015-09-12</td><td>5734</td><td>275102</td><td>79483</td><td>1334</td><td>22</td><td>0.0</td><td>0.0</td><td>0.0</td><td>0.0</td><td>0.0</td><td>1.0</td><td>0.0</td><td>0.0</td><td>0.0</td><td>0.0</td><td>0.0</td><td>0.0</td><td>0.0</td><td>0.0</td><td>0.0</td><td>0.0</td><td>0.0</td><td>0.0</td><td>0.0</td><td>0.0</td><td>0.0</td><td>0.0</td><td>0.0</td><td>0.0</td><td>0.0</td><td>0.0</td><td>0.0</td><td>&hellip;</td><td>0</td><td>0</td><td>0</td><td>0</td><td>0</td><td>0</td><td>0</td><td>0</td><td>0</td><td>0</td><td>0</td><td>0</td><td>0</td><td>0</td><td>0</td><td>0</td><td>0</td><td>0</td><td>0</td><td>0</td><td>0</td><td>1</td><td>0</td><td>0</td><td>1</td><td>0</td><td>0</td><td>1</td><td>0</td><td>0.0</td><td>0.0</td><td>1.0</td><td>1.0</td><td>0.0</td><td>0.0</td><td>1.0</td><td>1688</td></tr><tr><td>&quot;daily&quot;</td><td>52680817</td><td>202084033</td><td>2011-06-13</td><td>2011-06-13</td><td>4182</td><td>268451</td><td>78930</td><td>1332</td><td>22</td><td>0.0</td><td>0.0</td><td>0.0</td><td>0.0</td><td>0.0</td><td>0.0</td><td>0.0</td><td>0.0</td><td>0.0</td><td>0.0</td><td>0.0</td><td>0.0</td><td>0.0</td><td>0.0</td><td>0.0</td><td>0.0</td><td>0.0</td><td>0.0</td><td>0.0</td><td>0.0</td><td>0.0</td><td>0.0</td><td>0.0</td><td>0.0</td><td>0.0</td><td>0.0</td><td>0.0</td><td>&hellip;</td><td>0</td><td>0</td><td>0</td><td>0</td><td>0</td><td>0</td><td>0</td><td>0</td><td>0</td><td>0</td><td>0</td><td>0</td><td>0</td><td>0</td><td>0</td><td>0</td><td>0</td><td>1</td><td>0</td><td>0</td><td>0</td><td>0</td><td>0</td><td>1</td><td>0</td><td>0</td><td>1</td><td>0</td><td>0</td><td>0.0</td><td>0.0</td><td>0.0</td><td>0.0</td><td>0.0</td><td>0.0</td><td>0.0</td><td>136</td></tr><tr><td>&quot;daily&quot;</td><td>51443341</td><td>228966804</td><td>2013-11-11</td><td>2013-11-11</td><td>5064</td><td>259042</td><td>78668</td><td>1329</td><td>22</td><td>0.0</td><td>0.0</td><td>0.0</td><td>1.0</td><td>0.0</td><td>0.0</td><td>0.0</td><td>0.0</td><td>0.0</td><td>0.0</td><td>0.0</td><td>0.0</td><td>0.0</td><td>0.0</td><td>0.0</td><td>0.0</td><td>0.0</td><td>0.0</td><td>0.0</td><td>0.0</td><td>0.0</td><td>0.0</td><td>0.0</td><td>0.0</td><td>0.0</td><td>0.0</td><td>0.0</td><td>&hellip;</td><td>0</td><td>0</td><td>0</td><td>0</td><td>1</td><td>0</td><td>0</td><td>0</td><td>0</td><td>0</td><td>0</td><td>0</td><td>0</td><td>0</td><td>0</td><td>0</td><td>0</td><td>0</td><td>0</td><td>1</td><td>0</td><td>0</td><td>0</td><td>1</td><td>0</td><td>0</td><td>0</td><td>0</td><td>1</td><td>1.0</td><td>2.0</td><td>0.0</td><td>0.0</td><td>1.0</td><td>1.0</td><td>0.0</td><td>1018</td></tr><tr><td>&quot;daily&quot;</td><td>16199108</td><td>242541649</td><td>2015-01-30</td><td>2015-01-30</td><td>5509</td><td>265837</td><td>79365</td><td>1331</td><td>22</td><td>0.0</td><td>0.0</td><td>0.0</td><td>0.0</td><td>0.0</td><td>0.0</td><td>0.0</td><td>0.0</td><td>0.0</td><td>0.0</td><td>0.0</td><td>0.0</td><td>0.0</td><td>0.0</td><td>0.0</td><td>0.0</td><td>0.0</td><td>0.0</td><td>0.0</td><td>0.0</td><td>0.0</td><td>0.0</td><td>0.0</td><td>0.0</td><td>0.0</td><td>0.0</td><td>0.0</td><td>&hellip;</td><td>0</td><td>0</td><td>0</td><td>0</td><td>0</td><td>0</td><td>0</td><td>0</td><td>1</td><td>0</td><td>0</td><td>0</td><td>0</td><td>0</td><td>0</td><td>0</td><td>0</td><td>0</td><td>0</td><td>0</td><td>0</td><td>1</td><td>0</td><td>0</td><td>1</td><td>1</td><td>0</td><td>0</td><td>0</td><td>0.0</td><td>0.0</td><td>0.0</td><td>1.0</td><td>2.0</td><td>0.0</td><td>0.0</td><td>1463</td></tr><tr><td>&quot;daily&quot;</td><td>52909709</td><td>256811276</td><td>2016-05-12</td><td>2016-05-12</td><td>5977</td><td>266144</td><td>79672</td><td>1331</td><td>22</td><td>0.0</td><td>0.0</td><td>0.0</td><td>0.0</td><td>0.0</td><td>0.0</td><td>0.0</td><td>0.0</td><td>0.0</td><td>0.0</td><td>0.0</td><td>0.0</td><td>0.0</td><td>0.0</td><td>0.0</td><td>0.0</td><td>0.0</td><td>0.0</td><td>0.0</td><td>0.0</td><td>0.0</td><td>0.0</td><td>0.0</td><td>0.0</td><td>0.0</td><td>0.0</td><td>0.0</td><td>&hellip;</td><td>0</td><td>0</td><td>0</td><td>0</td><td>0</td><td>0</td><td>0</td><td>0</td><td>0</td><td>0</td><td>0</td><td>0</td><td>0</td><td>0</td><td>0</td><td>0</td><td>0</td><td>0</td><td>0</td><td>0</td><td>0</td><td>0</td><td>1</td><td>1</td><td>0</td><td>0</td><td>1</td><td>0</td><td>0</td><td>0.0</td><td>0.0</td><td>0.0</td><td>0.0</td><td>0.0</td><td>0.0</td><td>1.0</td><td>1931</td></tr><tr><td>&quot;daily&quot;</td><td>43947197</td><td>228908256</td><td>2013-11-09</td><td>2013-11-09</td><td>5062</td><td>261474</td><td>81100</td><td>1329</td><td>22</td><td>0.0</td><td>0.0</td><td>0.0</td><td>0.0</td><td>0.0</td><td>1.0</td><td>0.0</td><td>0.0</td><td>0.0</td><td>0.0</td><td>0.0</td><td>0.0</td><td>0.0</td><td>0.0</td><td>0.0</td><td>0.0</td><td>0.0</td><td>0.0</td><td>0.0</td><td>0.0</td><td>0.0</td><td>0.0</td><td>0.0</td><td>0.0</td><td>0.0</td><td>0.0</td><td>0.0</td><td>&hellip;</td><td>0</td><td>0</td><td>0</td><td>1</td><td>0</td><td>0</td><td>0</td><td>0</td><td>0</td><td>0</td><td>0</td><td>0</td><td>0</td><td>0</td><td>0</td><td>0</td><td>0</td><td>0</td><td>0</td><td>1</td><td>0</td><td>0</td><td>0</td><td>0</td><td>1</td><td>0</td><td>0</td><td>0</td><td>1</td><td>0.0</td><td>0.0</td><td>0.0</td><td>0.0</td><td>1.0</td><td>0.0</td><td>0.0</td><td>1016</td></tr></tbody></table></div>"
      ],
      "text/plain": [
       "shape: (10, 143)\n",
       "┌───────────┬──────────┬───────────┬────────────┬───┬────────────┬────────────┬────────────┬───────┐\n",
       "│ frequency ┆ idx      ┆ bdID      ┆ base_date  ┆ … ┆ feature_00 ┆ feature_00 ┆ feature_00 ┆ trend │\n",
       "│ ---       ┆ ---      ┆ ---       ┆ ---        ┆   ┆ 38_lag_5   ┆ 38_lag_6   ┆ 38_lag_7   ┆ ---   │\n",
       "│ str       ┆ i64      ┆ i64       ┆ date       ┆   ┆ ---        ┆ ---        ┆ ---        ┆ i64   │\n",
       "│           ┆          ┆           ┆            ┆   ┆ f64        ┆ f64        ┆ f64        ┆       │\n",
       "╞═══════════╪══════════╪═══════════╪════════════╪═══╪════════════╪════════════╪════════════╪═══════╡\n",
       "│ daily     ┆ 19143763 ┆ 247356610 ┆ 2015-07-07 ┆ … ┆ 0.0        ┆ 0.0        ┆ 0.0        ┆ 1621  │\n",
       "│ daily     ┆ 7922152  ┆ 226323137 ┆ 2013-08-16 ┆ … ┆ 0.0        ┆ 0.0        ┆ 0.0        ┆ 931   │\n",
       "│ daily     ┆ 55483932 ┆ 211565706 ┆ 2012-04-19 ┆ … ┆ 3.0        ┆ 1.0        ┆ 0.0        ┆ 447   │\n",
       "│ daily     ┆ 53837436 ┆ 254661111 ┆ 2016-03-02 ┆ … ┆ 2.0        ┆ 1.0        ┆ 1.0        ┆ 1860  │\n",
       "│ daily     ┆ 30370574 ┆ 249411164 ┆ 2015-09-12 ┆ … ┆ 0.0        ┆ 0.0        ┆ 1.0        ┆ 1688  │\n",
       "│ daily     ┆ 52680817 ┆ 202084033 ┆ 2011-06-13 ┆ … ┆ 0.0        ┆ 0.0        ┆ 0.0        ┆ 136   │\n",
       "│ daily     ┆ 51443341 ┆ 228966804 ┆ 2013-11-11 ┆ … ┆ 1.0        ┆ 1.0        ┆ 0.0        ┆ 1018  │\n",
       "│ daily     ┆ 16199108 ┆ 242541649 ┆ 2015-01-30 ┆ … ┆ 2.0        ┆ 0.0        ┆ 0.0        ┆ 1463  │\n",
       "│ daily     ┆ 52909709 ┆ 256811276 ┆ 2016-05-12 ┆ … ┆ 0.0        ┆ 0.0        ┆ 1.0        ┆ 1931  │\n",
       "│ daily     ┆ 43947197 ┆ 228908256 ┆ 2013-11-09 ┆ … ┆ 1.0        ┆ 0.0        ┆ 0.0        ┆ 1016  │\n",
       "└───────────┴──────────┴───────────┴────────────┴───┴────────────┴────────────┴────────────┴───────┘"
      ]
     },
     "execution_count": 7,
     "metadata": {},
     "output_type": "execute_result"
    }
   ],
   "source": [
    "df.sample(n=10, seed=42)"
   ]
  },
  {
   "cell_type": "code",
   "execution_count": 8,
   "id": "9d087e3e",
   "metadata": {},
   "outputs": [],
   "source": [
    "# Save DataFrame to Feather\n",
    "df.write_ipc(\"../data/processed/train_data_features.feather\")  # or \"zstd\" / None\n",
    "\n",
    "# Load DataFrame from Feather\n",
    "df = pl.read_ipc(\"../data/processed/train_data_features.feather\")"
   ]
  },
  {
   "cell_type": "code",
   "execution_count": 9,
   "id": "10e44ae1",
   "metadata": {},
   "outputs": [
    {
     "data": {
      "text/html": [
       "<div><style>\n",
       ".dataframe > thead > tr,\n",
       ".dataframe > tbody > tr {\n",
       "  text-align: right;\n",
       "  white-space: pre-wrap;\n",
       "}\n",
       "</style>\n",
       "<small>shape: (10, 143)</small><table border=\"1\" class=\"dataframe\"><thead><tr><th>frequency</th><th>idx</th><th>bdID</th><th>base_date</th><th>date</th><th>dateID</th><th>skuID</th><th>productID</th><th>storeID</th><th>companyID</th><th>missing_value</th><th>not_for_sale</th><th>feature_0000</th><th>feature_0001</th><th>feature_0002</th><th>feature_0003</th><th>feature_0004</th><th>feature_0005</th><th>feature_0006</th><th>feature_0007</th><th>feature_0008</th><th>feature_0009</th><th>feature_0010</th><th>feature_0011</th><th>feature_0012</th><th>feature_0013</th><th>feature_0014</th><th>feature_0015</th><th>feature_0016</th><th>feature_0017</th><th>feature_0018</th><th>feature_0019</th><th>feature_0020</th><th>feature_0021</th><th>feature_0022</th><th>feature_0023</th><th>feature_0024</th><th>&hellip;</th><th>week_of_year_42</th><th>week_of_year_43</th><th>week_of_year_44</th><th>week_of_year_45</th><th>week_of_year_46</th><th>week_of_year_47</th><th>week_of_year_48</th><th>week_of_year_49</th><th>week_of_year_5</th><th>week_of_year_50</th><th>week_of_year_51</th><th>week_of_year_52</th><th>week_of_year_53</th><th>week_of_year_6</th><th>week_of_year_7</th><th>week_of_year_8</th><th>week_of_year_9</th><th>year_2011</th><th>year_2012</th><th>year_2013</th><th>year_2014</th><th>year_2015</th><th>year_2016</th><th>is_weekend_false</th><th>is_weekend_true</th><th>quarter_1</th><th>quarter_2</th><th>quarter_3</th><th>quarter_4</th><th>feature_0038_lag_1</th><th>feature_0038_lag_2</th><th>feature_0038_lag_3</th><th>feature_0038_lag_4</th><th>feature_0038_lag_5</th><th>feature_0038_lag_6</th><th>feature_0038_lag_7</th><th>trend</th></tr><tr><td>str</td><td>i64</td><td>i64</td><td>date</td><td>date</td><td>i64</td><td>i64</td><td>i64</td><td>i64</td><td>i64</td><td>f64</td><td>f64</td><td>f64</td><td>f64</td><td>f64</td><td>f64</td><td>f64</td><td>f64</td><td>f64</td><td>f64</td><td>f64</td><td>f64</td><td>f64</td><td>f64</td><td>f64</td><td>f64</td><td>f64</td><td>f64</td><td>f64</td><td>f64</td><td>f64</td><td>f64</td><td>f64</td><td>f64</td><td>f64</td><td>f64</td><td>f64</td><td>&hellip;</td><td>u8</td><td>u8</td><td>u8</td><td>u8</td><td>u8</td><td>u8</td><td>u8</td><td>u8</td><td>u8</td><td>u8</td><td>u8</td><td>u8</td><td>u8</td><td>u8</td><td>u8</td><td>u8</td><td>u8</td><td>u8</td><td>u8</td><td>u8</td><td>u8</td><td>u8</td><td>u8</td><td>u8</td><td>u8</td><td>u8</td><td>u8</td><td>u8</td><td>u8</td><td>f64</td><td>f64</td><td>f64</td><td>f64</td><td>f64</td><td>f64</td><td>f64</td><td>i64</td></tr></thead><tbody><tr><td>&quot;daily&quot;</td><td>19143763</td><td>247356610</td><td>2015-07-07</td><td>2015-07-07</td><td>5667</td><td>263378</td><td>79955</td><td>1330</td><td>22</td><td>0.0</td><td>0.0</td><td>0.0</td><td>0.0</td><td>0.0</td><td>1.0</td><td>0.0</td><td>0.0</td><td>0.0</td><td>0.0</td><td>0.0</td><td>0.0</td><td>0.0</td><td>0.0</td><td>0.0</td><td>0.0</td><td>0.0</td><td>0.0</td><td>0.0</td><td>0.0</td><td>0.0</td><td>0.0</td><td>0.0</td><td>0.0</td><td>0.0</td><td>0.0</td><td>0.0</td><td>&hellip;</td><td>0</td><td>0</td><td>0</td><td>0</td><td>0</td><td>0</td><td>0</td><td>0</td><td>0</td><td>0</td><td>0</td><td>0</td><td>0</td><td>0</td><td>0</td><td>0</td><td>0</td><td>0</td><td>0</td><td>0</td><td>0</td><td>1</td><td>0</td><td>1</td><td>0</td><td>0</td><td>0</td><td>1</td><td>0</td><td>0.0</td><td>0.0</td><td>0.0</td><td>0.0</td><td>0.0</td><td>0.0</td><td>0.0</td><td>1621</td></tr><tr><td>&quot;daily&quot;</td><td>7922152</td><td>226323137</td><td>2013-08-16</td><td>2013-08-16</td><td>4977</td><td>268005</td><td>78484</td><td>1332</td><td>22</td><td>0.0</td><td>0.0</td><td>0.0</td><td>0.0</td><td>0.0</td><td>0.0</td><td>0.0</td><td>0.0</td><td>0.0</td><td>0.0</td><td>0.0</td><td>0.0</td><td>0.0</td><td>0.0</td><td>0.0</td><td>0.0</td><td>0.0</td><td>0.0</td><td>0.0</td><td>0.0</td><td>0.0</td><td>0.0</td><td>0.0</td><td>0.0</td><td>0.0</td><td>0.0</td><td>0.0</td><td>&hellip;</td><td>0</td><td>0</td><td>0</td><td>0</td><td>0</td><td>0</td><td>0</td><td>0</td><td>0</td><td>0</td><td>0</td><td>0</td><td>0</td><td>0</td><td>0</td><td>0</td><td>0</td><td>0</td><td>0</td><td>1</td><td>0</td><td>0</td><td>0</td><td>0</td><td>1</td><td>0</td><td>0</td><td>1</td><td>0</td><td>0.0</td><td>0.0</td><td>0.0</td><td>0.0</td><td>0.0</td><td>0.0</td><td>0.0</td><td>931</td></tr><tr><td>&quot;daily&quot;</td><td>55483932</td><td>211565706</td><td>2012-04-19</td><td>2012-04-19</td><td>4493</td><td>267734</td><td>81262</td><td>1331</td><td>22</td><td>0.0</td><td>0.0</td><td>0.0</td><td>0.0</td><td>0.0</td><td>0.0</td><td>0.0</td><td>0.0</td><td>0.0</td><td>0.0</td><td>0.0</td><td>0.0</td><td>0.0</td><td>0.0</td><td>0.0</td><td>0.0</td><td>0.0</td><td>0.0</td><td>0.0</td><td>0.0</td><td>0.0</td><td>0.0</td><td>0.0</td><td>0.0</td><td>0.0</td><td>0.0</td><td>0.0</td><td>&hellip;</td><td>0</td><td>0</td><td>0</td><td>0</td><td>0</td><td>0</td><td>0</td><td>0</td><td>0</td><td>0</td><td>0</td><td>0</td><td>0</td><td>0</td><td>0</td><td>0</td><td>0</td><td>0</td><td>1</td><td>0</td><td>0</td><td>0</td><td>0</td><td>1</td><td>0</td><td>0</td><td>1</td><td>0</td><td>0</td><td>0.0</td><td>0.0</td><td>1.0</td><td>1.0</td><td>3.0</td><td>1.0</td><td>0.0</td><td>447</td></tr><tr><td>&quot;daily&quot;</td><td>53837436</td><td>254661111</td><td>2016-03-02</td><td>2016-03-02</td><td>5906</td><td>280769</td><td>79052</td><td>1336</td><td>22</td><td>0.0</td><td>0.0</td><td>0.0</td><td>0.0</td><td>0.0</td><td>1.0</td><td>0.0</td><td>0.0</td><td>0.0</td><td>0.0</td><td>0.0</td><td>0.0</td><td>0.0</td><td>0.0</td><td>0.0</td><td>0.0</td><td>0.0</td><td>0.0</td><td>0.0</td><td>0.0</td><td>0.0</td><td>0.0</td><td>0.0</td><td>0.0</td><td>0.0</td><td>0.0</td><td>0.0</td><td>&hellip;</td><td>0</td><td>0</td><td>0</td><td>0</td><td>0</td><td>0</td><td>0</td><td>0</td><td>0</td><td>0</td><td>0</td><td>0</td><td>0</td><td>0</td><td>0</td><td>0</td><td>1</td><td>0</td><td>0</td><td>0</td><td>0</td><td>0</td><td>1</td><td>1</td><td>0</td><td>1</td><td>0</td><td>0</td><td>0</td><td>0.0</td><td>2.0</td><td>3.0</td><td>0.0</td><td>2.0</td><td>1.0</td><td>1.0</td><td>1860</td></tr><tr><td>&quot;daily&quot;</td><td>30370574</td><td>249411164</td><td>2015-09-12</td><td>2015-09-12</td><td>5734</td><td>275102</td><td>79483</td><td>1334</td><td>22</td><td>0.0</td><td>0.0</td><td>0.0</td><td>0.0</td><td>0.0</td><td>1.0</td><td>0.0</td><td>0.0</td><td>0.0</td><td>0.0</td><td>0.0</td><td>0.0</td><td>0.0</td><td>0.0</td><td>0.0</td><td>0.0</td><td>0.0</td><td>0.0</td><td>0.0</td><td>0.0</td><td>0.0</td><td>0.0</td><td>0.0</td><td>0.0</td><td>0.0</td><td>0.0</td><td>0.0</td><td>&hellip;</td><td>0</td><td>0</td><td>0</td><td>0</td><td>0</td><td>0</td><td>0</td><td>0</td><td>0</td><td>0</td><td>0</td><td>0</td><td>0</td><td>0</td><td>0</td><td>0</td><td>0</td><td>0</td><td>0</td><td>0</td><td>0</td><td>1</td><td>0</td><td>0</td><td>1</td><td>0</td><td>0</td><td>1</td><td>0</td><td>0.0</td><td>0.0</td><td>1.0</td><td>1.0</td><td>0.0</td><td>0.0</td><td>1.0</td><td>1688</td></tr><tr><td>&quot;daily&quot;</td><td>52680817</td><td>202084033</td><td>2011-06-13</td><td>2011-06-13</td><td>4182</td><td>268451</td><td>78930</td><td>1332</td><td>22</td><td>0.0</td><td>0.0</td><td>0.0</td><td>0.0</td><td>0.0</td><td>0.0</td><td>0.0</td><td>0.0</td><td>0.0</td><td>0.0</td><td>0.0</td><td>0.0</td><td>0.0</td><td>0.0</td><td>0.0</td><td>0.0</td><td>0.0</td><td>0.0</td><td>0.0</td><td>0.0</td><td>0.0</td><td>0.0</td><td>0.0</td><td>0.0</td><td>0.0</td><td>0.0</td><td>0.0</td><td>&hellip;</td><td>0</td><td>0</td><td>0</td><td>0</td><td>0</td><td>0</td><td>0</td><td>0</td><td>0</td><td>0</td><td>0</td><td>0</td><td>0</td><td>0</td><td>0</td><td>0</td><td>0</td><td>1</td><td>0</td><td>0</td><td>0</td><td>0</td><td>0</td><td>1</td><td>0</td><td>0</td><td>1</td><td>0</td><td>0</td><td>0.0</td><td>0.0</td><td>0.0</td><td>0.0</td><td>0.0</td><td>0.0</td><td>0.0</td><td>136</td></tr><tr><td>&quot;daily&quot;</td><td>51443341</td><td>228966804</td><td>2013-11-11</td><td>2013-11-11</td><td>5064</td><td>259042</td><td>78668</td><td>1329</td><td>22</td><td>0.0</td><td>0.0</td><td>0.0</td><td>1.0</td><td>0.0</td><td>0.0</td><td>0.0</td><td>0.0</td><td>0.0</td><td>0.0</td><td>0.0</td><td>0.0</td><td>0.0</td><td>0.0</td><td>0.0</td><td>0.0</td><td>0.0</td><td>0.0</td><td>0.0</td><td>0.0</td><td>0.0</td><td>0.0</td><td>0.0</td><td>0.0</td><td>0.0</td><td>0.0</td><td>0.0</td><td>&hellip;</td><td>0</td><td>0</td><td>0</td><td>0</td><td>1</td><td>0</td><td>0</td><td>0</td><td>0</td><td>0</td><td>0</td><td>0</td><td>0</td><td>0</td><td>0</td><td>0</td><td>0</td><td>0</td><td>0</td><td>1</td><td>0</td><td>0</td><td>0</td><td>1</td><td>0</td><td>0</td><td>0</td><td>0</td><td>1</td><td>1.0</td><td>2.0</td><td>0.0</td><td>0.0</td><td>1.0</td><td>1.0</td><td>0.0</td><td>1018</td></tr><tr><td>&quot;daily&quot;</td><td>16199108</td><td>242541649</td><td>2015-01-30</td><td>2015-01-30</td><td>5509</td><td>265837</td><td>79365</td><td>1331</td><td>22</td><td>0.0</td><td>0.0</td><td>0.0</td><td>0.0</td><td>0.0</td><td>0.0</td><td>0.0</td><td>0.0</td><td>0.0</td><td>0.0</td><td>0.0</td><td>0.0</td><td>0.0</td><td>0.0</td><td>0.0</td><td>0.0</td><td>0.0</td><td>0.0</td><td>0.0</td><td>0.0</td><td>0.0</td><td>0.0</td><td>0.0</td><td>0.0</td><td>0.0</td><td>0.0</td><td>0.0</td><td>&hellip;</td><td>0</td><td>0</td><td>0</td><td>0</td><td>0</td><td>0</td><td>0</td><td>0</td><td>1</td><td>0</td><td>0</td><td>0</td><td>0</td><td>0</td><td>0</td><td>0</td><td>0</td><td>0</td><td>0</td><td>0</td><td>0</td><td>1</td><td>0</td><td>0</td><td>1</td><td>1</td><td>0</td><td>0</td><td>0</td><td>0.0</td><td>0.0</td><td>0.0</td><td>1.0</td><td>2.0</td><td>0.0</td><td>0.0</td><td>1463</td></tr><tr><td>&quot;daily&quot;</td><td>52909709</td><td>256811276</td><td>2016-05-12</td><td>2016-05-12</td><td>5977</td><td>266144</td><td>79672</td><td>1331</td><td>22</td><td>0.0</td><td>0.0</td><td>0.0</td><td>0.0</td><td>0.0</td><td>0.0</td><td>0.0</td><td>0.0</td><td>0.0</td><td>0.0</td><td>0.0</td><td>0.0</td><td>0.0</td><td>0.0</td><td>0.0</td><td>0.0</td><td>0.0</td><td>0.0</td><td>0.0</td><td>0.0</td><td>0.0</td><td>0.0</td><td>0.0</td><td>0.0</td><td>0.0</td><td>0.0</td><td>0.0</td><td>&hellip;</td><td>0</td><td>0</td><td>0</td><td>0</td><td>0</td><td>0</td><td>0</td><td>0</td><td>0</td><td>0</td><td>0</td><td>0</td><td>0</td><td>0</td><td>0</td><td>0</td><td>0</td><td>0</td><td>0</td><td>0</td><td>0</td><td>0</td><td>1</td><td>1</td><td>0</td><td>0</td><td>1</td><td>0</td><td>0</td><td>0.0</td><td>0.0</td><td>0.0</td><td>0.0</td><td>0.0</td><td>0.0</td><td>1.0</td><td>1931</td></tr><tr><td>&quot;daily&quot;</td><td>43947197</td><td>228908256</td><td>2013-11-09</td><td>2013-11-09</td><td>5062</td><td>261474</td><td>81100</td><td>1329</td><td>22</td><td>0.0</td><td>0.0</td><td>0.0</td><td>0.0</td><td>0.0</td><td>1.0</td><td>0.0</td><td>0.0</td><td>0.0</td><td>0.0</td><td>0.0</td><td>0.0</td><td>0.0</td><td>0.0</td><td>0.0</td><td>0.0</td><td>0.0</td><td>0.0</td><td>0.0</td><td>0.0</td><td>0.0</td><td>0.0</td><td>0.0</td><td>0.0</td><td>0.0</td><td>0.0</td><td>0.0</td><td>&hellip;</td><td>0</td><td>0</td><td>0</td><td>1</td><td>0</td><td>0</td><td>0</td><td>0</td><td>0</td><td>0</td><td>0</td><td>0</td><td>0</td><td>0</td><td>0</td><td>0</td><td>0</td><td>0</td><td>0</td><td>1</td><td>0</td><td>0</td><td>0</td><td>0</td><td>1</td><td>0</td><td>0</td><td>0</td><td>1</td><td>0.0</td><td>0.0</td><td>0.0</td><td>0.0</td><td>1.0</td><td>0.0</td><td>0.0</td><td>1016</td></tr></tbody></table></div>"
      ],
      "text/plain": [
       "shape: (10, 143)\n",
       "┌───────────┬──────────┬───────────┬────────────┬───┬────────────┬────────────┬────────────┬───────┐\n",
       "│ frequency ┆ idx      ┆ bdID      ┆ base_date  ┆ … ┆ feature_00 ┆ feature_00 ┆ feature_00 ┆ trend │\n",
       "│ ---       ┆ ---      ┆ ---       ┆ ---        ┆   ┆ 38_lag_5   ┆ 38_lag_6   ┆ 38_lag_7   ┆ ---   │\n",
       "│ str       ┆ i64      ┆ i64       ┆ date       ┆   ┆ ---        ┆ ---        ┆ ---        ┆ i64   │\n",
       "│           ┆          ┆           ┆            ┆   ┆ f64        ┆ f64        ┆ f64        ┆       │\n",
       "╞═══════════╪══════════╪═══════════╪════════════╪═══╪════════════╪════════════╪════════════╪═══════╡\n",
       "│ daily     ┆ 19143763 ┆ 247356610 ┆ 2015-07-07 ┆ … ┆ 0.0        ┆ 0.0        ┆ 0.0        ┆ 1621  │\n",
       "│ daily     ┆ 7922152  ┆ 226323137 ┆ 2013-08-16 ┆ … ┆ 0.0        ┆ 0.0        ┆ 0.0        ┆ 931   │\n",
       "│ daily     ┆ 55483932 ┆ 211565706 ┆ 2012-04-19 ┆ … ┆ 3.0        ┆ 1.0        ┆ 0.0        ┆ 447   │\n",
       "│ daily     ┆ 53837436 ┆ 254661111 ┆ 2016-03-02 ┆ … ┆ 2.0        ┆ 1.0        ┆ 1.0        ┆ 1860  │\n",
       "│ daily     ┆ 30370574 ┆ 249411164 ┆ 2015-09-12 ┆ … ┆ 0.0        ┆ 0.0        ┆ 1.0        ┆ 1688  │\n",
       "│ daily     ┆ 52680817 ┆ 202084033 ┆ 2011-06-13 ┆ … ┆ 0.0        ┆ 0.0        ┆ 0.0        ┆ 136   │\n",
       "│ daily     ┆ 51443341 ┆ 228966804 ┆ 2013-11-11 ┆ … ┆ 1.0        ┆ 1.0        ┆ 0.0        ┆ 1018  │\n",
       "│ daily     ┆ 16199108 ┆ 242541649 ┆ 2015-01-30 ┆ … ┆ 2.0        ┆ 0.0        ┆ 0.0        ┆ 1463  │\n",
       "│ daily     ┆ 52909709 ┆ 256811276 ┆ 2016-05-12 ┆ … ┆ 0.0        ┆ 0.0        ┆ 1.0        ┆ 1931  │\n",
       "│ daily     ┆ 43947197 ┆ 228908256 ┆ 2013-11-09 ┆ … ┆ 1.0        ┆ 0.0        ┆ 0.0        ┆ 1016  │\n",
       "└───────────┴──────────┴───────────┴────────────┴───┴────────────┴────────────┴────────────┴───────┘"
      ]
     },
     "execution_count": 9,
     "metadata": {},
     "output_type": "execute_result"
    }
   ],
   "source": [
    "df.sample(n=10, seed=42)"
   ]
  }
 ],
 "metadata": {
  "kernelspec": {
   "display_name": "ml_env",
   "language": "python",
   "name": "python3"
  },
  "language_info": {
   "codemirror_mode": {
    "name": "ipython",
    "version": 3
   },
   "file_extension": ".py",
   "mimetype": "text/x-python",
   "name": "python",
   "nbconvert_exporter": "python",
   "pygments_lexer": "ipython3",
   "version": "3.10.18"
  }
 },
 "nbformat": 4,
 "nbformat_minor": 5
}
